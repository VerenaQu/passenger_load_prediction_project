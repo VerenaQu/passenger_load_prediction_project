{
 "cells": [
  {
   "cell_type": "markdown",
   "id": "391afa5e",
   "metadata": {},
   "source": []
  },
  {
   "cell_type": "markdown",
   "id": "f490ccc8",
   "metadata": {},
   "source": [
    "Download der Daten: https://www.transtats.bts.gov/DL_SelectFields.aspx?gnoyr_VQ=GEE&QO_fu146_anzr=Nv4%20Pn44vr45"
   ]
  },
  {
   "cell_type": "code",
   "execution_count": 14,
   "id": "8267bd65",
   "metadata": {},
   "outputs": [],
   "source": [
    "import pandas as pd\n",
    "import numpy as np\n",
    "import matplotlib.pyplot as plt"
   ]
  },
  {
   "cell_type": "markdown",
   "id": "40578c28",
   "metadata": {},
   "source": []
  },
  {
   "cell_type": "code",
   "execution_count": 15,
   "id": "ea9e0018",
   "metadata": {},
   "outputs": [],
   "source": [
    "data = pd.read_csv('../data/flight_data.csv')"
   ]
  },
  {
   "cell_type": "code",
   "execution_count": 16,
   "id": "4dde95fb",
   "metadata": {},
   "outputs": [
    {
     "name": "stdout",
     "output_type": "stream",
     "text": [
      "<class 'pandas.core.frame.DataFrame'>\n",
      "RangeIndex: 440751 entries, 0 to 440750\n",
      "Data columns (total 23 columns):\n",
      " #   Column                Non-Null Count   Dtype  \n",
      "---  ------                --------------   -----  \n",
      " 0   DEPARTURES_SCHEDULED  440751 non-null  float64\n",
      " 1   DEPARTURES_PERFORMED  440751 non-null  float64\n",
      " 2   PAYLOAD               440751 non-null  float64\n",
      " 3   SEATS                 440751 non-null  float64\n",
      " 4   PASSENGERS            440751 non-null  float64\n",
      " 5   FREIGHT               440751 non-null  float64\n",
      " 6   MAIL                  440751 non-null  float64\n",
      " 7   DISTANCE              440751 non-null  float64\n",
      " 8   RAMP_TO_RAMP          440751 non-null  float64\n",
      " 9   AIR_TIME              440751 non-null  float64\n",
      " 10  UNIQUE_CARRIER        440751 non-null  object \n",
      " 11  UNIQUE_CARRIER_NAME   440751 non-null  object \n",
      " 12  CARRIER_GROUP         440751 non-null  int64  \n",
      " 13  ORIGIN_AIRPORT_ID     440751 non-null  int64  \n",
      " 14  ORIGIN                440751 non-null  object \n",
      " 15  ORIGIN_CITY_NAME      440751 non-null  object \n",
      " 16  DEST_AIRPORT_ID       440751 non-null  int64  \n",
      " 17  DEST                  440751 non-null  object \n",
      " 18  DEST_CITY_NAME        440751 non-null  object \n",
      " 19  AIRCRAFT_TYPE         440751 non-null  int64  \n",
      " 20  AIRCRAFT_CONFIG       440751 non-null  int64  \n",
      " 21  YEAR                  440751 non-null  int64  \n",
      " 22  MONTH                 440751 non-null  int64  \n",
      "dtypes: float64(10), int64(7), object(6)\n",
      "memory usage: 77.3+ MB\n"
     ]
    }
   ],
   "source": [
    "data.info()"
   ]
  },
  {
   "cell_type": "code",
   "execution_count": 17,
   "id": "513d87f8",
   "metadata": {},
   "outputs": [
    {
     "data": {
      "application/vnd.microsoft.datawrangler.viewer.v0+json": {
       "columns": [
        {
         "name": "index",
         "rawType": "int64",
         "type": "integer"
        },
        {
         "name": "DEPARTURES_SCHEDULED",
         "rawType": "float64",
         "type": "float"
        },
        {
         "name": "DEPARTURES_PERFORMED",
         "rawType": "float64",
         "type": "float"
        },
        {
         "name": "PAYLOAD",
         "rawType": "float64",
         "type": "float"
        },
        {
         "name": "SEATS",
         "rawType": "float64",
         "type": "float"
        },
        {
         "name": "PASSENGERS",
         "rawType": "float64",
         "type": "float"
        },
        {
         "name": "FREIGHT",
         "rawType": "float64",
         "type": "float"
        },
        {
         "name": "MAIL",
         "rawType": "float64",
         "type": "float"
        },
        {
         "name": "DISTANCE",
         "rawType": "float64",
         "type": "float"
        },
        {
         "name": "RAMP_TO_RAMP",
         "rawType": "float64",
         "type": "float"
        },
        {
         "name": "AIR_TIME",
         "rawType": "float64",
         "type": "float"
        },
        {
         "name": "UNIQUE_CARRIER",
         "rawType": "object",
         "type": "string"
        },
        {
         "name": "UNIQUE_CARRIER_NAME",
         "rawType": "object",
         "type": "string"
        },
        {
         "name": "CARRIER_GROUP",
         "rawType": "int64",
         "type": "integer"
        },
        {
         "name": "ORIGIN_AIRPORT_ID",
         "rawType": "int64",
         "type": "integer"
        },
        {
         "name": "ORIGIN",
         "rawType": "object",
         "type": "string"
        },
        {
         "name": "ORIGIN_CITY_NAME",
         "rawType": "object",
         "type": "string"
        },
        {
         "name": "DEST_AIRPORT_ID",
         "rawType": "int64",
         "type": "integer"
        },
        {
         "name": "DEST",
         "rawType": "object",
         "type": "string"
        },
        {
         "name": "DEST_CITY_NAME",
         "rawType": "object",
         "type": "string"
        },
        {
         "name": "AIRCRAFT_TYPE",
         "rawType": "int64",
         "type": "integer"
        },
        {
         "name": "AIRCRAFT_CONFIG",
         "rawType": "int64",
         "type": "integer"
        },
        {
         "name": "YEAR",
         "rawType": "int64",
         "type": "integer"
        },
        {
         "name": "MONTH",
         "rawType": "int64",
         "type": "integer"
        }
       ],
       "ref": "bc04495d-2360-44c1-a61a-790dd9a9f595",
       "rows": [
        [
         "0",
         "0.0",
         "0.0",
         "0.0",
         "0.0",
         "0.0",
         "0.0",
         "0.0",
         "15.0",
         "0.0",
         "0.0",
         "DL",
         "Delta Air Lines Inc.",
         "3",
         "13930",
         "ORD",
         "Chicago, IL",
         "13232",
         "MDW",
         "Chicago, IL",
         "622",
         "1",
         "2024",
         "10"
        ],
        [
         "1",
         "0.0",
         "0.0",
         "0.0",
         "0.0",
         "0.0",
         "0.0",
         "0.0",
         "17.0",
         "0.0",
         "0.0",
         "NEW",
         "New England Airlines Inc.",
         "1",
         "10613",
         "BID",
         "Block Island, RI",
         "15855",
         "WST",
         "Westerly, RI",
         "79",
         "1",
         "2024",
         "1"
        ],
        [
         "2",
         "0.0",
         "0.0",
         "0.0",
         "0.0",
         "0.0",
         "0.0",
         "0.0",
         "17.0",
         "0.0",
         "0.0",
         "NEW",
         "New England Airlines Inc.",
         "1",
         "10613",
         "BID",
         "Block Island, RI",
         "15855",
         "WST",
         "Westerly, RI",
         "79",
         "1",
         "2024",
         "7"
        ],
        [
         "3",
         "0.0",
         "0.0",
         "0.0",
         "0.0",
         "0.0",
         "0.0",
         "0.0",
         "17.0",
         "0.0",
         "0.0",
         "NEW",
         "New England Airlines Inc.",
         "1",
         "10613",
         "BID",
         "Block Island, RI",
         "15855",
         "WST",
         "Westerly, RI",
         "79",
         "1",
         "2024",
         "8"
        ],
        [
         "4",
         "0.0",
         "0.0",
         "0.0",
         "0.0",
         "0.0",
         "0.0",
         "0.0",
         "17.0",
         "0.0",
         "0.0",
         "NEW",
         "New England Airlines Inc.",
         "1",
         "10613",
         "BID",
         "Block Island, RI",
         "15855",
         "WST",
         "Westerly, RI",
         "79",
         "1",
         "2024",
         "12"
        ]
       ],
       "shape": {
        "columns": 23,
        "rows": 5
       }
      },
      "text/html": [
       "<div>\n",
       "<style scoped>\n",
       "    .dataframe tbody tr th:only-of-type {\n",
       "        vertical-align: middle;\n",
       "    }\n",
       "\n",
       "    .dataframe tbody tr th {\n",
       "        vertical-align: top;\n",
       "    }\n",
       "\n",
       "    .dataframe thead th {\n",
       "        text-align: right;\n",
       "    }\n",
       "</style>\n",
       "<table border=\"1\" class=\"dataframe\">\n",
       "  <thead>\n",
       "    <tr style=\"text-align: right;\">\n",
       "      <th></th>\n",
       "      <th>DEPARTURES_SCHEDULED</th>\n",
       "      <th>DEPARTURES_PERFORMED</th>\n",
       "      <th>PAYLOAD</th>\n",
       "      <th>SEATS</th>\n",
       "      <th>PASSENGERS</th>\n",
       "      <th>FREIGHT</th>\n",
       "      <th>MAIL</th>\n",
       "      <th>DISTANCE</th>\n",
       "      <th>RAMP_TO_RAMP</th>\n",
       "      <th>AIR_TIME</th>\n",
       "      <th>...</th>\n",
       "      <th>ORIGIN_AIRPORT_ID</th>\n",
       "      <th>ORIGIN</th>\n",
       "      <th>ORIGIN_CITY_NAME</th>\n",
       "      <th>DEST_AIRPORT_ID</th>\n",
       "      <th>DEST</th>\n",
       "      <th>DEST_CITY_NAME</th>\n",
       "      <th>AIRCRAFT_TYPE</th>\n",
       "      <th>AIRCRAFT_CONFIG</th>\n",
       "      <th>YEAR</th>\n",
       "      <th>MONTH</th>\n",
       "    </tr>\n",
       "  </thead>\n",
       "  <tbody>\n",
       "    <tr>\n",
       "      <th>0</th>\n",
       "      <td>0.0</td>\n",
       "      <td>0.0</td>\n",
       "      <td>0.0</td>\n",
       "      <td>0.0</td>\n",
       "      <td>0.0</td>\n",
       "      <td>0.0</td>\n",
       "      <td>0.0</td>\n",
       "      <td>15.0</td>\n",
       "      <td>0.0</td>\n",
       "      <td>0.0</td>\n",
       "      <td>...</td>\n",
       "      <td>13930</td>\n",
       "      <td>ORD</td>\n",
       "      <td>Chicago, IL</td>\n",
       "      <td>13232</td>\n",
       "      <td>MDW</td>\n",
       "      <td>Chicago, IL</td>\n",
       "      <td>622</td>\n",
       "      <td>1</td>\n",
       "      <td>2024</td>\n",
       "      <td>10</td>\n",
       "    </tr>\n",
       "    <tr>\n",
       "      <th>1</th>\n",
       "      <td>0.0</td>\n",
       "      <td>0.0</td>\n",
       "      <td>0.0</td>\n",
       "      <td>0.0</td>\n",
       "      <td>0.0</td>\n",
       "      <td>0.0</td>\n",
       "      <td>0.0</td>\n",
       "      <td>17.0</td>\n",
       "      <td>0.0</td>\n",
       "      <td>0.0</td>\n",
       "      <td>...</td>\n",
       "      <td>10613</td>\n",
       "      <td>BID</td>\n",
       "      <td>Block Island, RI</td>\n",
       "      <td>15855</td>\n",
       "      <td>WST</td>\n",
       "      <td>Westerly, RI</td>\n",
       "      <td>79</td>\n",
       "      <td>1</td>\n",
       "      <td>2024</td>\n",
       "      <td>1</td>\n",
       "    </tr>\n",
       "    <tr>\n",
       "      <th>2</th>\n",
       "      <td>0.0</td>\n",
       "      <td>0.0</td>\n",
       "      <td>0.0</td>\n",
       "      <td>0.0</td>\n",
       "      <td>0.0</td>\n",
       "      <td>0.0</td>\n",
       "      <td>0.0</td>\n",
       "      <td>17.0</td>\n",
       "      <td>0.0</td>\n",
       "      <td>0.0</td>\n",
       "      <td>...</td>\n",
       "      <td>10613</td>\n",
       "      <td>BID</td>\n",
       "      <td>Block Island, RI</td>\n",
       "      <td>15855</td>\n",
       "      <td>WST</td>\n",
       "      <td>Westerly, RI</td>\n",
       "      <td>79</td>\n",
       "      <td>1</td>\n",
       "      <td>2024</td>\n",
       "      <td>7</td>\n",
       "    </tr>\n",
       "    <tr>\n",
       "      <th>3</th>\n",
       "      <td>0.0</td>\n",
       "      <td>0.0</td>\n",
       "      <td>0.0</td>\n",
       "      <td>0.0</td>\n",
       "      <td>0.0</td>\n",
       "      <td>0.0</td>\n",
       "      <td>0.0</td>\n",
       "      <td>17.0</td>\n",
       "      <td>0.0</td>\n",
       "      <td>0.0</td>\n",
       "      <td>...</td>\n",
       "      <td>10613</td>\n",
       "      <td>BID</td>\n",
       "      <td>Block Island, RI</td>\n",
       "      <td>15855</td>\n",
       "      <td>WST</td>\n",
       "      <td>Westerly, RI</td>\n",
       "      <td>79</td>\n",
       "      <td>1</td>\n",
       "      <td>2024</td>\n",
       "      <td>8</td>\n",
       "    </tr>\n",
       "    <tr>\n",
       "      <th>4</th>\n",
       "      <td>0.0</td>\n",
       "      <td>0.0</td>\n",
       "      <td>0.0</td>\n",
       "      <td>0.0</td>\n",
       "      <td>0.0</td>\n",
       "      <td>0.0</td>\n",
       "      <td>0.0</td>\n",
       "      <td>17.0</td>\n",
       "      <td>0.0</td>\n",
       "      <td>0.0</td>\n",
       "      <td>...</td>\n",
       "      <td>10613</td>\n",
       "      <td>BID</td>\n",
       "      <td>Block Island, RI</td>\n",
       "      <td>15855</td>\n",
       "      <td>WST</td>\n",
       "      <td>Westerly, RI</td>\n",
       "      <td>79</td>\n",
       "      <td>1</td>\n",
       "      <td>2024</td>\n",
       "      <td>12</td>\n",
       "    </tr>\n",
       "  </tbody>\n",
       "</table>\n",
       "<p>5 rows × 23 columns</p>\n",
       "</div>"
      ],
      "text/plain": [
       "   DEPARTURES_SCHEDULED  DEPARTURES_PERFORMED  PAYLOAD  SEATS  PASSENGERS  \\\n",
       "0                   0.0                   0.0      0.0    0.0         0.0   \n",
       "1                   0.0                   0.0      0.0    0.0         0.0   \n",
       "2                   0.0                   0.0      0.0    0.0         0.0   \n",
       "3                   0.0                   0.0      0.0    0.0         0.0   \n",
       "4                   0.0                   0.0      0.0    0.0         0.0   \n",
       "\n",
       "   FREIGHT  MAIL  DISTANCE  RAMP_TO_RAMP  AIR_TIME  ... ORIGIN_AIRPORT_ID  \\\n",
       "0      0.0   0.0      15.0           0.0       0.0  ...             13930   \n",
       "1      0.0   0.0      17.0           0.0       0.0  ...             10613   \n",
       "2      0.0   0.0      17.0           0.0       0.0  ...             10613   \n",
       "3      0.0   0.0      17.0           0.0       0.0  ...             10613   \n",
       "4      0.0   0.0      17.0           0.0       0.0  ...             10613   \n",
       "\n",
       "  ORIGIN  ORIGIN_CITY_NAME  DEST_AIRPORT_ID DEST DEST_CITY_NAME  \\\n",
       "0    ORD       Chicago, IL            13232  MDW    Chicago, IL   \n",
       "1    BID  Block Island, RI            15855  WST   Westerly, RI   \n",
       "2    BID  Block Island, RI            15855  WST   Westerly, RI   \n",
       "3    BID  Block Island, RI            15855  WST   Westerly, RI   \n",
       "4    BID  Block Island, RI            15855  WST   Westerly, RI   \n",
       "\n",
       "   AIRCRAFT_TYPE AIRCRAFT_CONFIG  YEAR  MONTH  \n",
       "0            622               1  2024     10  \n",
       "1             79               1  2024      1  \n",
       "2             79               1  2024      7  \n",
       "3             79               1  2024      8  \n",
       "4             79               1  2024     12  \n",
       "\n",
       "[5 rows x 23 columns]"
      ]
     },
     "execution_count": 17,
     "metadata": {},
     "output_type": "execute_result"
    }
   ],
   "source": [
    "data.head()"
   ]
  },
  {
   "cell_type": "code",
   "execution_count": 18,
   "id": "31dff216",
   "metadata": {},
   "outputs": [
    {
     "data": {
      "application/vnd.microsoft.datawrangler.viewer.v0+json": {
       "columns": [
        {
         "name": "index",
         "rawType": "int64",
         "type": "integer"
        },
        {
         "name": "DEPARTURES_SCHEDULED",
         "rawType": "float64",
         "type": "float"
        },
        {
         "name": "DEPARTURES_PERFORMED",
         "rawType": "float64",
         "type": "float"
        },
        {
         "name": "PAYLOAD",
         "rawType": "float64",
         "type": "float"
        },
        {
         "name": "SEATS",
         "rawType": "float64",
         "type": "float"
        },
        {
         "name": "PASSENGERS",
         "rawType": "float64",
         "type": "float"
        },
        {
         "name": "FREIGHT",
         "rawType": "float64",
         "type": "float"
        },
        {
         "name": "MAIL",
         "rawType": "float64",
         "type": "float"
        },
        {
         "name": "DISTANCE",
         "rawType": "float64",
         "type": "float"
        },
        {
         "name": "RAMP_TO_RAMP",
         "rawType": "float64",
         "type": "float"
        },
        {
         "name": "AIR_TIME",
         "rawType": "float64",
         "type": "float"
        },
        {
         "name": "UNIQUE_CARRIER",
         "rawType": "object",
         "type": "string"
        },
        {
         "name": "UNIQUE_CARRIER_NAME",
         "rawType": "object",
         "type": "string"
        },
        {
         "name": "CARRIER_GROUP",
         "rawType": "int64",
         "type": "integer"
        },
        {
         "name": "ORIGIN_AIRPORT_ID",
         "rawType": "int64",
         "type": "integer"
        },
        {
         "name": "ORIGIN",
         "rawType": "object",
         "type": "string"
        },
        {
         "name": "ORIGIN_CITY_NAME",
         "rawType": "object",
         "type": "string"
        },
        {
         "name": "DEST_AIRPORT_ID",
         "rawType": "int64",
         "type": "integer"
        },
        {
         "name": "DEST",
         "rawType": "object",
         "type": "string"
        },
        {
         "name": "DEST_CITY_NAME",
         "rawType": "object",
         "type": "string"
        },
        {
         "name": "AIRCRAFT_TYPE",
         "rawType": "int64",
         "type": "integer"
        },
        {
         "name": "AIRCRAFT_CONFIG",
         "rawType": "int64",
         "type": "integer"
        },
        {
         "name": "YEAR",
         "rawType": "int64",
         "type": "integer"
        },
        {
         "name": "MONTH",
         "rawType": "int64",
         "type": "integer"
        }
       ],
       "ref": "26e94511-60a2-44fe-983a-8ccd7e23321f",
       "rows": [
        [
         "440746",
         "989.0",
         "987.0",
         "2902800.0",
         "8892.0",
         "5602.0",
         "8038.0",
         "0.0",
         "59.0",
         "38105.0",
         "28285.0",
         "GV",
         "Grant Aviation",
         "1",
         "10299",
         "ANC",
         "Anchorage, AK",
         "11555",
         "ENA",
         "Kenai, AK",
         "416",
         "1",
         "2024",
         "8"
        ],
        [
         "440747",
         "995.0",
         "994.0",
         "2737200.0",
         "8946.0",
         "7247.0",
         "10718.0",
         "0.0",
         "59.0",
         "37921.0",
         "27463.0",
         "GV",
         "Grant Aviation",
         "1",
         "10299",
         "ANC",
         "Anchorage, AK",
         "11555",
         "ENA",
         "Kenai, AK",
         "416",
         "1",
         "2024",
         "7"
        ],
        [
         "440748",
         "999.0",
         "998.0",
         "2748200.0",
         "8991.0",
         "6631.0",
         "5663.0",
         "0.0",
         "59.0",
         "39218.0",
         "30137.0",
         "GV",
         "Grant Aviation",
         "1",
         "11555",
         "ENA",
         "Kenai, AK",
         "10299",
         "ANC",
         "Anchorage, AK",
         "416",
         "1",
         "2024",
         "7"
        ],
        [
         "440749",
         "1522.0",
         "1522.0",
         "1826400.0",
         "8026.0",
         "5084.0",
         "10340.0",
         "0.0",
         "11.0",
         "17768.0",
         "13202.0",
         "S2",
         "Star Marianas Air Inc.",
         "1",
         "15215",
         "TIQ",
         "Tinian, TT",
         "14955",
         "SPN",
         "Saipan, TT",
         "79",
         "1",
         "2024",
         "7"
        ],
        [
         "440750",
         "1574.0",
         "1574.0",
         "1888800.0",
         "8284.0",
         "5104.0",
         "29100.0",
         "0.0",
         "11.0",
         "20390.0",
         "15668.0",
         "S2",
         "Star Marianas Air Inc.",
         "1",
         "14955",
         "SPN",
         "Saipan, TT",
         "15215",
         "TIQ",
         "Tinian, TT",
         "79",
         "1",
         "2024",
         "7"
        ]
       ],
       "shape": {
        "columns": 23,
        "rows": 5
       }
      },
      "text/html": [
       "<div>\n",
       "<style scoped>\n",
       "    .dataframe tbody tr th:only-of-type {\n",
       "        vertical-align: middle;\n",
       "    }\n",
       "\n",
       "    .dataframe tbody tr th {\n",
       "        vertical-align: top;\n",
       "    }\n",
       "\n",
       "    .dataframe thead th {\n",
       "        text-align: right;\n",
       "    }\n",
       "</style>\n",
       "<table border=\"1\" class=\"dataframe\">\n",
       "  <thead>\n",
       "    <tr style=\"text-align: right;\">\n",
       "      <th></th>\n",
       "      <th>DEPARTURES_SCHEDULED</th>\n",
       "      <th>DEPARTURES_PERFORMED</th>\n",
       "      <th>PAYLOAD</th>\n",
       "      <th>SEATS</th>\n",
       "      <th>PASSENGERS</th>\n",
       "      <th>FREIGHT</th>\n",
       "      <th>MAIL</th>\n",
       "      <th>DISTANCE</th>\n",
       "      <th>RAMP_TO_RAMP</th>\n",
       "      <th>AIR_TIME</th>\n",
       "      <th>...</th>\n",
       "      <th>ORIGIN_AIRPORT_ID</th>\n",
       "      <th>ORIGIN</th>\n",
       "      <th>ORIGIN_CITY_NAME</th>\n",
       "      <th>DEST_AIRPORT_ID</th>\n",
       "      <th>DEST</th>\n",
       "      <th>DEST_CITY_NAME</th>\n",
       "      <th>AIRCRAFT_TYPE</th>\n",
       "      <th>AIRCRAFT_CONFIG</th>\n",
       "      <th>YEAR</th>\n",
       "      <th>MONTH</th>\n",
       "    </tr>\n",
       "  </thead>\n",
       "  <tbody>\n",
       "    <tr>\n",
       "      <th>440746</th>\n",
       "      <td>989.0</td>\n",
       "      <td>987.0</td>\n",
       "      <td>2902800.0</td>\n",
       "      <td>8892.0</td>\n",
       "      <td>5602.0</td>\n",
       "      <td>8038.0</td>\n",
       "      <td>0.0</td>\n",
       "      <td>59.0</td>\n",
       "      <td>38105.0</td>\n",
       "      <td>28285.0</td>\n",
       "      <td>...</td>\n",
       "      <td>10299</td>\n",
       "      <td>ANC</td>\n",
       "      <td>Anchorage, AK</td>\n",
       "      <td>11555</td>\n",
       "      <td>ENA</td>\n",
       "      <td>Kenai, AK</td>\n",
       "      <td>416</td>\n",
       "      <td>1</td>\n",
       "      <td>2024</td>\n",
       "      <td>8</td>\n",
       "    </tr>\n",
       "    <tr>\n",
       "      <th>440747</th>\n",
       "      <td>995.0</td>\n",
       "      <td>994.0</td>\n",
       "      <td>2737200.0</td>\n",
       "      <td>8946.0</td>\n",
       "      <td>7247.0</td>\n",
       "      <td>10718.0</td>\n",
       "      <td>0.0</td>\n",
       "      <td>59.0</td>\n",
       "      <td>37921.0</td>\n",
       "      <td>27463.0</td>\n",
       "      <td>...</td>\n",
       "      <td>10299</td>\n",
       "      <td>ANC</td>\n",
       "      <td>Anchorage, AK</td>\n",
       "      <td>11555</td>\n",
       "      <td>ENA</td>\n",
       "      <td>Kenai, AK</td>\n",
       "      <td>416</td>\n",
       "      <td>1</td>\n",
       "      <td>2024</td>\n",
       "      <td>7</td>\n",
       "    </tr>\n",
       "    <tr>\n",
       "      <th>440748</th>\n",
       "      <td>999.0</td>\n",
       "      <td>998.0</td>\n",
       "      <td>2748200.0</td>\n",
       "      <td>8991.0</td>\n",
       "      <td>6631.0</td>\n",
       "      <td>5663.0</td>\n",
       "      <td>0.0</td>\n",
       "      <td>59.0</td>\n",
       "      <td>39218.0</td>\n",
       "      <td>30137.0</td>\n",
       "      <td>...</td>\n",
       "      <td>11555</td>\n",
       "      <td>ENA</td>\n",
       "      <td>Kenai, AK</td>\n",
       "      <td>10299</td>\n",
       "      <td>ANC</td>\n",
       "      <td>Anchorage, AK</td>\n",
       "      <td>416</td>\n",
       "      <td>1</td>\n",
       "      <td>2024</td>\n",
       "      <td>7</td>\n",
       "    </tr>\n",
       "    <tr>\n",
       "      <th>440749</th>\n",
       "      <td>1522.0</td>\n",
       "      <td>1522.0</td>\n",
       "      <td>1826400.0</td>\n",
       "      <td>8026.0</td>\n",
       "      <td>5084.0</td>\n",
       "      <td>10340.0</td>\n",
       "      <td>0.0</td>\n",
       "      <td>11.0</td>\n",
       "      <td>17768.0</td>\n",
       "      <td>13202.0</td>\n",
       "      <td>...</td>\n",
       "      <td>15215</td>\n",
       "      <td>TIQ</td>\n",
       "      <td>Tinian, TT</td>\n",
       "      <td>14955</td>\n",
       "      <td>SPN</td>\n",
       "      <td>Saipan, TT</td>\n",
       "      <td>79</td>\n",
       "      <td>1</td>\n",
       "      <td>2024</td>\n",
       "      <td>7</td>\n",
       "    </tr>\n",
       "    <tr>\n",
       "      <th>440750</th>\n",
       "      <td>1574.0</td>\n",
       "      <td>1574.0</td>\n",
       "      <td>1888800.0</td>\n",
       "      <td>8284.0</td>\n",
       "      <td>5104.0</td>\n",
       "      <td>29100.0</td>\n",
       "      <td>0.0</td>\n",
       "      <td>11.0</td>\n",
       "      <td>20390.0</td>\n",
       "      <td>15668.0</td>\n",
       "      <td>...</td>\n",
       "      <td>14955</td>\n",
       "      <td>SPN</td>\n",
       "      <td>Saipan, TT</td>\n",
       "      <td>15215</td>\n",
       "      <td>TIQ</td>\n",
       "      <td>Tinian, TT</td>\n",
       "      <td>79</td>\n",
       "      <td>1</td>\n",
       "      <td>2024</td>\n",
       "      <td>7</td>\n",
       "    </tr>\n",
       "  </tbody>\n",
       "</table>\n",
       "<p>5 rows × 23 columns</p>\n",
       "</div>"
      ],
      "text/plain": [
       "        DEPARTURES_SCHEDULED  DEPARTURES_PERFORMED    PAYLOAD   SEATS  \\\n",
       "440746                 989.0                 987.0  2902800.0  8892.0   \n",
       "440747                 995.0                 994.0  2737200.0  8946.0   \n",
       "440748                 999.0                 998.0  2748200.0  8991.0   \n",
       "440749                1522.0                1522.0  1826400.0  8026.0   \n",
       "440750                1574.0                1574.0  1888800.0  8284.0   \n",
       "\n",
       "        PASSENGERS  FREIGHT  MAIL  DISTANCE  RAMP_TO_RAMP  AIR_TIME  ...  \\\n",
       "440746      5602.0   8038.0   0.0      59.0       38105.0   28285.0  ...   \n",
       "440747      7247.0  10718.0   0.0      59.0       37921.0   27463.0  ...   \n",
       "440748      6631.0   5663.0   0.0      59.0       39218.0   30137.0  ...   \n",
       "440749      5084.0  10340.0   0.0      11.0       17768.0   13202.0  ...   \n",
       "440750      5104.0  29100.0   0.0      11.0       20390.0   15668.0  ...   \n",
       "\n",
       "       ORIGIN_AIRPORT_ID ORIGIN  ORIGIN_CITY_NAME  DEST_AIRPORT_ID DEST  \\\n",
       "440746             10299    ANC     Anchorage, AK            11555  ENA   \n",
       "440747             10299    ANC     Anchorage, AK            11555  ENA   \n",
       "440748             11555    ENA         Kenai, AK            10299  ANC   \n",
       "440749             15215    TIQ        Tinian, TT            14955  SPN   \n",
       "440750             14955    SPN        Saipan, TT            15215  TIQ   \n",
       "\n",
       "       DEST_CITY_NAME  AIRCRAFT_TYPE AIRCRAFT_CONFIG  YEAR  MONTH  \n",
       "440746      Kenai, AK            416               1  2024      8  \n",
       "440747      Kenai, AK            416               1  2024      7  \n",
       "440748  Anchorage, AK            416               1  2024      7  \n",
       "440749     Saipan, TT             79               1  2024      7  \n",
       "440750     Tinian, TT             79               1  2024      7  \n",
       "\n",
       "[5 rows x 23 columns]"
      ]
     },
     "execution_count": 18,
     "metadata": {},
     "output_type": "execute_result"
    }
   ],
   "source": [
    "data.tail()"
   ]
  },
  {
   "cell_type": "code",
   "execution_count": 19,
   "id": "b9e37c84",
   "metadata": {},
   "outputs": [
    {
     "data": {
      "application/vnd.microsoft.datawrangler.viewer.v0+json": {
       "columns": [
        {
         "name": "index",
         "rawType": "object",
         "type": "string"
        },
        {
         "name": "0",
         "rawType": "int64",
         "type": "integer"
        }
       ],
       "ref": "8e58558a-b5e6-4326-8a7c-1cdb3c762af9",
       "rows": [
        [
         "DEPARTURES_SCHEDULED",
         "0"
        ],
        [
         "DEPARTURES_PERFORMED",
         "0"
        ],
        [
         "PAYLOAD",
         "0"
        ],
        [
         "SEATS",
         "0"
        ],
        [
         "PASSENGERS",
         "0"
        ],
        [
         "FREIGHT",
         "0"
        ],
        [
         "MAIL",
         "0"
        ],
        [
         "DISTANCE",
         "0"
        ],
        [
         "RAMP_TO_RAMP",
         "0"
        ],
        [
         "AIR_TIME",
         "0"
        ],
        [
         "UNIQUE_CARRIER",
         "0"
        ],
        [
         "UNIQUE_CARRIER_NAME",
         "0"
        ],
        [
         "CARRIER_GROUP",
         "0"
        ],
        [
         "ORIGIN_AIRPORT_ID",
         "0"
        ],
        [
         "ORIGIN",
         "0"
        ],
        [
         "ORIGIN_CITY_NAME",
         "0"
        ],
        [
         "DEST_AIRPORT_ID",
         "0"
        ],
        [
         "DEST",
         "0"
        ],
        [
         "DEST_CITY_NAME",
         "0"
        ],
        [
         "AIRCRAFT_TYPE",
         "0"
        ],
        [
         "AIRCRAFT_CONFIG",
         "0"
        ],
        [
         "YEAR",
         "0"
        ],
        [
         "MONTH",
         "0"
        ]
       ],
       "shape": {
        "columns": 1,
        "rows": 23
       }
      },
      "text/plain": [
       "DEPARTURES_SCHEDULED    0\n",
       "DEPARTURES_PERFORMED    0\n",
       "PAYLOAD                 0\n",
       "SEATS                   0\n",
       "PASSENGERS              0\n",
       "FREIGHT                 0\n",
       "MAIL                    0\n",
       "DISTANCE                0\n",
       "RAMP_TO_RAMP            0\n",
       "AIR_TIME                0\n",
       "UNIQUE_CARRIER          0\n",
       "UNIQUE_CARRIER_NAME     0\n",
       "CARRIER_GROUP           0\n",
       "ORIGIN_AIRPORT_ID       0\n",
       "ORIGIN                  0\n",
       "ORIGIN_CITY_NAME        0\n",
       "DEST_AIRPORT_ID         0\n",
       "DEST                    0\n",
       "DEST_CITY_NAME          0\n",
       "AIRCRAFT_TYPE           0\n",
       "AIRCRAFT_CONFIG         0\n",
       "YEAR                    0\n",
       "MONTH                   0\n",
       "dtype: int64"
      ]
     },
     "execution_count": 19,
     "metadata": {},
     "output_type": "execute_result"
    }
   ],
   "source": [
    "data.isna().sum()"
   ]
  },
  {
   "cell_type": "code",
   "execution_count": 20,
   "id": "36d5e41a",
   "metadata": {},
   "outputs": [
    {
     "data": {
      "text/plain": [
       "Index(['departures_scheduled', 'departures_performed', 'payload', 'seats',\n",
       "       'passengers', 'freight', 'mail', 'distance', 'ramp_to_ramp', 'air_time',\n",
       "       'unique_carrier', 'unique_carrier_name', 'carrier_group',\n",
       "       'origin_airport_id', 'origin', 'origin_city_name', 'dest_airport_id',\n",
       "       'dest', 'dest_city_name', 'aircraft_type', 'aircraft_config', 'year',\n",
       "       'month'],\n",
       "      dtype='object')"
      ]
     },
     "execution_count": 20,
     "metadata": {},
     "output_type": "execute_result"
    }
   ],
   "source": [
    "data.columns = [x.lower() for x in data.columns.to_list()]\n",
    "data.columns"
   ]
  },
  {
   "cell_type": "code",
   "execution_count": 21,
   "id": "d5993982",
   "metadata": {},
   "outputs": [],
   "source": [
    "data[\"avg_passengers_per_flight\"] = (\n",
    "    (data[\"passengers\"] / data[\"departures_performed\"].replace(0, np.nan))\n",
    "    .round(0)\n",
    "    .astype(\"Int64\")\n",
    ")"
   ]
  },
  {
   "cell_type": "code",
   "execution_count": 22,
   "id": "d56642c2",
   "metadata": {},
   "outputs": [],
   "source": [
    "data[\"avg_seats_per_flight\"] = (\n",
    "    (data[\"seats\"] / data[\"departures_performed\"].replace(0, np.nan))\n",
    "    .round(0)\n",
    "    .astype(\"Int64\")\n",
    ")"
   ]
  },
  {
   "cell_type": "code",
   "execution_count": 23,
   "id": "5c8f6b53",
   "metadata": {},
   "outputs": [
    {
     "data": {
      "application/vnd.microsoft.datawrangler.viewer.v0+json": {
       "columns": [
        {
         "name": "index",
         "rawType": "int64",
         "type": "integer"
        },
        {
         "name": "departures_scheduled",
         "rawType": "float64",
         "type": "float"
        },
        {
         "name": "departures_performed",
         "rawType": "float64",
         "type": "float"
        },
        {
         "name": "payload",
         "rawType": "float64",
         "type": "float"
        },
        {
         "name": "seats",
         "rawType": "float64",
         "type": "float"
        },
        {
         "name": "passengers",
         "rawType": "float64",
         "type": "float"
        },
        {
         "name": "freight",
         "rawType": "float64",
         "type": "float"
        },
        {
         "name": "mail",
         "rawType": "float64",
         "type": "float"
        },
        {
         "name": "distance",
         "rawType": "float64",
         "type": "float"
        },
        {
         "name": "ramp_to_ramp",
         "rawType": "float64",
         "type": "float"
        },
        {
         "name": "air_time",
         "rawType": "float64",
         "type": "float"
        },
        {
         "name": "unique_carrier",
         "rawType": "object",
         "type": "string"
        },
        {
         "name": "unique_carrier_name",
         "rawType": "object",
         "type": "string"
        },
        {
         "name": "carrier_group",
         "rawType": "int64",
         "type": "integer"
        },
        {
         "name": "origin_airport_id",
         "rawType": "int64",
         "type": "integer"
        },
        {
         "name": "origin",
         "rawType": "object",
         "type": "string"
        },
        {
         "name": "origin_city_name",
         "rawType": "object",
         "type": "string"
        },
        {
         "name": "dest_airport_id",
         "rawType": "int64",
         "type": "integer"
        },
        {
         "name": "dest",
         "rawType": "object",
         "type": "string"
        },
        {
         "name": "dest_city_name",
         "rawType": "object",
         "type": "string"
        },
        {
         "name": "aircraft_type",
         "rawType": "int64",
         "type": "integer"
        },
        {
         "name": "aircraft_config",
         "rawType": "int64",
         "type": "integer"
        },
        {
         "name": "year",
         "rawType": "int64",
         "type": "integer"
        },
        {
         "name": "month",
         "rawType": "int64",
         "type": "integer"
        },
        {
         "name": "avg_passengers_per_flight",
         "rawType": "Int64",
         "type": "integer"
        },
        {
         "name": "avg_seats_per_flight",
         "rawType": "Int64",
         "type": "integer"
        }
       ],
       "ref": "dbd2fa87-cb54-4b4e-9f97-75a4741db670",
       "rows": [
        [
         "440746",
         "989.0",
         "987.0",
         "2902800.0",
         "8892.0",
         "5602.0",
         "8038.0",
         "0.0",
         "59.0",
         "38105.0",
         "28285.0",
         "GV",
         "Grant Aviation",
         "1",
         "10299",
         "ANC",
         "Anchorage, AK",
         "11555",
         "ENA",
         "Kenai, AK",
         "416",
         "1",
         "2024",
         "8",
         "6",
         "9"
        ],
        [
         "440747",
         "995.0",
         "994.0",
         "2737200.0",
         "8946.0",
         "7247.0",
         "10718.0",
         "0.0",
         "59.0",
         "37921.0",
         "27463.0",
         "GV",
         "Grant Aviation",
         "1",
         "10299",
         "ANC",
         "Anchorage, AK",
         "11555",
         "ENA",
         "Kenai, AK",
         "416",
         "1",
         "2024",
         "7",
         "7",
         "9"
        ],
        [
         "440748",
         "999.0",
         "998.0",
         "2748200.0",
         "8991.0",
         "6631.0",
         "5663.0",
         "0.0",
         "59.0",
         "39218.0",
         "30137.0",
         "GV",
         "Grant Aviation",
         "1",
         "11555",
         "ENA",
         "Kenai, AK",
         "10299",
         "ANC",
         "Anchorage, AK",
         "416",
         "1",
         "2024",
         "7",
         "7",
         "9"
        ],
        [
         "440749",
         "1522.0",
         "1522.0",
         "1826400.0",
         "8026.0",
         "5084.0",
         "10340.0",
         "0.0",
         "11.0",
         "17768.0",
         "13202.0",
         "S2",
         "Star Marianas Air Inc.",
         "1",
         "15215",
         "TIQ",
         "Tinian, TT",
         "14955",
         "SPN",
         "Saipan, TT",
         "79",
         "1",
         "2024",
         "7",
         "3",
         "5"
        ],
        [
         "440750",
         "1574.0",
         "1574.0",
         "1888800.0",
         "8284.0",
         "5104.0",
         "29100.0",
         "0.0",
         "11.0",
         "20390.0",
         "15668.0",
         "S2",
         "Star Marianas Air Inc.",
         "1",
         "14955",
         "SPN",
         "Saipan, TT",
         "15215",
         "TIQ",
         "Tinian, TT",
         "79",
         "1",
         "2024",
         "7",
         "3",
         "5"
        ]
       ],
       "shape": {
        "columns": 25,
        "rows": 5
       }
      },
      "text/html": [
       "<div>\n",
       "<style scoped>\n",
       "    .dataframe tbody tr th:only-of-type {\n",
       "        vertical-align: middle;\n",
       "    }\n",
       "\n",
       "    .dataframe tbody tr th {\n",
       "        vertical-align: top;\n",
       "    }\n",
       "\n",
       "    .dataframe thead th {\n",
       "        text-align: right;\n",
       "    }\n",
       "</style>\n",
       "<table border=\"1\" class=\"dataframe\">\n",
       "  <thead>\n",
       "    <tr style=\"text-align: right;\">\n",
       "      <th></th>\n",
       "      <th>departures_scheduled</th>\n",
       "      <th>departures_performed</th>\n",
       "      <th>payload</th>\n",
       "      <th>seats</th>\n",
       "      <th>passengers</th>\n",
       "      <th>freight</th>\n",
       "      <th>mail</th>\n",
       "      <th>distance</th>\n",
       "      <th>ramp_to_ramp</th>\n",
       "      <th>air_time</th>\n",
       "      <th>...</th>\n",
       "      <th>origin_city_name</th>\n",
       "      <th>dest_airport_id</th>\n",
       "      <th>dest</th>\n",
       "      <th>dest_city_name</th>\n",
       "      <th>aircraft_type</th>\n",
       "      <th>aircraft_config</th>\n",
       "      <th>year</th>\n",
       "      <th>month</th>\n",
       "      <th>avg_passengers_per_flight</th>\n",
       "      <th>avg_seats_per_flight</th>\n",
       "    </tr>\n",
       "  </thead>\n",
       "  <tbody>\n",
       "    <tr>\n",
       "      <th>440746</th>\n",
       "      <td>989.0</td>\n",
       "      <td>987.0</td>\n",
       "      <td>2902800.0</td>\n",
       "      <td>8892.0</td>\n",
       "      <td>5602.0</td>\n",
       "      <td>8038.0</td>\n",
       "      <td>0.0</td>\n",
       "      <td>59.0</td>\n",
       "      <td>38105.0</td>\n",
       "      <td>28285.0</td>\n",
       "      <td>...</td>\n",
       "      <td>Anchorage, AK</td>\n",
       "      <td>11555</td>\n",
       "      <td>ENA</td>\n",
       "      <td>Kenai, AK</td>\n",
       "      <td>416</td>\n",
       "      <td>1</td>\n",
       "      <td>2024</td>\n",
       "      <td>8</td>\n",
       "      <td>6</td>\n",
       "      <td>9</td>\n",
       "    </tr>\n",
       "    <tr>\n",
       "      <th>440747</th>\n",
       "      <td>995.0</td>\n",
       "      <td>994.0</td>\n",
       "      <td>2737200.0</td>\n",
       "      <td>8946.0</td>\n",
       "      <td>7247.0</td>\n",
       "      <td>10718.0</td>\n",
       "      <td>0.0</td>\n",
       "      <td>59.0</td>\n",
       "      <td>37921.0</td>\n",
       "      <td>27463.0</td>\n",
       "      <td>...</td>\n",
       "      <td>Anchorage, AK</td>\n",
       "      <td>11555</td>\n",
       "      <td>ENA</td>\n",
       "      <td>Kenai, AK</td>\n",
       "      <td>416</td>\n",
       "      <td>1</td>\n",
       "      <td>2024</td>\n",
       "      <td>7</td>\n",
       "      <td>7</td>\n",
       "      <td>9</td>\n",
       "    </tr>\n",
       "    <tr>\n",
       "      <th>440748</th>\n",
       "      <td>999.0</td>\n",
       "      <td>998.0</td>\n",
       "      <td>2748200.0</td>\n",
       "      <td>8991.0</td>\n",
       "      <td>6631.0</td>\n",
       "      <td>5663.0</td>\n",
       "      <td>0.0</td>\n",
       "      <td>59.0</td>\n",
       "      <td>39218.0</td>\n",
       "      <td>30137.0</td>\n",
       "      <td>...</td>\n",
       "      <td>Kenai, AK</td>\n",
       "      <td>10299</td>\n",
       "      <td>ANC</td>\n",
       "      <td>Anchorage, AK</td>\n",
       "      <td>416</td>\n",
       "      <td>1</td>\n",
       "      <td>2024</td>\n",
       "      <td>7</td>\n",
       "      <td>7</td>\n",
       "      <td>9</td>\n",
       "    </tr>\n",
       "    <tr>\n",
       "      <th>440749</th>\n",
       "      <td>1522.0</td>\n",
       "      <td>1522.0</td>\n",
       "      <td>1826400.0</td>\n",
       "      <td>8026.0</td>\n",
       "      <td>5084.0</td>\n",
       "      <td>10340.0</td>\n",
       "      <td>0.0</td>\n",
       "      <td>11.0</td>\n",
       "      <td>17768.0</td>\n",
       "      <td>13202.0</td>\n",
       "      <td>...</td>\n",
       "      <td>Tinian, TT</td>\n",
       "      <td>14955</td>\n",
       "      <td>SPN</td>\n",
       "      <td>Saipan, TT</td>\n",
       "      <td>79</td>\n",
       "      <td>1</td>\n",
       "      <td>2024</td>\n",
       "      <td>7</td>\n",
       "      <td>3</td>\n",
       "      <td>5</td>\n",
       "    </tr>\n",
       "    <tr>\n",
       "      <th>440750</th>\n",
       "      <td>1574.0</td>\n",
       "      <td>1574.0</td>\n",
       "      <td>1888800.0</td>\n",
       "      <td>8284.0</td>\n",
       "      <td>5104.0</td>\n",
       "      <td>29100.0</td>\n",
       "      <td>0.0</td>\n",
       "      <td>11.0</td>\n",
       "      <td>20390.0</td>\n",
       "      <td>15668.0</td>\n",
       "      <td>...</td>\n",
       "      <td>Saipan, TT</td>\n",
       "      <td>15215</td>\n",
       "      <td>TIQ</td>\n",
       "      <td>Tinian, TT</td>\n",
       "      <td>79</td>\n",
       "      <td>1</td>\n",
       "      <td>2024</td>\n",
       "      <td>7</td>\n",
       "      <td>3</td>\n",
       "      <td>5</td>\n",
       "    </tr>\n",
       "  </tbody>\n",
       "</table>\n",
       "<p>5 rows × 25 columns</p>\n",
       "</div>"
      ],
      "text/plain": [
       "        departures_scheduled  departures_performed    payload   seats  \\\n",
       "440746                 989.0                 987.0  2902800.0  8892.0   \n",
       "440747                 995.0                 994.0  2737200.0  8946.0   \n",
       "440748                 999.0                 998.0  2748200.0  8991.0   \n",
       "440749                1522.0                1522.0  1826400.0  8026.0   \n",
       "440750                1574.0                1574.0  1888800.0  8284.0   \n",
       "\n",
       "        passengers  freight  mail  distance  ramp_to_ramp  air_time  ...  \\\n",
       "440746      5602.0   8038.0   0.0      59.0       38105.0   28285.0  ...   \n",
       "440747      7247.0  10718.0   0.0      59.0       37921.0   27463.0  ...   \n",
       "440748      6631.0   5663.0   0.0      59.0       39218.0   30137.0  ...   \n",
       "440749      5084.0  10340.0   0.0      11.0       17768.0   13202.0  ...   \n",
       "440750      5104.0  29100.0   0.0      11.0       20390.0   15668.0  ...   \n",
       "\n",
       "       origin_city_name dest_airport_id  dest  dest_city_name aircraft_type  \\\n",
       "440746    Anchorage, AK           11555   ENA       Kenai, AK           416   \n",
       "440747    Anchorage, AK           11555   ENA       Kenai, AK           416   \n",
       "440748        Kenai, AK           10299   ANC   Anchorage, AK           416   \n",
       "440749       Tinian, TT           14955   SPN      Saipan, TT            79   \n",
       "440750       Saipan, TT           15215   TIQ      Tinian, TT            79   \n",
       "\n",
       "       aircraft_config  year month avg_passengers_per_flight  \\\n",
       "440746               1  2024     8                         6   \n",
       "440747               1  2024     7                         7   \n",
       "440748               1  2024     7                         7   \n",
       "440749               1  2024     7                         3   \n",
       "440750               1  2024     7                         3   \n",
       "\n",
       "        avg_seats_per_flight  \n",
       "440746                     9  \n",
       "440747                     9  \n",
       "440748                     9  \n",
       "440749                     5  \n",
       "440750                     5  \n",
       "\n",
       "[5 rows x 25 columns]"
      ]
     },
     "execution_count": 23,
     "metadata": {},
     "output_type": "execute_result"
    }
   ],
   "source": [
    "data.tail()"
   ]
  },
  {
   "cell_type": "code",
   "execution_count": null,
   "id": "39db3393",
   "metadata": {},
   "outputs": [],
   "source": []
  },
  {
   "cell_type": "code",
   "execution_count": 25,
   "id": "0db7b28f",
   "metadata": {},
   "outputs": [
    {
     "data": {
      "application/vnd.microsoft.datawrangler.viewer.v0+json": {
       "columns": [
        {
         "name": "index",
         "rawType": "int64",
         "type": "integer"
        },
        {
         "name": "departures_scheduled",
         "rawType": "float64",
         "type": "float"
        },
        {
         "name": "departures_performed",
         "rawType": "float64",
         "type": "float"
        },
        {
         "name": "payload",
         "rawType": "float64",
         "type": "float"
        },
        {
         "name": "seats",
         "rawType": "float64",
         "type": "float"
        },
        {
         "name": "passengers",
         "rawType": "float64",
         "type": "float"
        },
        {
         "name": "freight",
         "rawType": "float64",
         "type": "float"
        },
        {
         "name": "mail",
         "rawType": "float64",
         "type": "float"
        },
        {
         "name": "distance",
         "rawType": "float64",
         "type": "float"
        },
        {
         "name": "ramp_to_ramp",
         "rawType": "float64",
         "type": "float"
        },
        {
         "name": "air_time",
         "rawType": "float64",
         "type": "float"
        },
        {
         "name": "unique_carrier",
         "rawType": "object",
         "type": "string"
        },
        {
         "name": "unique_carrier_name",
         "rawType": "object",
         "type": "string"
        },
        {
         "name": "carrier_group",
         "rawType": "int64",
         "type": "integer"
        },
        {
         "name": "origin_airport_id",
         "rawType": "int64",
         "type": "integer"
        },
        {
         "name": "origin",
         "rawType": "object",
         "type": "string"
        },
        {
         "name": "origin_city_name",
         "rawType": "object",
         "type": "string"
        },
        {
         "name": "dest_airport_id",
         "rawType": "int64",
         "type": "integer"
        },
        {
         "name": "dest",
         "rawType": "object",
         "type": "string"
        },
        {
         "name": "dest_city_name",
         "rawType": "object",
         "type": "string"
        },
        {
         "name": "aircraft_type",
         "rawType": "int64",
         "type": "integer"
        },
        {
         "name": "aircraft_config",
         "rawType": "int64",
         "type": "integer"
        },
        {
         "name": "year",
         "rawType": "int64",
         "type": "integer"
        },
        {
         "name": "month",
         "rawType": "int64",
         "type": "integer"
        },
        {
         "name": "avg_passengers_per_flight",
         "rawType": "Int64",
         "type": "integer"
        },
        {
         "name": "avg_seats_per_flight",
         "rawType": "Int64",
         "type": "integer"
        }
       ],
       "ref": "cf9ccdff-da88-4490-8908-d579798fdba3",
       "rows": [
        [
         "405864",
         "60.0",
         "60.0",
         "5093200.0",
         "14039.0",
         "13452.0",
         "1186025.0",
         "2251.0",
         "3784.0",
         "24833.0",
         "23152.0",
         "AA",
         "American Airlines Inc.",
         "3",
         "12173",
         "HNL",
         "Honolulu, HI",
         "11298",
         "DFW",
         "Dallas/Fort Worth, TX",
         "887",
         "1",
         "2024",
         "4",
         "224",
         "234"
        ],
        [
         "405865",
         "60.0",
         "60.0",
         "5094000.0",
         "14040.0",
         "13693.0",
         "1221164.0",
         "1366.0",
         "3784.0",
         "25832.0",
         "24220.0",
         "AA",
         "American Airlines Inc.",
         "3",
         "12173",
         "HNL",
         "Honolulu, HI",
         "11298",
         "DFW",
         "Dallas/Fort Worth, TX",
         "887",
         "1",
         "2024",
         "7",
         "228",
         "234"
        ],
        [
         "407269",
         "61.0",
         "61.0",
         "5178900.0",
         "14274.0",
         "13732.0",
         "828048.0",
         "2953.0",
         "3784.0",
         "28482.0",
         "26837.0",
         "AA",
         "American Airlines Inc.",
         "3",
         "11298",
         "DFW",
         "Dallas/Fort Worth, TX",
         "12173",
         "HNL",
         "Honolulu, HI",
         "887",
         "1",
         "2024",
         "7",
         "225",
         "234"
        ],
        [
         "420678",
         "82.0",
         "82.0",
         "6961000.0",
         "19188.0",
         "17523.0",
         "644652.0",
         "615.0",
         "2342.0",
         "27591.0",
         "24755.0",
         "AA",
         "American Airlines Inc.",
         "3",
         "13303",
         "MIA",
         "Miami, FL",
         "12892",
         "LAX",
         "Los Angeles, CA",
         "887",
         "1",
         "2024",
         "5",
         "214",
         "234"
        ],
        [
         "421237",
         "83.0",
         "83.0",
         "7046300.0",
         "19422.0",
         "17759.0",
         "754631.0",
         "10856.0",
         "2342.0",
         "23041.0",
         "20274.0",
         "AA",
         "American Airlines Inc.",
         "3",
         "12892",
         "LAX",
         "Los Angeles, CA",
         "13303",
         "MIA",
         "Miami, FL",
         "887",
         "1",
         "2024",
         "5",
         "214",
         "234"
        ]
       ],
       "shape": {
        "columns": 25,
        "rows": 5
       }
      },
      "text/html": [
       "<div>\n",
       "<style scoped>\n",
       "    .dataframe tbody tr th:only-of-type {\n",
       "        vertical-align: middle;\n",
       "    }\n",
       "\n",
       "    .dataframe tbody tr th {\n",
       "        vertical-align: top;\n",
       "    }\n",
       "\n",
       "    .dataframe thead th {\n",
       "        text-align: right;\n",
       "    }\n",
       "</style>\n",
       "<table border=\"1\" class=\"dataframe\">\n",
       "  <thead>\n",
       "    <tr style=\"text-align: right;\">\n",
       "      <th></th>\n",
       "      <th>departures_scheduled</th>\n",
       "      <th>departures_performed</th>\n",
       "      <th>payload</th>\n",
       "      <th>seats</th>\n",
       "      <th>passengers</th>\n",
       "      <th>freight</th>\n",
       "      <th>mail</th>\n",
       "      <th>distance</th>\n",
       "      <th>ramp_to_ramp</th>\n",
       "      <th>air_time</th>\n",
       "      <th>...</th>\n",
       "      <th>origin_city_name</th>\n",
       "      <th>dest_airport_id</th>\n",
       "      <th>dest</th>\n",
       "      <th>dest_city_name</th>\n",
       "      <th>aircraft_type</th>\n",
       "      <th>aircraft_config</th>\n",
       "      <th>year</th>\n",
       "      <th>month</th>\n",
       "      <th>avg_passengers_per_flight</th>\n",
       "      <th>avg_seats_per_flight</th>\n",
       "    </tr>\n",
       "  </thead>\n",
       "  <tbody>\n",
       "    <tr>\n",
       "      <th>405864</th>\n",
       "      <td>60.0</td>\n",
       "      <td>60.0</td>\n",
       "      <td>5093200.0</td>\n",
       "      <td>14039.0</td>\n",
       "      <td>13452.0</td>\n",
       "      <td>1186025.0</td>\n",
       "      <td>2251.0</td>\n",
       "      <td>3784.0</td>\n",
       "      <td>24833.0</td>\n",
       "      <td>23152.0</td>\n",
       "      <td>...</td>\n",
       "      <td>Honolulu, HI</td>\n",
       "      <td>11298</td>\n",
       "      <td>DFW</td>\n",
       "      <td>Dallas/Fort Worth, TX</td>\n",
       "      <td>887</td>\n",
       "      <td>1</td>\n",
       "      <td>2024</td>\n",
       "      <td>4</td>\n",
       "      <td>224</td>\n",
       "      <td>234</td>\n",
       "    </tr>\n",
       "    <tr>\n",
       "      <th>405865</th>\n",
       "      <td>60.0</td>\n",
       "      <td>60.0</td>\n",
       "      <td>5094000.0</td>\n",
       "      <td>14040.0</td>\n",
       "      <td>13693.0</td>\n",
       "      <td>1221164.0</td>\n",
       "      <td>1366.0</td>\n",
       "      <td>3784.0</td>\n",
       "      <td>25832.0</td>\n",
       "      <td>24220.0</td>\n",
       "      <td>...</td>\n",
       "      <td>Honolulu, HI</td>\n",
       "      <td>11298</td>\n",
       "      <td>DFW</td>\n",
       "      <td>Dallas/Fort Worth, TX</td>\n",
       "      <td>887</td>\n",
       "      <td>1</td>\n",
       "      <td>2024</td>\n",
       "      <td>7</td>\n",
       "      <td>228</td>\n",
       "      <td>234</td>\n",
       "    </tr>\n",
       "    <tr>\n",
       "      <th>407269</th>\n",
       "      <td>61.0</td>\n",
       "      <td>61.0</td>\n",
       "      <td>5178900.0</td>\n",
       "      <td>14274.0</td>\n",
       "      <td>13732.0</td>\n",
       "      <td>828048.0</td>\n",
       "      <td>2953.0</td>\n",
       "      <td>3784.0</td>\n",
       "      <td>28482.0</td>\n",
       "      <td>26837.0</td>\n",
       "      <td>...</td>\n",
       "      <td>Dallas/Fort Worth, TX</td>\n",
       "      <td>12173</td>\n",
       "      <td>HNL</td>\n",
       "      <td>Honolulu, HI</td>\n",
       "      <td>887</td>\n",
       "      <td>1</td>\n",
       "      <td>2024</td>\n",
       "      <td>7</td>\n",
       "      <td>225</td>\n",
       "      <td>234</td>\n",
       "    </tr>\n",
       "    <tr>\n",
       "      <th>420678</th>\n",
       "      <td>82.0</td>\n",
       "      <td>82.0</td>\n",
       "      <td>6961000.0</td>\n",
       "      <td>19188.0</td>\n",
       "      <td>17523.0</td>\n",
       "      <td>644652.0</td>\n",
       "      <td>615.0</td>\n",
       "      <td>2342.0</td>\n",
       "      <td>27591.0</td>\n",
       "      <td>24755.0</td>\n",
       "      <td>...</td>\n",
       "      <td>Miami, FL</td>\n",
       "      <td>12892</td>\n",
       "      <td>LAX</td>\n",
       "      <td>Los Angeles, CA</td>\n",
       "      <td>887</td>\n",
       "      <td>1</td>\n",
       "      <td>2024</td>\n",
       "      <td>5</td>\n",
       "      <td>214</td>\n",
       "      <td>234</td>\n",
       "    </tr>\n",
       "    <tr>\n",
       "      <th>421237</th>\n",
       "      <td>83.0</td>\n",
       "      <td>83.0</td>\n",
       "      <td>7046300.0</td>\n",
       "      <td>19422.0</td>\n",
       "      <td>17759.0</td>\n",
       "      <td>754631.0</td>\n",
       "      <td>10856.0</td>\n",
       "      <td>2342.0</td>\n",
       "      <td>23041.0</td>\n",
       "      <td>20274.0</td>\n",
       "      <td>...</td>\n",
       "      <td>Los Angeles, CA</td>\n",
       "      <td>13303</td>\n",
       "      <td>MIA</td>\n",
       "      <td>Miami, FL</td>\n",
       "      <td>887</td>\n",
       "      <td>1</td>\n",
       "      <td>2024</td>\n",
       "      <td>5</td>\n",
       "      <td>214</td>\n",
       "      <td>234</td>\n",
       "    </tr>\n",
       "  </tbody>\n",
       "</table>\n",
       "<p>5 rows × 25 columns</p>\n",
       "</div>"
      ],
      "text/plain": [
       "        departures_scheduled  departures_performed    payload    seats  \\\n",
       "405864                  60.0                  60.0  5093200.0  14039.0   \n",
       "405865                  60.0                  60.0  5094000.0  14040.0   \n",
       "407269                  61.0                  61.0  5178900.0  14274.0   \n",
       "420678                  82.0                  82.0  6961000.0  19188.0   \n",
       "421237                  83.0                  83.0  7046300.0  19422.0   \n",
       "\n",
       "        passengers    freight     mail  distance  ramp_to_ramp  air_time  ...  \\\n",
       "405864     13452.0  1186025.0   2251.0    3784.0       24833.0   23152.0  ...   \n",
       "405865     13693.0  1221164.0   1366.0    3784.0       25832.0   24220.0  ...   \n",
       "407269     13732.0   828048.0   2953.0    3784.0       28482.0   26837.0  ...   \n",
       "420678     17523.0   644652.0    615.0    2342.0       27591.0   24755.0  ...   \n",
       "421237     17759.0   754631.0  10856.0    2342.0       23041.0   20274.0  ...   \n",
       "\n",
       "             origin_city_name dest_airport_id  dest         dest_city_name  \\\n",
       "405864           Honolulu, HI           11298   DFW  Dallas/Fort Worth, TX   \n",
       "405865           Honolulu, HI           11298   DFW  Dallas/Fort Worth, TX   \n",
       "407269  Dallas/Fort Worth, TX           12173   HNL           Honolulu, HI   \n",
       "420678              Miami, FL           12892   LAX        Los Angeles, CA   \n",
       "421237        Los Angeles, CA           13303   MIA              Miami, FL   \n",
       "\n",
       "       aircraft_type aircraft_config  year month avg_passengers_per_flight  \\\n",
       "405864           887               1  2024     4                       224   \n",
       "405865           887               1  2024     7                       228   \n",
       "407269           887               1  2024     7                       225   \n",
       "420678           887               1  2024     5                       214   \n",
       "421237           887               1  2024     5                       214   \n",
       "\n",
       "        avg_seats_per_flight  \n",
       "405864                   234  \n",
       "405865                   234  \n",
       "407269                   234  \n",
       "420678                   234  \n",
       "421237                   234  \n",
       "\n",
       "[5 rows x 25 columns]"
      ]
     },
     "execution_count": 25,
     "metadata": {},
     "output_type": "execute_result"
    }
   ],
   "source": [
    "data[data[\"aircraft_type\"] == 887].tail()"
   ]
  },
  {
   "cell_type": "code",
   "execution_count": 26,
   "id": "0b028742",
   "metadata": {},
   "outputs": [
    {
     "data": {
      "application/vnd.microsoft.datawrangler.viewer.v0+json": {
       "columns": [
        {
         "name": "index",
         "rawType": "object",
         "type": "string"
        },
        {
         "name": "departures_scheduled",
         "rawType": "float64",
         "type": "float"
        },
        {
         "name": "departures_performed",
         "rawType": "float64",
         "type": "float"
        },
        {
         "name": "payload",
         "rawType": "float64",
         "type": "float"
        },
        {
         "name": "seats",
         "rawType": "float64",
         "type": "float"
        },
        {
         "name": "passengers",
         "rawType": "float64",
         "type": "float"
        },
        {
         "name": "freight",
         "rawType": "float64",
         "type": "float"
        },
        {
         "name": "mail",
         "rawType": "float64",
         "type": "float"
        },
        {
         "name": "distance",
         "rawType": "float64",
         "type": "float"
        },
        {
         "name": "ramp_to_ramp",
         "rawType": "float64",
         "type": "float"
        },
        {
         "name": "air_time",
         "rawType": "float64",
         "type": "float"
        },
        {
         "name": "carrier_group",
         "rawType": "float64",
         "type": "float"
        },
        {
         "name": "origin_airport_id",
         "rawType": "float64",
         "type": "float"
        },
        {
         "name": "dest_airport_id",
         "rawType": "float64",
         "type": "float"
        },
        {
         "name": "aircraft_type",
         "rawType": "float64",
         "type": "float"
        },
        {
         "name": "aircraft_config",
         "rawType": "float64",
         "type": "float"
        },
        {
         "name": "year",
         "rawType": "float64",
         "type": "float"
        },
        {
         "name": "month",
         "rawType": "float64",
         "type": "float"
        },
        {
         "name": "avg_passengers_per_flight",
         "rawType": "Float64",
         "type": "float"
        },
        {
         "name": "avg_seats_per_flight",
         "rawType": "Float64",
         "type": "float"
        }
       ],
       "ref": "76887832-c08a-45ae-89d7-712051a8fb57",
       "rows": [
        [
         "count",
         "440751.0",
         "440751.0",
         "440751.0",
         "440751.0",
         "440751.0",
         "440751.0",
         "440751.0",
         "440751.0",
         "440751.0",
         "440751.0",
         "440751.0",
         "440751.0",
         "440751.0",
         "440751.0",
         "440751.0",
         "440751.0",
         "440751.0",
         "439891.0",
         "439891.0"
        ],
        [
         "mean",
         "19.479345480781667",
         "20.08724427170897",
         "736650.5001554166",
         "2407.4687930373384",
         "1949.9901486326746",
         "63543.06471454404",
         "2638.117887423965",
         "768.3000401587291",
         "2631.662464747669",
         "2136.808293117883",
         "2.581895446635402",
         "12764.039239842905",
         "12761.797928989385",
         "634.727723816849",
         "1.1423025699317755",
         "2024.0",
         "6.575504082804123",
         "86.32720833115476",
         "114.7266550122644"
        ],
        [
         "std",
         "33.68168560086737",
         "33.10084997858272",
         "1375799.2842933058",
         "4547.112329801798",
         "3812.564110479395",
         "471495.04058088",
         "34340.8577230786",
         "638.1891560565726",
         "4548.022006048991",
         "3854.5979945844124",
         "0.7584617278675005",
         "1582.9233849234056",
         "1579.855682970103",
         "170.93840908648804",
         "0.43767234268917304",
         "0.0",
         "3.432239491020673",
         "64.72113055365554",
         "75.66755588733224"
        ],
        [
         "min",
         "0.0",
         "0.0",
         "0.0",
         "0.0",
         "0.0",
         "0.0",
         "0.0",
         "0.0",
         "0.0",
         "0.0",
         "0.0",
         "10001.0",
         "10001.0",
         "26.0",
         "1.0",
         "2024.0",
         "1.0",
         "0.0",
         "0.0"
        ],
        [
         "25%",
         "1.0",
         "1.0",
         "44800.0",
         "81.0",
         "32.0",
         "0.0",
         "0.0",
         "288.0",
         "174.0",
         "139.0",
         "2.0",
         "11292.0",
         "11292.0",
         "614.0",
         "1.0",
         "2024.0",
         "4.0",
         "6.0",
         "50.0"
        ],
        [
         "50%",
         "7.0",
         "8.0",
         "238000.0",
         "572.0",
         "442.0",
         "0.0",
         "0.0",
         "630.0",
         "892.0",
         "699.0",
         "3.0",
         "12889.0",
         "12889.0",
         "673.0",
         "1.0",
         "2024.0",
         "7.0",
         "97.0",
         "143.0"
        ],
        [
         "75%",
         "26.0",
         "27.0",
         "911400.0",
         "3040.0",
         "2403.5",
         "1120.0",
         "0.0",
         "1047.0",
         "3305.0",
         "2582.0",
         "3.0",
         "14100.0",
         "14100.0",
         "699.0",
         "1.0",
         "2024.0",
         "10.0",
         "142.0",
         "176.0"
        ],
        [
         "max",
         "1574.0",
         "1574.0",
         "49532700.0",
         "83712.0",
         "72783.0",
         "41295281.0",
         "3108694.0",
         "7360.0",
         "103896.0",
         "94868.0",
         "3.0",
         "17058.0",
         "17058.0",
         "889.0",
         "4.0",
         "2024.0",
         "12.0",
         "489.0",
         "509.0"
        ]
       ],
       "shape": {
        "columns": 19,
        "rows": 8
       }
      },
      "text/html": [
       "<div>\n",
       "<style scoped>\n",
       "    .dataframe tbody tr th:only-of-type {\n",
       "        vertical-align: middle;\n",
       "    }\n",
       "\n",
       "    .dataframe tbody tr th {\n",
       "        vertical-align: top;\n",
       "    }\n",
       "\n",
       "    .dataframe thead th {\n",
       "        text-align: right;\n",
       "    }\n",
       "</style>\n",
       "<table border=\"1\" class=\"dataframe\">\n",
       "  <thead>\n",
       "    <tr style=\"text-align: right;\">\n",
       "      <th></th>\n",
       "      <th>departures_scheduled</th>\n",
       "      <th>departures_performed</th>\n",
       "      <th>payload</th>\n",
       "      <th>seats</th>\n",
       "      <th>passengers</th>\n",
       "      <th>freight</th>\n",
       "      <th>mail</th>\n",
       "      <th>distance</th>\n",
       "      <th>ramp_to_ramp</th>\n",
       "      <th>air_time</th>\n",
       "      <th>carrier_group</th>\n",
       "      <th>origin_airport_id</th>\n",
       "      <th>dest_airport_id</th>\n",
       "      <th>aircraft_type</th>\n",
       "      <th>aircraft_config</th>\n",
       "      <th>year</th>\n",
       "      <th>month</th>\n",
       "      <th>avg_passengers_per_flight</th>\n",
       "      <th>avg_seats_per_flight</th>\n",
       "    </tr>\n",
       "  </thead>\n",
       "  <tbody>\n",
       "    <tr>\n",
       "      <th>count</th>\n",
       "      <td>440751.000000</td>\n",
       "      <td>440751.000000</td>\n",
       "      <td>4.407510e+05</td>\n",
       "      <td>440751.000000</td>\n",
       "      <td>440751.000000</td>\n",
       "      <td>4.407510e+05</td>\n",
       "      <td>4.407510e+05</td>\n",
       "      <td>440751.000000</td>\n",
       "      <td>440751.000000</td>\n",
       "      <td>440751.000000</td>\n",
       "      <td>440751.000000</td>\n",
       "      <td>440751.000000</td>\n",
       "      <td>440751.000000</td>\n",
       "      <td>440751.000000</td>\n",
       "      <td>440751.000000</td>\n",
       "      <td>440751.0</td>\n",
       "      <td>440751.000000</td>\n",
       "      <td>439891.0</td>\n",
       "      <td>439891.0</td>\n",
       "    </tr>\n",
       "    <tr>\n",
       "      <th>mean</th>\n",
       "      <td>19.479345</td>\n",
       "      <td>20.087244</td>\n",
       "      <td>7.366505e+05</td>\n",
       "      <td>2407.468793</td>\n",
       "      <td>1949.990149</td>\n",
       "      <td>6.354306e+04</td>\n",
       "      <td>2.638118e+03</td>\n",
       "      <td>768.300040</td>\n",
       "      <td>2631.662465</td>\n",
       "      <td>2136.808293</td>\n",
       "      <td>2.581895</td>\n",
       "      <td>12764.039240</td>\n",
       "      <td>12761.797929</td>\n",
       "      <td>634.727724</td>\n",
       "      <td>1.142303</td>\n",
       "      <td>2024.0</td>\n",
       "      <td>6.575504</td>\n",
       "      <td>86.327208</td>\n",
       "      <td>114.726655</td>\n",
       "    </tr>\n",
       "    <tr>\n",
       "      <th>std</th>\n",
       "      <td>33.681686</td>\n",
       "      <td>33.100850</td>\n",
       "      <td>1.375799e+06</td>\n",
       "      <td>4547.112330</td>\n",
       "      <td>3812.564110</td>\n",
       "      <td>4.714950e+05</td>\n",
       "      <td>3.434086e+04</td>\n",
       "      <td>638.189156</td>\n",
       "      <td>4548.022006</td>\n",
       "      <td>3854.597995</td>\n",
       "      <td>0.758462</td>\n",
       "      <td>1582.923385</td>\n",
       "      <td>1579.855683</td>\n",
       "      <td>170.938409</td>\n",
       "      <td>0.437672</td>\n",
       "      <td>0.0</td>\n",
       "      <td>3.432239</td>\n",
       "      <td>64.721131</td>\n",
       "      <td>75.667556</td>\n",
       "    </tr>\n",
       "    <tr>\n",
       "      <th>min</th>\n",
       "      <td>0.000000</td>\n",
       "      <td>0.000000</td>\n",
       "      <td>0.000000e+00</td>\n",
       "      <td>0.000000</td>\n",
       "      <td>0.000000</td>\n",
       "      <td>0.000000e+00</td>\n",
       "      <td>0.000000e+00</td>\n",
       "      <td>0.000000</td>\n",
       "      <td>0.000000</td>\n",
       "      <td>0.000000</td>\n",
       "      <td>0.000000</td>\n",
       "      <td>10001.000000</td>\n",
       "      <td>10001.000000</td>\n",
       "      <td>26.000000</td>\n",
       "      <td>1.000000</td>\n",
       "      <td>2024.0</td>\n",
       "      <td>1.000000</td>\n",
       "      <td>0.0</td>\n",
       "      <td>0.0</td>\n",
       "    </tr>\n",
       "    <tr>\n",
       "      <th>25%</th>\n",
       "      <td>1.000000</td>\n",
       "      <td>1.000000</td>\n",
       "      <td>4.480000e+04</td>\n",
       "      <td>81.000000</td>\n",
       "      <td>32.000000</td>\n",
       "      <td>0.000000e+00</td>\n",
       "      <td>0.000000e+00</td>\n",
       "      <td>288.000000</td>\n",
       "      <td>174.000000</td>\n",
       "      <td>139.000000</td>\n",
       "      <td>2.000000</td>\n",
       "      <td>11292.000000</td>\n",
       "      <td>11292.000000</td>\n",
       "      <td>614.000000</td>\n",
       "      <td>1.000000</td>\n",
       "      <td>2024.0</td>\n",
       "      <td>4.000000</td>\n",
       "      <td>6.0</td>\n",
       "      <td>50.0</td>\n",
       "    </tr>\n",
       "    <tr>\n",
       "      <th>50%</th>\n",
       "      <td>7.000000</td>\n",
       "      <td>8.000000</td>\n",
       "      <td>2.380000e+05</td>\n",
       "      <td>572.000000</td>\n",
       "      <td>442.000000</td>\n",
       "      <td>0.000000e+00</td>\n",
       "      <td>0.000000e+00</td>\n",
       "      <td>630.000000</td>\n",
       "      <td>892.000000</td>\n",
       "      <td>699.000000</td>\n",
       "      <td>3.000000</td>\n",
       "      <td>12889.000000</td>\n",
       "      <td>12889.000000</td>\n",
       "      <td>673.000000</td>\n",
       "      <td>1.000000</td>\n",
       "      <td>2024.0</td>\n",
       "      <td>7.000000</td>\n",
       "      <td>97.0</td>\n",
       "      <td>143.0</td>\n",
       "    </tr>\n",
       "    <tr>\n",
       "      <th>75%</th>\n",
       "      <td>26.000000</td>\n",
       "      <td>27.000000</td>\n",
       "      <td>9.114000e+05</td>\n",
       "      <td>3040.000000</td>\n",
       "      <td>2403.500000</td>\n",
       "      <td>1.120000e+03</td>\n",
       "      <td>0.000000e+00</td>\n",
       "      <td>1047.000000</td>\n",
       "      <td>3305.000000</td>\n",
       "      <td>2582.000000</td>\n",
       "      <td>3.000000</td>\n",
       "      <td>14100.000000</td>\n",
       "      <td>14100.000000</td>\n",
       "      <td>699.000000</td>\n",
       "      <td>1.000000</td>\n",
       "      <td>2024.0</td>\n",
       "      <td>10.000000</td>\n",
       "      <td>142.0</td>\n",
       "      <td>176.0</td>\n",
       "    </tr>\n",
       "    <tr>\n",
       "      <th>max</th>\n",
       "      <td>1574.000000</td>\n",
       "      <td>1574.000000</td>\n",
       "      <td>4.953270e+07</td>\n",
       "      <td>83712.000000</td>\n",
       "      <td>72783.000000</td>\n",
       "      <td>4.129528e+07</td>\n",
       "      <td>3.108694e+06</td>\n",
       "      <td>7360.000000</td>\n",
       "      <td>103896.000000</td>\n",
       "      <td>94868.000000</td>\n",
       "      <td>3.000000</td>\n",
       "      <td>17058.000000</td>\n",
       "      <td>17058.000000</td>\n",
       "      <td>889.000000</td>\n",
       "      <td>4.000000</td>\n",
       "      <td>2024.0</td>\n",
       "      <td>12.000000</td>\n",
       "      <td>489.0</td>\n",
       "      <td>509.0</td>\n",
       "    </tr>\n",
       "  </tbody>\n",
       "</table>\n",
       "</div>"
      ],
      "text/plain": [
       "       departures_scheduled  departures_performed       payload  \\\n",
       "count         440751.000000         440751.000000  4.407510e+05   \n",
       "mean              19.479345             20.087244  7.366505e+05   \n",
       "std               33.681686             33.100850  1.375799e+06   \n",
       "min                0.000000              0.000000  0.000000e+00   \n",
       "25%                1.000000              1.000000  4.480000e+04   \n",
       "50%                7.000000              8.000000  2.380000e+05   \n",
       "75%               26.000000             27.000000  9.114000e+05   \n",
       "max             1574.000000           1574.000000  4.953270e+07   \n",
       "\n",
       "               seats     passengers       freight          mail  \\\n",
       "count  440751.000000  440751.000000  4.407510e+05  4.407510e+05   \n",
       "mean     2407.468793    1949.990149  6.354306e+04  2.638118e+03   \n",
       "std      4547.112330    3812.564110  4.714950e+05  3.434086e+04   \n",
       "min         0.000000       0.000000  0.000000e+00  0.000000e+00   \n",
       "25%        81.000000      32.000000  0.000000e+00  0.000000e+00   \n",
       "50%       572.000000     442.000000  0.000000e+00  0.000000e+00   \n",
       "75%      3040.000000    2403.500000  1.120000e+03  0.000000e+00   \n",
       "max     83712.000000   72783.000000  4.129528e+07  3.108694e+06   \n",
       "\n",
       "            distance   ramp_to_ramp       air_time  carrier_group  \\\n",
       "count  440751.000000  440751.000000  440751.000000  440751.000000   \n",
       "mean      768.300040    2631.662465    2136.808293       2.581895   \n",
       "std       638.189156    4548.022006    3854.597995       0.758462   \n",
       "min         0.000000       0.000000       0.000000       0.000000   \n",
       "25%       288.000000     174.000000     139.000000       2.000000   \n",
       "50%       630.000000     892.000000     699.000000       3.000000   \n",
       "75%      1047.000000    3305.000000    2582.000000       3.000000   \n",
       "max      7360.000000  103896.000000   94868.000000       3.000000   \n",
       "\n",
       "       origin_airport_id  dest_airport_id  aircraft_type  aircraft_config  \\\n",
       "count      440751.000000    440751.000000  440751.000000    440751.000000   \n",
       "mean        12764.039240     12761.797929     634.727724         1.142303   \n",
       "std          1582.923385      1579.855683     170.938409         0.437672   \n",
       "min         10001.000000     10001.000000      26.000000         1.000000   \n",
       "25%         11292.000000     11292.000000     614.000000         1.000000   \n",
       "50%         12889.000000     12889.000000     673.000000         1.000000   \n",
       "75%         14100.000000     14100.000000     699.000000         1.000000   \n",
       "max         17058.000000     17058.000000     889.000000         4.000000   \n",
       "\n",
       "           year          month  avg_passengers_per_flight  \\\n",
       "count  440751.0  440751.000000                   439891.0   \n",
       "mean     2024.0       6.575504                  86.327208   \n",
       "std         0.0       3.432239                  64.721131   \n",
       "min      2024.0       1.000000                        0.0   \n",
       "25%      2024.0       4.000000                        6.0   \n",
       "50%      2024.0       7.000000                       97.0   \n",
       "75%      2024.0      10.000000                      142.0   \n",
       "max      2024.0      12.000000                      489.0   \n",
       "\n",
       "       avg_seats_per_flight  \n",
       "count              439891.0  \n",
       "mean             114.726655  \n",
       "std               75.667556  \n",
       "min                     0.0  \n",
       "25%                    50.0  \n",
       "50%                   143.0  \n",
       "75%                   176.0  \n",
       "max                   509.0  "
      ]
     },
     "execution_count": 26,
     "metadata": {},
     "output_type": "execute_result"
    }
   ],
   "source": [
    "data.describe()"
   ]
  },
  {
   "cell_type": "code",
   "execution_count": 27,
   "id": "66f0c9fb",
   "metadata": {},
   "outputs": [
    {
     "data": {
      "application/vnd.microsoft.datawrangler.viewer.v0+json": {
       "columns": [
        {
         "name": "index",
         "rawType": "object",
         "type": "string"
        },
        {
         "name": "0",
         "rawType": "int64",
         "type": "integer"
        }
       ],
       "ref": "f73972db-4751-446d-b977-b4287ce61437",
       "rows": [
        [
         "departures_scheduled",
         "511"
        ],
        [
         "departures_performed",
         "510"
        ],
        [
         "payload",
         "104338"
        ],
        [
         "seats",
         "13722"
        ],
        [
         "passengers",
         "19395"
        ],
        [
         "freight",
         "54338"
        ],
        [
         "mail",
         "14855"
        ],
        [
         "distance",
         "2589"
        ],
        [
         "ramp_to_ramp",
         "22149"
        ],
        [
         "air_time",
         "19542"
        ],
        [
         "unique_carrier",
         "200"
        ],
        [
         "unique_carrier_name",
         "200"
        ],
        [
         "carrier_group",
         "4"
        ],
        [
         "origin_airport_id",
         "1338"
        ],
        [
         "origin",
         "1338"
        ],
        [
         "origin_city_name",
         "1199"
        ],
        [
         "dest_airport_id",
         "1340"
        ],
        [
         "dest",
         "1340"
        ],
        [
         "dest_city_name",
         "1207"
        ],
        [
         "aircraft_type",
         "157"
        ],
        [
         "aircraft_config",
         "4"
        ],
        [
         "year",
         "1"
        ],
        [
         "month",
         "12"
        ],
        [
         "avg_passengers_per_flight",
         "372"
        ],
        [
         "avg_seats_per_flight",
         "309"
        ]
       ],
       "shape": {
        "columns": 1,
        "rows": 25
       }
      },
      "text/plain": [
       "departures_scheduled            511\n",
       "departures_performed            510\n",
       "payload                      104338\n",
       "seats                         13722\n",
       "passengers                    19395\n",
       "freight                       54338\n",
       "mail                          14855\n",
       "distance                       2589\n",
       "ramp_to_ramp                  22149\n",
       "air_time                      19542\n",
       "unique_carrier                  200\n",
       "unique_carrier_name             200\n",
       "carrier_group                     4\n",
       "origin_airport_id              1338\n",
       "origin                         1338\n",
       "origin_city_name               1199\n",
       "dest_airport_id                1340\n",
       "dest                           1340\n",
       "dest_city_name                 1207\n",
       "aircraft_type                   157\n",
       "aircraft_config                   4\n",
       "year                              1\n",
       "month                            12\n",
       "avg_passengers_per_flight       372\n",
       "avg_seats_per_flight            309\n",
       "dtype: int64"
      ]
     },
     "execution_count": 27,
     "metadata": {},
     "output_type": "execute_result"
    }
   ],
   "source": [
    "data.nunique()"
   ]
  },
  {
   "cell_type": "code",
   "execution_count": null,
   "id": "f1b8724b",
   "metadata": {},
   "outputs": [],
   "source": []
  },
  {
   "cell_type": "code",
   "execution_count": 28,
   "id": "b0372b39",
   "metadata": {},
   "outputs": [
    {
     "data": {
      "application/vnd.microsoft.datawrangler.viewer.v0+json": {
       "columns": [
        {
         "name": "index",
         "rawType": "object",
         "type": "string"
        },
        {
         "name": "58833",
         "rawType": "object",
         "type": "unknown"
        }
       ],
       "ref": "3e607fe4-11ce-401d-913d-8d56509e8aa9",
       "rows": [
        [
         "departures_scheduled",
         "0.0"
        ],
        [
         "departures_performed",
         "1.0"
        ],
        [
         "payload",
         "138114.0"
        ],
        [
         "seats",
         "509.0"
        ],
        [
         "passengers",
         "239.0"
        ],
        [
         "freight",
         "17153.0"
        ],
        [
         "mail",
         "0.0"
        ],
        [
         "distance",
         "187.0"
        ],
        [
         "ramp_to_ramp",
         "0.0"
        ],
        [
         "air_time",
         "0.0"
        ],
        [
         "unique_carrier",
         "LH"
        ],
        [
         "unique_carrier_name",
         "Lufthansa German Airlines"
        ],
        [
         "carrier_group",
         "0"
        ],
        [
         "origin_airport_id",
         "12478"
        ],
        [
         "origin",
         "JFK"
        ],
        [
         "origin_city_name",
         "New York, NY"
        ],
        [
         "dest_airport_id",
         "10721"
        ],
        [
         "dest",
         "BOS"
        ],
        [
         "dest_city_name",
         "Boston, MA"
        ],
        [
         "aircraft_type",
         "882"
        ],
        [
         "aircraft_config",
         "1"
        ],
        [
         "year",
         "2024"
        ],
        [
         "month",
         "10"
        ],
        [
         "avg_passengers_per_flight",
         "239"
        ],
        [
         "avg_seats_per_flight",
         "509"
        ]
       ],
       "shape": {
        "columns": 1,
        "rows": 25
       }
      },
      "text/plain": [
       "departures_scheduled                               0.0\n",
       "departures_performed                               1.0\n",
       "payload                                       138114.0\n",
       "seats                                            509.0\n",
       "passengers                                       239.0\n",
       "freight                                        17153.0\n",
       "mail                                               0.0\n",
       "distance                                         187.0\n",
       "ramp_to_ramp                                       0.0\n",
       "air_time                                           0.0\n",
       "unique_carrier                                      LH\n",
       "unique_carrier_name          Lufthansa German Airlines\n",
       "carrier_group                                        0\n",
       "origin_airport_id                                12478\n",
       "origin                                             JFK\n",
       "origin_city_name                          New York, NY\n",
       "dest_airport_id                                  10721\n",
       "dest                                               BOS\n",
       "dest_city_name                              Boston, MA\n",
       "aircraft_type                                      882\n",
       "aircraft_config                                      1\n",
       "year                                              2024\n",
       "month                                               10\n",
       "avg_passengers_per_flight                          239\n",
       "avg_seats_per_flight                               509\n",
       "Name: 58833, dtype: object"
      ]
     },
     "execution_count": 28,
     "metadata": {},
     "output_type": "execute_result"
    }
   ],
   "source": [
    "data.loc[data[\"avg_seats_per_flight\"].idxmax()]"
   ]
  },
  {
   "cell_type": "code",
   "execution_count": 29,
   "id": "ff41f89c",
   "metadata": {},
   "outputs": [
    {
     "data": {
      "application/vnd.microsoft.datawrangler.viewer.v0+json": {
       "columns": [
        {
         "name": "index",
         "rawType": "object",
         "type": "string"
        },
        {
         "name": "58837",
         "rawType": "object",
         "type": "unknown"
        }
       ],
       "ref": "02f8d534-412e-4d2b-9aa2-afddf6f0c7fd",
       "rows": [
        [
         "departures_scheduled",
         "0.0"
        ],
        [
         "departures_performed",
         "1.0"
        ],
        [
         "payload",
         "138114.0"
        ],
        [
         "seats",
         "509.0"
        ],
        [
         "passengers",
         "489.0"
        ],
        [
         "freight",
         "0.0"
        ],
        [
         "mail",
         "0.0"
        ],
        [
         "distance",
         "413.0"
        ],
        [
         "ramp_to_ramp",
         "0.0"
        ],
        [
         "air_time",
         "0.0"
        ],
        [
         "unique_carrier",
         "LH"
        ],
        [
         "unique_carrier_name",
         "Lufthansa German Airlines"
        ],
        [
         "carrier_group",
         "0"
        ],
        [
         "origin_airport_id",
         "12264"
        ],
        [
         "origin",
         "IAD"
        ],
        [
         "origin_city_name",
         "Washington, DC"
        ],
        [
         "dest_airport_id",
         "10721"
        ],
        [
         "dest",
         "BOS"
        ],
        [
         "dest_city_name",
         "Boston, MA"
        ],
        [
         "aircraft_type",
         "882"
        ],
        [
         "aircraft_config",
         "1"
        ],
        [
         "year",
         "2024"
        ],
        [
         "month",
         "7"
        ],
        [
         "avg_passengers_per_flight",
         "489"
        ],
        [
         "avg_seats_per_flight",
         "509"
        ]
       ],
       "shape": {
        "columns": 1,
        "rows": 25
       }
      },
      "text/plain": [
       "departures_scheduled                               0.0\n",
       "departures_performed                               1.0\n",
       "payload                                       138114.0\n",
       "seats                                            509.0\n",
       "passengers                                       489.0\n",
       "freight                                            0.0\n",
       "mail                                               0.0\n",
       "distance                                         413.0\n",
       "ramp_to_ramp                                       0.0\n",
       "air_time                                           0.0\n",
       "unique_carrier                                      LH\n",
       "unique_carrier_name          Lufthansa German Airlines\n",
       "carrier_group                                        0\n",
       "origin_airport_id                                12264\n",
       "origin                                             IAD\n",
       "origin_city_name                        Washington, DC\n",
       "dest_airport_id                                  10721\n",
       "dest                                               BOS\n",
       "dest_city_name                              Boston, MA\n",
       "aircraft_type                                      882\n",
       "aircraft_config                                      1\n",
       "year                                              2024\n",
       "month                                                7\n",
       "avg_passengers_per_flight                          489\n",
       "avg_seats_per_flight                               509\n",
       "Name: 58837, dtype: object"
      ]
     },
     "execution_count": 29,
     "metadata": {},
     "output_type": "execute_result"
    }
   ],
   "source": [
    "data.loc[data[\"avg_passengers_per_flight\"].idxmax()]"
   ]
  },
  {
   "cell_type": "code",
   "execution_count": 30,
   "id": "a9c826a1",
   "metadata": {},
   "outputs": [],
   "source": [
    "# Scheduled Departures to be deleted?"
   ]
  },
  {
   "cell_type": "code",
   "execution_count": 31,
   "id": "cf78f8aa",
   "metadata": {},
   "outputs": [
    {
     "data": {
      "application/vnd.microsoft.datawrangler.viewer.v0+json": {
       "columns": [
        {
         "name": "index",
         "rawType": "int64",
         "type": "integer"
        },
        {
         "name": "departures_scheduled",
         "rawType": "float64",
         "type": "float"
        },
        {
         "name": "departures_performed",
         "rawType": "float64",
         "type": "float"
        },
        {
         "name": "payload",
         "rawType": "float64",
         "type": "float"
        },
        {
         "name": "seats",
         "rawType": "float64",
         "type": "float"
        },
        {
         "name": "passengers",
         "rawType": "float64",
         "type": "float"
        },
        {
         "name": "freight",
         "rawType": "float64",
         "type": "float"
        },
        {
         "name": "mail",
         "rawType": "float64",
         "type": "float"
        },
        {
         "name": "distance",
         "rawType": "float64",
         "type": "float"
        },
        {
         "name": "ramp_to_ramp",
         "rawType": "float64",
         "type": "float"
        },
        {
         "name": "air_time",
         "rawType": "float64",
         "type": "float"
        },
        {
         "name": "unique_carrier",
         "rawType": "object",
         "type": "string"
        },
        {
         "name": "unique_carrier_name",
         "rawType": "object",
         "type": "string"
        },
        {
         "name": "carrier_group",
         "rawType": "int64",
         "type": "integer"
        },
        {
         "name": "origin_airport_id",
         "rawType": "int64",
         "type": "integer"
        },
        {
         "name": "origin",
         "rawType": "object",
         "type": "string"
        },
        {
         "name": "origin_city_name",
         "rawType": "object",
         "type": "string"
        },
        {
         "name": "dest_airport_id",
         "rawType": "int64",
         "type": "integer"
        },
        {
         "name": "dest",
         "rawType": "object",
         "type": "string"
        },
        {
         "name": "dest_city_name",
         "rawType": "object",
         "type": "string"
        },
        {
         "name": "aircraft_type",
         "rawType": "int64",
         "type": "integer"
        },
        {
         "name": "aircraft_config",
         "rawType": "int64",
         "type": "integer"
        },
        {
         "name": "year",
         "rawType": "int64",
         "type": "integer"
        },
        {
         "name": "month",
         "rawType": "int64",
         "type": "integer"
        },
        {
         "name": "avg_passengers_per_flight",
         "rawType": "Int64",
         "type": "integer"
        },
        {
         "name": "avg_seats_per_flight",
         "rawType": "Int64",
         "type": "integer"
        }
       ],
       "ref": "5efb23e5-b024-47fe-8b63-f6dfb9aee8d6",
       "rows": [
        [
         "58833",
         "0.0",
         "1.0",
         "138114.0",
         "509.0",
         "239.0",
         "17153.0",
         "0.0",
         "187.0",
         "0.0",
         "0.0",
         "LH",
         "Lufthansa German Airlines",
         "0",
         "12478",
         "JFK",
         "New York, NY",
         "10721",
         "BOS",
         "Boston, MA",
         "882",
         "1",
         "2024",
         "10",
         "239",
         "509"
        ],
        [
         "58834",
         "0.0",
         "1.0",
         "138114.0",
         "509.0",
         "261.0",
         "14938.0",
         "0.0",
         "413.0",
         "0.0",
         "0.0",
         "LH",
         "Lufthansa German Airlines",
         "0",
         "10721",
         "BOS",
         "Boston, MA",
         "12264",
         "IAD",
         "Washington, DC",
         "882",
         "1",
         "2024",
         "8",
         "261",
         "509"
        ],
        [
         "58835",
         "0.0",
         "1.0",
         "138114.0",
         "509.0",
         "473.0",
         "4.0",
         "0.0",
         "228.0",
         "0.0",
         "0.0",
         "LH",
         "Lufthansa German Airlines",
         "0",
         "12478",
         "JFK",
         "New York, NY",
         "12264",
         "IAD",
         "Washington, DC",
         "882",
         "1",
         "2024",
         "8",
         "473",
         "509"
        ],
        [
         "58836",
         "0.0",
         "1.0",
         "138114.0",
         "509.0",
         "481.0",
         "6250.0",
         "0.0",
         "2611.0",
         "0.0",
         "0.0",
         "LH",
         "Lufthansa German Airlines",
         "0",
         "12892",
         "LAX",
         "Los Angeles, CA",
         "10721",
         "BOS",
         "Boston, MA",
         "882",
         "1",
         "2024",
         "6",
         "481",
         "509"
        ],
        [
         "58837",
         "0.0",
         "1.0",
         "138114.0",
         "509.0",
         "489.0",
         "0.0",
         "0.0",
         "413.0",
         "0.0",
         "0.0",
         "LH",
         "Lufthansa German Airlines",
         "0",
         "12264",
         "IAD",
         "Washington, DC",
         "10721",
         "BOS",
         "Boston, MA",
         "882",
         "1",
         "2024",
         "7",
         "489",
         "509"
        ],
        [
         "58076",
         "0.0",
         "1.0",
         "120182.0",
         "485.0",
         "481.0",
         "23192.0",
         "0.0",
         "2556.0",
         "0.0",
         "0.0",
         "QF",
         "Qantas Airways Ltd.",
         "0",
         "12173",
         "HNL",
         "Honolulu, HI",
         "12892",
         "LAX",
         "Los Angeles, CA",
         "882",
         "1",
         "2024",
         "11",
         "481",
         "485"
        ],
        [
         "58881",
         "0.0",
         "1.0",
         "157333.0",
         "453.0",
         "0.0",
         "0.0",
         "0.0",
         "0.0",
         "30.0",
         "29.0",
         "5Y",
         "Atlas Air Inc.",
         "3",
         "10821",
         "BWI",
         "Baltimore, MD",
         "10821",
         "BWI",
         "Baltimore, MD",
         "819",
         "1",
         "2024",
         "7",
         "0",
         "453"
        ],
        [
         "58882",
         "0.0",
         "1.0",
         "157333.0",
         "453.0",
         "0.0",
         "7053.0",
         "0.0",
         "430.0",
         "88.0",
         "54.0",
         "5Y",
         "Atlas Air Inc.",
         "3",
         "11193",
         "CVG",
         "Cincinnati, OH",
         "10821",
         "BWI",
         "Baltimore, MD",
         "819",
         "1",
         "2024",
         "9",
         "0",
         "453"
        ],
        [
         "58883",
         "0.0",
         "1.0",
         "157333.0",
         "453.0",
         "0.0",
         "7293.0",
         "0.0",
         "430.0",
         "99.0",
         "71.0",
         "5Y",
         "Atlas Air Inc.",
         "3",
         "10821",
         "BWI",
         "Baltimore, MD",
         "11193",
         "CVG",
         "Cincinnati, OH",
         "819",
         "1",
         "2024",
         "8",
         "0",
         "453"
        ],
        [
         "58884",
         "0.0",
         "1.0",
         "157333.0",
         "453.0",
         "0.0",
         "7524.0",
         "0.0",
         "3370.0",
         "484.0",
         "375.0",
         "5Y",
         "Atlas Air Inc.",
         "3",
         "10299",
         "ANC",
         "Anchorage, AK",
         "10821",
         "BWI",
         "Baltimore, MD",
         "819",
         "1",
         "2024",
         "8",
         "0",
         "453"
        ]
       ],
       "shape": {
        "columns": 25,
        "rows": 10
       }
      },
      "text/html": [
       "<div>\n",
       "<style scoped>\n",
       "    .dataframe tbody tr th:only-of-type {\n",
       "        vertical-align: middle;\n",
       "    }\n",
       "\n",
       "    .dataframe tbody tr th {\n",
       "        vertical-align: top;\n",
       "    }\n",
       "\n",
       "    .dataframe thead th {\n",
       "        text-align: right;\n",
       "    }\n",
       "</style>\n",
       "<table border=\"1\" class=\"dataframe\">\n",
       "  <thead>\n",
       "    <tr style=\"text-align: right;\">\n",
       "      <th></th>\n",
       "      <th>departures_scheduled</th>\n",
       "      <th>departures_performed</th>\n",
       "      <th>payload</th>\n",
       "      <th>seats</th>\n",
       "      <th>passengers</th>\n",
       "      <th>freight</th>\n",
       "      <th>mail</th>\n",
       "      <th>distance</th>\n",
       "      <th>ramp_to_ramp</th>\n",
       "      <th>air_time</th>\n",
       "      <th>...</th>\n",
       "      <th>origin_city_name</th>\n",
       "      <th>dest_airport_id</th>\n",
       "      <th>dest</th>\n",
       "      <th>dest_city_name</th>\n",
       "      <th>aircraft_type</th>\n",
       "      <th>aircraft_config</th>\n",
       "      <th>year</th>\n",
       "      <th>month</th>\n",
       "      <th>avg_passengers_per_flight</th>\n",
       "      <th>avg_seats_per_flight</th>\n",
       "    </tr>\n",
       "  </thead>\n",
       "  <tbody>\n",
       "    <tr>\n",
       "      <th>58833</th>\n",
       "      <td>0.0</td>\n",
       "      <td>1.0</td>\n",
       "      <td>138114.0</td>\n",
       "      <td>509.0</td>\n",
       "      <td>239.0</td>\n",
       "      <td>17153.0</td>\n",
       "      <td>0.0</td>\n",
       "      <td>187.0</td>\n",
       "      <td>0.0</td>\n",
       "      <td>0.0</td>\n",
       "      <td>...</td>\n",
       "      <td>New York, NY</td>\n",
       "      <td>10721</td>\n",
       "      <td>BOS</td>\n",
       "      <td>Boston, MA</td>\n",
       "      <td>882</td>\n",
       "      <td>1</td>\n",
       "      <td>2024</td>\n",
       "      <td>10</td>\n",
       "      <td>239</td>\n",
       "      <td>509</td>\n",
       "    </tr>\n",
       "    <tr>\n",
       "      <th>58834</th>\n",
       "      <td>0.0</td>\n",
       "      <td>1.0</td>\n",
       "      <td>138114.0</td>\n",
       "      <td>509.0</td>\n",
       "      <td>261.0</td>\n",
       "      <td>14938.0</td>\n",
       "      <td>0.0</td>\n",
       "      <td>413.0</td>\n",
       "      <td>0.0</td>\n",
       "      <td>0.0</td>\n",
       "      <td>...</td>\n",
       "      <td>Boston, MA</td>\n",
       "      <td>12264</td>\n",
       "      <td>IAD</td>\n",
       "      <td>Washington, DC</td>\n",
       "      <td>882</td>\n",
       "      <td>1</td>\n",
       "      <td>2024</td>\n",
       "      <td>8</td>\n",
       "      <td>261</td>\n",
       "      <td>509</td>\n",
       "    </tr>\n",
       "    <tr>\n",
       "      <th>58835</th>\n",
       "      <td>0.0</td>\n",
       "      <td>1.0</td>\n",
       "      <td>138114.0</td>\n",
       "      <td>509.0</td>\n",
       "      <td>473.0</td>\n",
       "      <td>4.0</td>\n",
       "      <td>0.0</td>\n",
       "      <td>228.0</td>\n",
       "      <td>0.0</td>\n",
       "      <td>0.0</td>\n",
       "      <td>...</td>\n",
       "      <td>New York, NY</td>\n",
       "      <td>12264</td>\n",
       "      <td>IAD</td>\n",
       "      <td>Washington, DC</td>\n",
       "      <td>882</td>\n",
       "      <td>1</td>\n",
       "      <td>2024</td>\n",
       "      <td>8</td>\n",
       "      <td>473</td>\n",
       "      <td>509</td>\n",
       "    </tr>\n",
       "    <tr>\n",
       "      <th>58836</th>\n",
       "      <td>0.0</td>\n",
       "      <td>1.0</td>\n",
       "      <td>138114.0</td>\n",
       "      <td>509.0</td>\n",
       "      <td>481.0</td>\n",
       "      <td>6250.0</td>\n",
       "      <td>0.0</td>\n",
       "      <td>2611.0</td>\n",
       "      <td>0.0</td>\n",
       "      <td>0.0</td>\n",
       "      <td>...</td>\n",
       "      <td>Los Angeles, CA</td>\n",
       "      <td>10721</td>\n",
       "      <td>BOS</td>\n",
       "      <td>Boston, MA</td>\n",
       "      <td>882</td>\n",
       "      <td>1</td>\n",
       "      <td>2024</td>\n",
       "      <td>6</td>\n",
       "      <td>481</td>\n",
       "      <td>509</td>\n",
       "    </tr>\n",
       "    <tr>\n",
       "      <th>58837</th>\n",
       "      <td>0.0</td>\n",
       "      <td>1.0</td>\n",
       "      <td>138114.0</td>\n",
       "      <td>509.0</td>\n",
       "      <td>489.0</td>\n",
       "      <td>0.0</td>\n",
       "      <td>0.0</td>\n",
       "      <td>413.0</td>\n",
       "      <td>0.0</td>\n",
       "      <td>0.0</td>\n",
       "      <td>...</td>\n",
       "      <td>Washington, DC</td>\n",
       "      <td>10721</td>\n",
       "      <td>BOS</td>\n",
       "      <td>Boston, MA</td>\n",
       "      <td>882</td>\n",
       "      <td>1</td>\n",
       "      <td>2024</td>\n",
       "      <td>7</td>\n",
       "      <td>489</td>\n",
       "      <td>509</td>\n",
       "    </tr>\n",
       "    <tr>\n",
       "      <th>58076</th>\n",
       "      <td>0.0</td>\n",
       "      <td>1.0</td>\n",
       "      <td>120182.0</td>\n",
       "      <td>485.0</td>\n",
       "      <td>481.0</td>\n",
       "      <td>23192.0</td>\n",
       "      <td>0.0</td>\n",
       "      <td>2556.0</td>\n",
       "      <td>0.0</td>\n",
       "      <td>0.0</td>\n",
       "      <td>...</td>\n",
       "      <td>Honolulu, HI</td>\n",
       "      <td>12892</td>\n",
       "      <td>LAX</td>\n",
       "      <td>Los Angeles, CA</td>\n",
       "      <td>882</td>\n",
       "      <td>1</td>\n",
       "      <td>2024</td>\n",
       "      <td>11</td>\n",
       "      <td>481</td>\n",
       "      <td>485</td>\n",
       "    </tr>\n",
       "    <tr>\n",
       "      <th>58881</th>\n",
       "      <td>0.0</td>\n",
       "      <td>1.0</td>\n",
       "      <td>157333.0</td>\n",
       "      <td>453.0</td>\n",
       "      <td>0.0</td>\n",
       "      <td>0.0</td>\n",
       "      <td>0.0</td>\n",
       "      <td>0.0</td>\n",
       "      <td>30.0</td>\n",
       "      <td>29.0</td>\n",
       "      <td>...</td>\n",
       "      <td>Baltimore, MD</td>\n",
       "      <td>10821</td>\n",
       "      <td>BWI</td>\n",
       "      <td>Baltimore, MD</td>\n",
       "      <td>819</td>\n",
       "      <td>1</td>\n",
       "      <td>2024</td>\n",
       "      <td>7</td>\n",
       "      <td>0</td>\n",
       "      <td>453</td>\n",
       "    </tr>\n",
       "    <tr>\n",
       "      <th>58882</th>\n",
       "      <td>0.0</td>\n",
       "      <td>1.0</td>\n",
       "      <td>157333.0</td>\n",
       "      <td>453.0</td>\n",
       "      <td>0.0</td>\n",
       "      <td>7053.0</td>\n",
       "      <td>0.0</td>\n",
       "      <td>430.0</td>\n",
       "      <td>88.0</td>\n",
       "      <td>54.0</td>\n",
       "      <td>...</td>\n",
       "      <td>Cincinnati, OH</td>\n",
       "      <td>10821</td>\n",
       "      <td>BWI</td>\n",
       "      <td>Baltimore, MD</td>\n",
       "      <td>819</td>\n",
       "      <td>1</td>\n",
       "      <td>2024</td>\n",
       "      <td>9</td>\n",
       "      <td>0</td>\n",
       "      <td>453</td>\n",
       "    </tr>\n",
       "    <tr>\n",
       "      <th>58883</th>\n",
       "      <td>0.0</td>\n",
       "      <td>1.0</td>\n",
       "      <td>157333.0</td>\n",
       "      <td>453.0</td>\n",
       "      <td>0.0</td>\n",
       "      <td>7293.0</td>\n",
       "      <td>0.0</td>\n",
       "      <td>430.0</td>\n",
       "      <td>99.0</td>\n",
       "      <td>71.0</td>\n",
       "      <td>...</td>\n",
       "      <td>Baltimore, MD</td>\n",
       "      <td>11193</td>\n",
       "      <td>CVG</td>\n",
       "      <td>Cincinnati, OH</td>\n",
       "      <td>819</td>\n",
       "      <td>1</td>\n",
       "      <td>2024</td>\n",
       "      <td>8</td>\n",
       "      <td>0</td>\n",
       "      <td>453</td>\n",
       "    </tr>\n",
       "    <tr>\n",
       "      <th>58884</th>\n",
       "      <td>0.0</td>\n",
       "      <td>1.0</td>\n",
       "      <td>157333.0</td>\n",
       "      <td>453.0</td>\n",
       "      <td>0.0</td>\n",
       "      <td>7524.0</td>\n",
       "      <td>0.0</td>\n",
       "      <td>3370.0</td>\n",
       "      <td>484.0</td>\n",
       "      <td>375.0</td>\n",
       "      <td>...</td>\n",
       "      <td>Anchorage, AK</td>\n",
       "      <td>10821</td>\n",
       "      <td>BWI</td>\n",
       "      <td>Baltimore, MD</td>\n",
       "      <td>819</td>\n",
       "      <td>1</td>\n",
       "      <td>2024</td>\n",
       "      <td>8</td>\n",
       "      <td>0</td>\n",
       "      <td>453</td>\n",
       "    </tr>\n",
       "  </tbody>\n",
       "</table>\n",
       "<p>10 rows × 25 columns</p>\n",
       "</div>"
      ],
      "text/plain": [
       "       departures_scheduled  departures_performed   payload  seats  \\\n",
       "58833                   0.0                   1.0  138114.0  509.0   \n",
       "58834                   0.0                   1.0  138114.0  509.0   \n",
       "58835                   0.0                   1.0  138114.0  509.0   \n",
       "58836                   0.0                   1.0  138114.0  509.0   \n",
       "58837                   0.0                   1.0  138114.0  509.0   \n",
       "58076                   0.0                   1.0  120182.0  485.0   \n",
       "58881                   0.0                   1.0  157333.0  453.0   \n",
       "58882                   0.0                   1.0  157333.0  453.0   \n",
       "58883                   0.0                   1.0  157333.0  453.0   \n",
       "58884                   0.0                   1.0  157333.0  453.0   \n",
       "\n",
       "       passengers  freight  mail  distance  ramp_to_ramp  air_time  ...  \\\n",
       "58833       239.0  17153.0   0.0     187.0           0.0       0.0  ...   \n",
       "58834       261.0  14938.0   0.0     413.0           0.0       0.0  ...   \n",
       "58835       473.0      4.0   0.0     228.0           0.0       0.0  ...   \n",
       "58836       481.0   6250.0   0.0    2611.0           0.0       0.0  ...   \n",
       "58837       489.0      0.0   0.0     413.0           0.0       0.0  ...   \n",
       "58076       481.0  23192.0   0.0    2556.0           0.0       0.0  ...   \n",
       "58881         0.0      0.0   0.0       0.0          30.0      29.0  ...   \n",
       "58882         0.0   7053.0   0.0     430.0          88.0      54.0  ...   \n",
       "58883         0.0   7293.0   0.0     430.0          99.0      71.0  ...   \n",
       "58884         0.0   7524.0   0.0    3370.0         484.0     375.0  ...   \n",
       "\n",
       "      origin_city_name dest_airport_id  dest   dest_city_name aircraft_type  \\\n",
       "58833     New York, NY           10721   BOS       Boston, MA           882   \n",
       "58834       Boston, MA           12264   IAD   Washington, DC           882   \n",
       "58835     New York, NY           12264   IAD   Washington, DC           882   \n",
       "58836  Los Angeles, CA           10721   BOS       Boston, MA           882   \n",
       "58837   Washington, DC           10721   BOS       Boston, MA           882   \n",
       "58076     Honolulu, HI           12892   LAX  Los Angeles, CA           882   \n",
       "58881    Baltimore, MD           10821   BWI    Baltimore, MD           819   \n",
       "58882   Cincinnati, OH           10821   BWI    Baltimore, MD           819   \n",
       "58883    Baltimore, MD           11193   CVG   Cincinnati, OH           819   \n",
       "58884    Anchorage, AK           10821   BWI    Baltimore, MD           819   \n",
       "\n",
       "      aircraft_config  year month avg_passengers_per_flight  \\\n",
       "58833               1  2024    10                       239   \n",
       "58834               1  2024     8                       261   \n",
       "58835               1  2024     8                       473   \n",
       "58836               1  2024     6                       481   \n",
       "58837               1  2024     7                       489   \n",
       "58076               1  2024    11                       481   \n",
       "58881               1  2024     7                         0   \n",
       "58882               1  2024     9                         0   \n",
       "58883               1  2024     8                         0   \n",
       "58884               1  2024     8                         0   \n",
       "\n",
       "       avg_seats_per_flight  \n",
       "58833                   509  \n",
       "58834                   509  \n",
       "58835                   509  \n",
       "58836                   509  \n",
       "58837                   509  \n",
       "58076                   485  \n",
       "58881                   453  \n",
       "58882                   453  \n",
       "58883                   453  \n",
       "58884                   453  \n",
       "\n",
       "[10 rows x 25 columns]"
      ]
     },
     "execution_count": 31,
     "metadata": {},
     "output_type": "execute_result"
    }
   ],
   "source": [
    "# Top 10 Seats\n",
    "data.nlargest(10, \"avg_seats_per_flight\")\n"
   ]
  },
  {
   "cell_type": "code",
   "execution_count": 32,
   "id": "1e037f76",
   "metadata": {},
   "outputs": [
    {
     "data": {
      "application/vnd.microsoft.datawrangler.viewer.v0+json": {
       "columns": [
        {
         "name": "index",
         "rawType": "int64",
         "type": "integer"
        },
        {
         "name": "departures_scheduled",
         "rawType": "float64",
         "type": "float"
        },
        {
         "name": "departures_performed",
         "rawType": "float64",
         "type": "float"
        },
        {
         "name": "payload",
         "rawType": "float64",
         "type": "float"
        },
        {
         "name": "seats",
         "rawType": "float64",
         "type": "float"
        },
        {
         "name": "passengers",
         "rawType": "float64",
         "type": "float"
        },
        {
         "name": "freight",
         "rawType": "float64",
         "type": "float"
        },
        {
         "name": "mail",
         "rawType": "float64",
         "type": "float"
        },
        {
         "name": "distance",
         "rawType": "float64",
         "type": "float"
        },
        {
         "name": "ramp_to_ramp",
         "rawType": "float64",
         "type": "float"
        },
        {
         "name": "air_time",
         "rawType": "float64",
         "type": "float"
        },
        {
         "name": "unique_carrier",
         "rawType": "object",
         "type": "string"
        },
        {
         "name": "unique_carrier_name",
         "rawType": "object",
         "type": "string"
        },
        {
         "name": "carrier_group",
         "rawType": "int64",
         "type": "integer"
        },
        {
         "name": "origin_airport_id",
         "rawType": "int64",
         "type": "integer"
        },
        {
         "name": "origin",
         "rawType": "object",
         "type": "string"
        },
        {
         "name": "origin_city_name",
         "rawType": "object",
         "type": "string"
        },
        {
         "name": "dest_airport_id",
         "rawType": "int64",
         "type": "integer"
        },
        {
         "name": "dest",
         "rawType": "object",
         "type": "string"
        },
        {
         "name": "dest_city_name",
         "rawType": "object",
         "type": "string"
        },
        {
         "name": "aircraft_type",
         "rawType": "int64",
         "type": "integer"
        },
        {
         "name": "aircraft_config",
         "rawType": "int64",
         "type": "integer"
        },
        {
         "name": "year",
         "rawType": "int64",
         "type": "integer"
        },
        {
         "name": "month",
         "rawType": "int64",
         "type": "integer"
        },
        {
         "name": "avg_passengers_per_flight",
         "rawType": "Int64",
         "type": "integer"
        },
        {
         "name": "avg_seats_per_flight",
         "rawType": "Int64",
         "type": "integer"
        }
       ],
       "ref": "4f754d13-5671-4fc5-9261-fad85d0a7cde",
       "rows": [
        [
         "58837",
         "0.0",
         "1.0",
         "138114.0",
         "509.0",
         "489.0",
         "0.0",
         "0.0",
         "413.0",
         "0.0",
         "0.0",
         "LH",
         "Lufthansa German Airlines",
         "0",
         "12264",
         "IAD",
         "Washington, DC",
         "10721",
         "BOS",
         "Boston, MA",
         "882",
         "1",
         "2024",
         "7",
         "489",
         "509"
        ],
        [
         "58076",
         "0.0",
         "1.0",
         "120182.0",
         "485.0",
         "481.0",
         "23192.0",
         "0.0",
         "2556.0",
         "0.0",
         "0.0",
         "QF",
         "Qantas Airways Ltd.",
         "0",
         "12173",
         "HNL",
         "Honolulu, HI",
         "12892",
         "LAX",
         "Los Angeles, CA",
         "882",
         "1",
         "2024",
         "11",
         "481",
         "485"
        ],
        [
         "58836",
         "0.0",
         "1.0",
         "138114.0",
         "509.0",
         "481.0",
         "6250.0",
         "0.0",
         "2611.0",
         "0.0",
         "0.0",
         "LH",
         "Lufthansa German Airlines",
         "0",
         "12892",
         "LAX",
         "Los Angeles, CA",
         "10721",
         "BOS",
         "Boston, MA",
         "882",
         "1",
         "2024",
         "6",
         "481",
         "509"
        ],
        [
         "58835",
         "0.0",
         "1.0",
         "138114.0",
         "509.0",
         "473.0",
         "4.0",
         "0.0",
         "228.0",
         "0.0",
         "0.0",
         "LH",
         "Lufthansa German Airlines",
         "0",
         "12478",
         "JFK",
         "New York, NY",
         "12264",
         "IAD",
         "Washington, DC",
         "882",
         "1",
         "2024",
         "8",
         "473",
         "509"
        ],
        [
         "58072",
         "0.0",
         "1.0",
         "119353.0",
         "381.0",
         "377.0",
         "0.0",
         "0.0",
         "1236.0",
         "162.0",
         "138.0",
         "X9",
         "Omni Air International LLC",
         "2",
         "13891",
         "ONT",
         "Ontario, CA",
         "15370",
         "TUL",
         "Tulsa, OK",
         "627",
         "1",
         "2024",
         "1",
         "377",
         "381"
        ],
        [
         "60336",
         "0.0",
         "1.0",
         "480900.0",
         "453.0",
         "375.0",
         "8865.0",
         "0.0",
         "1017.0",
         "142.0",
         "121.0",
         "5Y",
         "Atlas Air Inc.",
         "3",
         "11423",
         "DSM",
         "Des Moines, IA",
         "11618",
         "EWR",
         "Newark, NJ",
         "819",
         "1",
         "2024",
         "3",
         "375",
         "453"
        ],
        [
         "58071",
         "0.0",
         "1.0",
         "119353.0",
         "381.0",
         "369.0",
         "0.0",
         "0.0",
         "1829.0",
         "222.0",
         "192.0",
         "X9",
         "Omni Air International LLC",
         "2",
         "13891",
         "ONT",
         "Ontario, CA",
         "15624",
         "VPS",
         "Valparaiso, FL",
         "627",
         "1",
         "2024",
         "1",
         "369",
         "381"
        ],
        [
         "58552",
         "0.0",
         "1.0",
         "126600.0",
         "390.0",
         "369.0",
         "0.0",
         "0.0",
         "1995.0",
         "309.0",
         "270.0",
         "1BQ",
         "Eastern Airlines f/k/a Dynamic Airways, LLC",
         "1",
         "11066",
         "CMH",
         "Columbus, OH",
         "12892",
         "LAX",
         "Los Angeles, CA",
         "627",
         "1",
         "2024",
         "12",
         "369",
         "390"
        ],
        [
         "60335",
         "0.0",
         "1.0",
         "480900.0",
         "453.0",
         "368.0",
         "0.0",
         "0.0",
         "1017.0",
         "167.0",
         "136.0",
         "5Y",
         "Atlas Air Inc.",
         "3",
         "11618",
         "EWR",
         "Newark, NJ",
         "11423",
         "DSM",
         "Des Moines, IA",
         "819",
         "1",
         "2024",
         "3",
         "368",
         "453"
        ],
        [
         "58070",
         "0.0",
         "1.0",
         "119353.0",
         "381.0",
         "367.0",
         "0.0",
         "0.0",
         "1876.0",
         "234.0",
         "210.0",
         "X9",
         "Omni Air International LLC",
         "2",
         "10559",
         "BFI",
         "Seattle, WA",
         "12266",
         "IAH",
         "Houston, TX",
         "627",
         "1",
         "2024",
         "1",
         "367",
         "381"
        ]
       ],
       "shape": {
        "columns": 25,
        "rows": 10
       }
      },
      "text/html": [
       "<div>\n",
       "<style scoped>\n",
       "    .dataframe tbody tr th:only-of-type {\n",
       "        vertical-align: middle;\n",
       "    }\n",
       "\n",
       "    .dataframe tbody tr th {\n",
       "        vertical-align: top;\n",
       "    }\n",
       "\n",
       "    .dataframe thead th {\n",
       "        text-align: right;\n",
       "    }\n",
       "</style>\n",
       "<table border=\"1\" class=\"dataframe\">\n",
       "  <thead>\n",
       "    <tr style=\"text-align: right;\">\n",
       "      <th></th>\n",
       "      <th>departures_scheduled</th>\n",
       "      <th>departures_performed</th>\n",
       "      <th>payload</th>\n",
       "      <th>seats</th>\n",
       "      <th>passengers</th>\n",
       "      <th>freight</th>\n",
       "      <th>mail</th>\n",
       "      <th>distance</th>\n",
       "      <th>ramp_to_ramp</th>\n",
       "      <th>air_time</th>\n",
       "      <th>...</th>\n",
       "      <th>origin_city_name</th>\n",
       "      <th>dest_airport_id</th>\n",
       "      <th>dest</th>\n",
       "      <th>dest_city_name</th>\n",
       "      <th>aircraft_type</th>\n",
       "      <th>aircraft_config</th>\n",
       "      <th>year</th>\n",
       "      <th>month</th>\n",
       "      <th>avg_passengers_per_flight</th>\n",
       "      <th>avg_seats_per_flight</th>\n",
       "    </tr>\n",
       "  </thead>\n",
       "  <tbody>\n",
       "    <tr>\n",
       "      <th>58837</th>\n",
       "      <td>0.0</td>\n",
       "      <td>1.0</td>\n",
       "      <td>138114.0</td>\n",
       "      <td>509.0</td>\n",
       "      <td>489.0</td>\n",
       "      <td>0.0</td>\n",
       "      <td>0.0</td>\n",
       "      <td>413.0</td>\n",
       "      <td>0.0</td>\n",
       "      <td>0.0</td>\n",
       "      <td>...</td>\n",
       "      <td>Washington, DC</td>\n",
       "      <td>10721</td>\n",
       "      <td>BOS</td>\n",
       "      <td>Boston, MA</td>\n",
       "      <td>882</td>\n",
       "      <td>1</td>\n",
       "      <td>2024</td>\n",
       "      <td>7</td>\n",
       "      <td>489</td>\n",
       "      <td>509</td>\n",
       "    </tr>\n",
       "    <tr>\n",
       "      <th>58076</th>\n",
       "      <td>0.0</td>\n",
       "      <td>1.0</td>\n",
       "      <td>120182.0</td>\n",
       "      <td>485.0</td>\n",
       "      <td>481.0</td>\n",
       "      <td>23192.0</td>\n",
       "      <td>0.0</td>\n",
       "      <td>2556.0</td>\n",
       "      <td>0.0</td>\n",
       "      <td>0.0</td>\n",
       "      <td>...</td>\n",
       "      <td>Honolulu, HI</td>\n",
       "      <td>12892</td>\n",
       "      <td>LAX</td>\n",
       "      <td>Los Angeles, CA</td>\n",
       "      <td>882</td>\n",
       "      <td>1</td>\n",
       "      <td>2024</td>\n",
       "      <td>11</td>\n",
       "      <td>481</td>\n",
       "      <td>485</td>\n",
       "    </tr>\n",
       "    <tr>\n",
       "      <th>58836</th>\n",
       "      <td>0.0</td>\n",
       "      <td>1.0</td>\n",
       "      <td>138114.0</td>\n",
       "      <td>509.0</td>\n",
       "      <td>481.0</td>\n",
       "      <td>6250.0</td>\n",
       "      <td>0.0</td>\n",
       "      <td>2611.0</td>\n",
       "      <td>0.0</td>\n",
       "      <td>0.0</td>\n",
       "      <td>...</td>\n",
       "      <td>Los Angeles, CA</td>\n",
       "      <td>10721</td>\n",
       "      <td>BOS</td>\n",
       "      <td>Boston, MA</td>\n",
       "      <td>882</td>\n",
       "      <td>1</td>\n",
       "      <td>2024</td>\n",
       "      <td>6</td>\n",
       "      <td>481</td>\n",
       "      <td>509</td>\n",
       "    </tr>\n",
       "    <tr>\n",
       "      <th>58835</th>\n",
       "      <td>0.0</td>\n",
       "      <td>1.0</td>\n",
       "      <td>138114.0</td>\n",
       "      <td>509.0</td>\n",
       "      <td>473.0</td>\n",
       "      <td>4.0</td>\n",
       "      <td>0.0</td>\n",
       "      <td>228.0</td>\n",
       "      <td>0.0</td>\n",
       "      <td>0.0</td>\n",
       "      <td>...</td>\n",
       "      <td>New York, NY</td>\n",
       "      <td>12264</td>\n",
       "      <td>IAD</td>\n",
       "      <td>Washington, DC</td>\n",
       "      <td>882</td>\n",
       "      <td>1</td>\n",
       "      <td>2024</td>\n",
       "      <td>8</td>\n",
       "      <td>473</td>\n",
       "      <td>509</td>\n",
       "    </tr>\n",
       "    <tr>\n",
       "      <th>58072</th>\n",
       "      <td>0.0</td>\n",
       "      <td>1.0</td>\n",
       "      <td>119353.0</td>\n",
       "      <td>381.0</td>\n",
       "      <td>377.0</td>\n",
       "      <td>0.0</td>\n",
       "      <td>0.0</td>\n",
       "      <td>1236.0</td>\n",
       "      <td>162.0</td>\n",
       "      <td>138.0</td>\n",
       "      <td>...</td>\n",
       "      <td>Ontario, CA</td>\n",
       "      <td>15370</td>\n",
       "      <td>TUL</td>\n",
       "      <td>Tulsa, OK</td>\n",
       "      <td>627</td>\n",
       "      <td>1</td>\n",
       "      <td>2024</td>\n",
       "      <td>1</td>\n",
       "      <td>377</td>\n",
       "      <td>381</td>\n",
       "    </tr>\n",
       "    <tr>\n",
       "      <th>60336</th>\n",
       "      <td>0.0</td>\n",
       "      <td>1.0</td>\n",
       "      <td>480900.0</td>\n",
       "      <td>453.0</td>\n",
       "      <td>375.0</td>\n",
       "      <td>8865.0</td>\n",
       "      <td>0.0</td>\n",
       "      <td>1017.0</td>\n",
       "      <td>142.0</td>\n",
       "      <td>121.0</td>\n",
       "      <td>...</td>\n",
       "      <td>Des Moines, IA</td>\n",
       "      <td>11618</td>\n",
       "      <td>EWR</td>\n",
       "      <td>Newark, NJ</td>\n",
       "      <td>819</td>\n",
       "      <td>1</td>\n",
       "      <td>2024</td>\n",
       "      <td>3</td>\n",
       "      <td>375</td>\n",
       "      <td>453</td>\n",
       "    </tr>\n",
       "    <tr>\n",
       "      <th>58071</th>\n",
       "      <td>0.0</td>\n",
       "      <td>1.0</td>\n",
       "      <td>119353.0</td>\n",
       "      <td>381.0</td>\n",
       "      <td>369.0</td>\n",
       "      <td>0.0</td>\n",
       "      <td>0.0</td>\n",
       "      <td>1829.0</td>\n",
       "      <td>222.0</td>\n",
       "      <td>192.0</td>\n",
       "      <td>...</td>\n",
       "      <td>Ontario, CA</td>\n",
       "      <td>15624</td>\n",
       "      <td>VPS</td>\n",
       "      <td>Valparaiso, FL</td>\n",
       "      <td>627</td>\n",
       "      <td>1</td>\n",
       "      <td>2024</td>\n",
       "      <td>1</td>\n",
       "      <td>369</td>\n",
       "      <td>381</td>\n",
       "    </tr>\n",
       "    <tr>\n",
       "      <th>58552</th>\n",
       "      <td>0.0</td>\n",
       "      <td>1.0</td>\n",
       "      <td>126600.0</td>\n",
       "      <td>390.0</td>\n",
       "      <td>369.0</td>\n",
       "      <td>0.0</td>\n",
       "      <td>0.0</td>\n",
       "      <td>1995.0</td>\n",
       "      <td>309.0</td>\n",
       "      <td>270.0</td>\n",
       "      <td>...</td>\n",
       "      <td>Columbus, OH</td>\n",
       "      <td>12892</td>\n",
       "      <td>LAX</td>\n",
       "      <td>Los Angeles, CA</td>\n",
       "      <td>627</td>\n",
       "      <td>1</td>\n",
       "      <td>2024</td>\n",
       "      <td>12</td>\n",
       "      <td>369</td>\n",
       "      <td>390</td>\n",
       "    </tr>\n",
       "    <tr>\n",
       "      <th>60335</th>\n",
       "      <td>0.0</td>\n",
       "      <td>1.0</td>\n",
       "      <td>480900.0</td>\n",
       "      <td>453.0</td>\n",
       "      <td>368.0</td>\n",
       "      <td>0.0</td>\n",
       "      <td>0.0</td>\n",
       "      <td>1017.0</td>\n",
       "      <td>167.0</td>\n",
       "      <td>136.0</td>\n",
       "      <td>...</td>\n",
       "      <td>Newark, NJ</td>\n",
       "      <td>11423</td>\n",
       "      <td>DSM</td>\n",
       "      <td>Des Moines, IA</td>\n",
       "      <td>819</td>\n",
       "      <td>1</td>\n",
       "      <td>2024</td>\n",
       "      <td>3</td>\n",
       "      <td>368</td>\n",
       "      <td>453</td>\n",
       "    </tr>\n",
       "    <tr>\n",
       "      <th>58070</th>\n",
       "      <td>0.0</td>\n",
       "      <td>1.0</td>\n",
       "      <td>119353.0</td>\n",
       "      <td>381.0</td>\n",
       "      <td>367.0</td>\n",
       "      <td>0.0</td>\n",
       "      <td>0.0</td>\n",
       "      <td>1876.0</td>\n",
       "      <td>234.0</td>\n",
       "      <td>210.0</td>\n",
       "      <td>...</td>\n",
       "      <td>Seattle, WA</td>\n",
       "      <td>12266</td>\n",
       "      <td>IAH</td>\n",
       "      <td>Houston, TX</td>\n",
       "      <td>627</td>\n",
       "      <td>1</td>\n",
       "      <td>2024</td>\n",
       "      <td>1</td>\n",
       "      <td>367</td>\n",
       "      <td>381</td>\n",
       "    </tr>\n",
       "  </tbody>\n",
       "</table>\n",
       "<p>10 rows × 25 columns</p>\n",
       "</div>"
      ],
      "text/plain": [
       "       departures_scheduled  departures_performed   payload  seats  \\\n",
       "58837                   0.0                   1.0  138114.0  509.0   \n",
       "58076                   0.0                   1.0  120182.0  485.0   \n",
       "58836                   0.0                   1.0  138114.0  509.0   \n",
       "58835                   0.0                   1.0  138114.0  509.0   \n",
       "58072                   0.0                   1.0  119353.0  381.0   \n",
       "60336                   0.0                   1.0  480900.0  453.0   \n",
       "58071                   0.0                   1.0  119353.0  381.0   \n",
       "58552                   0.0                   1.0  126600.0  390.0   \n",
       "60335                   0.0                   1.0  480900.0  453.0   \n",
       "58070                   0.0                   1.0  119353.0  381.0   \n",
       "\n",
       "       passengers  freight  mail  distance  ramp_to_ramp  air_time  ...  \\\n",
       "58837       489.0      0.0   0.0     413.0           0.0       0.0  ...   \n",
       "58076       481.0  23192.0   0.0    2556.0           0.0       0.0  ...   \n",
       "58836       481.0   6250.0   0.0    2611.0           0.0       0.0  ...   \n",
       "58835       473.0      4.0   0.0     228.0           0.0       0.0  ...   \n",
       "58072       377.0      0.0   0.0    1236.0         162.0     138.0  ...   \n",
       "60336       375.0   8865.0   0.0    1017.0         142.0     121.0  ...   \n",
       "58071       369.0      0.0   0.0    1829.0         222.0     192.0  ...   \n",
       "58552       369.0      0.0   0.0    1995.0         309.0     270.0  ...   \n",
       "60335       368.0      0.0   0.0    1017.0         167.0     136.0  ...   \n",
       "58070       367.0      0.0   0.0    1876.0         234.0     210.0  ...   \n",
       "\n",
       "      origin_city_name dest_airport_id  dest   dest_city_name aircraft_type  \\\n",
       "58837   Washington, DC           10721   BOS       Boston, MA           882   \n",
       "58076     Honolulu, HI           12892   LAX  Los Angeles, CA           882   \n",
       "58836  Los Angeles, CA           10721   BOS       Boston, MA           882   \n",
       "58835     New York, NY           12264   IAD   Washington, DC           882   \n",
       "58072      Ontario, CA           15370   TUL        Tulsa, OK           627   \n",
       "60336   Des Moines, IA           11618   EWR       Newark, NJ           819   \n",
       "58071      Ontario, CA           15624   VPS   Valparaiso, FL           627   \n",
       "58552     Columbus, OH           12892   LAX  Los Angeles, CA           627   \n",
       "60335       Newark, NJ           11423   DSM   Des Moines, IA           819   \n",
       "58070      Seattle, WA           12266   IAH      Houston, TX           627   \n",
       "\n",
       "      aircraft_config  year month avg_passengers_per_flight  \\\n",
       "58837               1  2024     7                       489   \n",
       "58076               1  2024    11                       481   \n",
       "58836               1  2024     6                       481   \n",
       "58835               1  2024     8                       473   \n",
       "58072               1  2024     1                       377   \n",
       "60336               1  2024     3                       375   \n",
       "58071               1  2024     1                       369   \n",
       "58552               1  2024    12                       369   \n",
       "60335               1  2024     3                       368   \n",
       "58070               1  2024     1                       367   \n",
       "\n",
       "       avg_seats_per_flight  \n",
       "58837                   509  \n",
       "58076                   485  \n",
       "58836                   509  \n",
       "58835                   509  \n",
       "58072                   381  \n",
       "60336                   453  \n",
       "58071                   381  \n",
       "58552                   390  \n",
       "60335                   453  \n",
       "58070                   381  \n",
       "\n",
       "[10 rows x 25 columns]"
      ]
     },
     "execution_count": 32,
     "metadata": {},
     "output_type": "execute_result"
    }
   ],
   "source": [
    "# Top 10 Passengers\n",
    "data.nlargest(10, \"avg_passengers_per_flight\")"
   ]
  },
  {
   "cell_type": "markdown",
   "id": "4ff1b3c7",
   "metadata": {},
   "source": []
  },
  {
   "cell_type": "markdown",
   "id": "0a6e0e61",
   "metadata": {},
   "source": []
  },
  {
   "cell_type": "markdown",
   "id": "8a535071",
   "metadata": {},
   "source": []
  },
  {
   "cell_type": "code",
   "execution_count": 33,
   "id": "54cc6951",
   "metadata": {},
   "outputs": [
    {
     "data": {
      "application/vnd.microsoft.datawrangler.viewer.v0+json": {
       "columns": [
        {
         "name": "avg_passengers_per_flight",
         "rawType": "Int64",
         "type": "integer"
        },
        {
         "name": "count",
         "rawType": "Int64",
         "type": "integer"
        }
       ],
       "ref": "dea1f2d3-450d-4475-9fc8-657b2a217bb9",
       "rows": [
        [
         "0",
         "74957"
        ],
        [
         "2",
         "10063"
        ],
        [
         "1",
         "8330"
        ],
        [
         "4",
         "6160"
        ],
        [
         "3",
         "5734"
        ],
        [
         "5",
         "3428"
        ],
        [
         "148",
         "3352"
        ],
        [
         "146",
         "3342"
        ],
        [
         "150",
         "3316"
        ],
        [
         "142",
         "3244"
        ]
       ],
       "shape": {
        "columns": 1,
        "rows": 10
       }
      },
      "text/plain": [
       "avg_passengers_per_flight\n",
       "0      74957\n",
       "2      10063\n",
       "1       8330\n",
       "4       6160\n",
       "3       5734\n",
       "5       3428\n",
       "148     3352\n",
       "146     3342\n",
       "150     3316\n",
       "142     3244\n",
       "Name: count, dtype: Int64"
      ]
     },
     "execution_count": 33,
     "metadata": {},
     "output_type": "execute_result"
    }
   ],
   "source": [
    "data[\"avg_passengers_per_flight\"].value_counts()[:10]"
   ]
  },
  {
   "cell_type": "code",
   "execution_count": 34,
   "id": "d880c5ce",
   "metadata": {},
   "outputs": [
    {
     "data": {
      "application/vnd.microsoft.datawrangler.viewer.v0+json": {
       "columns": [
        {
         "name": "freight",
         "rawType": "float64",
         "type": "float"
        },
        {
         "name": "count",
         "rawType": "int64",
         "type": "integer"
        }
       ],
       "ref": "ee484a1b-0186-4c1c-82fa-9a3dc83e5e15",
       "rows": [
        [
         "0.0",
         "252487"
        ],
        [
         "1.0",
         "1666"
        ],
        [
         "2.0",
         "1243"
        ],
        [
         "3.0",
         "1104"
        ],
        [
         "5.0",
         "877"
        ],
        [
         "4.0",
         "837"
        ],
        [
         "6.0",
         "701"
        ],
        [
         "10.0",
         "550"
        ],
        [
         "7.0",
         "516"
        ],
        [
         "12.0",
         "486"
        ]
       ],
       "shape": {
        "columns": 1,
        "rows": 10
       }
      },
      "text/plain": [
       "freight\n",
       "0.0     252487\n",
       "1.0       1666\n",
       "2.0       1243\n",
       "3.0       1104\n",
       "5.0        877\n",
       "4.0        837\n",
       "6.0        701\n",
       "10.0       550\n",
       "7.0        516\n",
       "12.0       486\n",
       "Name: count, dtype: int64"
      ]
     },
     "execution_count": 34,
     "metadata": {},
     "output_type": "execute_result"
    }
   ],
   "source": [
    "data[\"freight\"].value_counts().iloc[:10]"
   ]
  },
  {
   "cell_type": "code",
   "execution_count": 35,
   "id": "5e1ba233",
   "metadata": {},
   "outputs": [
    {
     "data": {
      "image/png": "[encoded data removed]",
      "text/plain": [
       "<Figure size 800x500 with 1 Axes>"
      ]
     },
     "metadata": {},
     "output_type": "display_data"
    }
   ],
   "source": [
    "# Define bins and labels\n",
    "bins = [-1, 0, 30, 60, 90, 120, 150, 180, 210, data[\"avg_passengers_per_flight\"].max()]\n",
    "labels = [\"0\", \"1–30\", \"31–60\", \"61–90\", \"91–120\", \"121–150\", \"151-180\", \"181-210\", \">210\"]\n",
    "\n",
    "# Assign average passengers to bins\n",
    "data[\"avg_passengers_binned\"] = pd.cut(data[\"avg_passengers_per_flight\"], bins=bins, labels=labels)\n",
    "\n",
    "# Count passengers in each bin\n",
    "counts = data[\"avg_passengers_binned\"].value_counts().sort_index()\n",
    "\n",
    "# Visualize the distribution\n",
    "counts.plot(kind=\"bar\", figsize=(8,5))\n",
    "plt.xlabel(\"Average Passenger Count (Bins)\")\n",
    "plt.ylabel(\"Count\")\n",
    "plt.title(\"Distribution of average Passengers by Bins\")\n",
    "plt.show()"
   ]
  },
  {
   "cell_type": "code",
   "execution_count": 36,
   "id": "a9469729",
   "metadata": {},
   "outputs": [],
   "source": [
    "data[\"route\"] = data[\"origin\"] + \"-\" + data[\"dest\"]"
   ]
  },
  {
   "cell_type": "code",
   "execution_count": 37,
   "id": "83feea59",
   "metadata": {},
   "outputs": [
    {
     "data": {
      "application/vnd.microsoft.datawrangler.viewer.v0+json": {
       "columns": [
        {
         "name": "index",
         "rawType": "int64",
         "type": "integer"
        },
        {
         "name": "departures_scheduled",
         "rawType": "float64",
         "type": "float"
        },
        {
         "name": "departures_performed",
         "rawType": "float64",
         "type": "float"
        },
        {
         "name": "payload",
         "rawType": "float64",
         "type": "float"
        },
        {
         "name": "seats",
         "rawType": "float64",
         "type": "float"
        },
        {
         "name": "passengers",
         "rawType": "float64",
         "type": "float"
        },
        {
         "name": "freight",
         "rawType": "float64",
         "type": "float"
        },
        {
         "name": "mail",
         "rawType": "float64",
         "type": "float"
        },
        {
         "name": "distance",
         "rawType": "float64",
         "type": "float"
        },
        {
         "name": "ramp_to_ramp",
         "rawType": "float64",
         "type": "float"
        },
        {
         "name": "air_time",
         "rawType": "float64",
         "type": "float"
        },
        {
         "name": "unique_carrier",
         "rawType": "object",
         "type": "string"
        },
        {
         "name": "unique_carrier_name",
         "rawType": "object",
         "type": "string"
        },
        {
         "name": "carrier_group",
         "rawType": "int64",
         "type": "integer"
        },
        {
         "name": "origin_airport_id",
         "rawType": "int64",
         "type": "integer"
        },
        {
         "name": "origin",
         "rawType": "object",
         "type": "string"
        },
        {
         "name": "origin_city_name",
         "rawType": "object",
         "type": "string"
        },
        {
         "name": "dest_airport_id",
         "rawType": "int64",
         "type": "integer"
        },
        {
         "name": "dest",
         "rawType": "object",
         "type": "string"
        },
        {
         "name": "dest_city_name",
         "rawType": "object",
         "type": "string"
        },
        {
         "name": "aircraft_type",
         "rawType": "int64",
         "type": "integer"
        },
        {
         "name": "aircraft_config",
         "rawType": "int64",
         "type": "integer"
        },
        {
         "name": "year",
         "rawType": "int64",
         "type": "integer"
        },
        {
         "name": "month",
         "rawType": "int64",
         "type": "integer"
        },
        {
         "name": "avg_passengers_per_flight",
         "rawType": "Int64",
         "type": "integer"
        },
        {
         "name": "avg_seats_per_flight",
         "rawType": "Int64",
         "type": "integer"
        },
        {
         "name": "avg_passengers_binned",
         "rawType": "category",
         "type": "unknown"
        },
        {
         "name": "route",
         "rawType": "object",
         "type": "string"
        }
       ],
       "ref": "2d33099d-7d44-4050-ba33-5375d3cc92b2",
       "rows": [
        [
         "0",
         "0.0",
         "0.0",
         "0.0",
         "0.0",
         "0.0",
         "0.0",
         "0.0",
         "15.0",
         "0.0",
         "0.0",
         "DL",
         "Delta Air Lines Inc.",
         "3",
         "13930",
         "ORD",
         "Chicago, IL",
         "13232",
         "MDW",
         "Chicago, IL",
         "622",
         "1",
         "2024",
         "10",
         null,
         null,
         null,
         "ORD-MDW"
        ],
        [
         "1",
         "0.0",
         "0.0",
         "0.0",
         "0.0",
         "0.0",
         "0.0",
         "0.0",
         "17.0",
         "0.0",
         "0.0",
         "NEW",
         "New England Airlines Inc.",
         "1",
         "10613",
         "BID",
         "Block Island, RI",
         "15855",
         "WST",
         "Westerly, RI",
         "79",
         "1",
         "2024",
         "1",
         null,
         null,
         null,
         "BID-WST"
        ],
        [
         "2",
         "0.0",
         "0.0",
         "0.0",
         "0.0",
         "0.0",
         "0.0",
         "0.0",
         "17.0",
         "0.0",
         "0.0",
         "NEW",
         "New England Airlines Inc.",
         "1",
         "10613",
         "BID",
         "Block Island, RI",
         "15855",
         "WST",
         "Westerly, RI",
         "79",
         "1",
         "2024",
         "7",
         null,
         null,
         null,
         "BID-WST"
        ],
        [
         "3",
         "0.0",
         "0.0",
         "0.0",
         "0.0",
         "0.0",
         "0.0",
         "0.0",
         "17.0",
         "0.0",
         "0.0",
         "NEW",
         "New England Airlines Inc.",
         "1",
         "10613",
         "BID",
         "Block Island, RI",
         "15855",
         "WST",
         "Westerly, RI",
         "79",
         "1",
         "2024",
         "8",
         null,
         null,
         null,
         "BID-WST"
        ],
        [
         "4",
         "0.0",
         "0.0",
         "0.0",
         "0.0",
         "0.0",
         "0.0",
         "0.0",
         "17.0",
         "0.0",
         "0.0",
         "NEW",
         "New England Airlines Inc.",
         "1",
         "10613",
         "BID",
         "Block Island, RI",
         "15855",
         "WST",
         "Westerly, RI",
         "79",
         "1",
         "2024",
         "12",
         null,
         null,
         null,
         "BID-WST"
        ]
       ],
       "shape": {
        "columns": 27,
        "rows": 5
       }
      },
      "text/html": [
       "<div>\n",
       "<style scoped>\n",
       "    .dataframe tbody tr th:only-of-type {\n",
       "        vertical-align: middle;\n",
       "    }\n",
       "\n",
       "    .dataframe tbody tr th {\n",
       "        vertical-align: top;\n",
       "    }\n",
       "\n",
       "    .dataframe thead th {\n",
       "        text-align: right;\n",
       "    }\n",
       "</style>\n",
       "<table border=\"1\" class=\"dataframe\">\n",
       "  <thead>\n",
       "    <tr style=\"text-align: right;\">\n",
       "      <th></th>\n",
       "      <th>departures_scheduled</th>\n",
       "      <th>departures_performed</th>\n",
       "      <th>payload</th>\n",
       "      <th>seats</th>\n",
       "      <th>passengers</th>\n",
       "      <th>freight</th>\n",
       "      <th>mail</th>\n",
       "      <th>distance</th>\n",
       "      <th>ramp_to_ramp</th>\n",
       "      <th>air_time</th>\n",
       "      <th>...</th>\n",
       "      <th>dest</th>\n",
       "      <th>dest_city_name</th>\n",
       "      <th>aircraft_type</th>\n",
       "      <th>aircraft_config</th>\n",
       "      <th>year</th>\n",
       "      <th>month</th>\n",
       "      <th>avg_passengers_per_flight</th>\n",
       "      <th>avg_seats_per_flight</th>\n",
       "      <th>avg_passengers_binned</th>\n",
       "      <th>route</th>\n",
       "    </tr>\n",
       "  </thead>\n",
       "  <tbody>\n",
       "    <tr>\n",
       "      <th>0</th>\n",
       "      <td>0.0</td>\n",
       "      <td>0.0</td>\n",
       "      <td>0.0</td>\n",
       "      <td>0.0</td>\n",
       "      <td>0.0</td>\n",
       "      <td>0.0</td>\n",
       "      <td>0.0</td>\n",
       "      <td>15.0</td>\n",
       "      <td>0.0</td>\n",
       "      <td>0.0</td>\n",
       "      <td>...</td>\n",
       "      <td>MDW</td>\n",
       "      <td>Chicago, IL</td>\n",
       "      <td>622</td>\n",
       "      <td>1</td>\n",
       "      <td>2024</td>\n",
       "      <td>10</td>\n",
       "      <td>&lt;NA&gt;</td>\n",
       "      <td>&lt;NA&gt;</td>\n",
       "      <td>NaN</td>\n",
       "      <td>ORD-MDW</td>\n",
       "    </tr>\n",
       "    <tr>\n",
       "      <th>1</th>\n",
       "      <td>0.0</td>\n",
       "      <td>0.0</td>\n",
       "      <td>0.0</td>\n",
       "      <td>0.0</td>\n",
       "      <td>0.0</td>\n",
       "      <td>0.0</td>\n",
       "      <td>0.0</td>\n",
       "      <td>17.0</td>\n",
       "      <td>0.0</td>\n",
       "      <td>0.0</td>\n",
       "      <td>...</td>\n",
       "      <td>WST</td>\n",
       "      <td>Westerly, RI</td>\n",
       "      <td>79</td>\n",
       "      <td>1</td>\n",
       "      <td>2024</td>\n",
       "      <td>1</td>\n",
       "      <td>&lt;NA&gt;</td>\n",
       "      <td>&lt;NA&gt;</td>\n",
       "      <td>NaN</td>\n",
       "      <td>BID-WST</td>\n",
       "    </tr>\n",
       "    <tr>\n",
       "      <th>2</th>\n",
       "      <td>0.0</td>\n",
       "      <td>0.0</td>\n",
       "      <td>0.0</td>\n",
       "      <td>0.0</td>\n",
       "      <td>0.0</td>\n",
       "      <td>0.0</td>\n",
       "      <td>0.0</td>\n",
       "      <td>17.0</td>\n",
       "      <td>0.0</td>\n",
       "      <td>0.0</td>\n",
       "      <td>...</td>\n",
       "      <td>WST</td>\n",
       "      <td>Westerly, RI</td>\n",
       "      <td>79</td>\n",
       "      <td>1</td>\n",
       "      <td>2024</td>\n",
       "      <td>7</td>\n",
       "      <td>&lt;NA&gt;</td>\n",
       "      <td>&lt;NA&gt;</td>\n",
       "      <td>NaN</td>\n",
       "      <td>BID-WST</td>\n",
       "    </tr>\n",
       "    <tr>\n",
       "      <th>3</th>\n",
       "      <td>0.0</td>\n",
       "      <td>0.0</td>\n",
       "      <td>0.0</td>\n",
       "      <td>0.0</td>\n",
       "      <td>0.0</td>\n",
       "      <td>0.0</td>\n",
       "      <td>0.0</td>\n",
       "      <td>17.0</td>\n",
       "      <td>0.0</td>\n",
       "      <td>0.0</td>\n",
       "      <td>...</td>\n",
       "      <td>WST</td>\n",
       "      <td>Westerly, RI</td>\n",
       "      <td>79</td>\n",
       "      <td>1</td>\n",
       "      <td>2024</td>\n",
       "      <td>8</td>\n",
       "      <td>&lt;NA&gt;</td>\n",
       "      <td>&lt;NA&gt;</td>\n",
       "      <td>NaN</td>\n",
       "      <td>BID-WST</td>\n",
       "    </tr>\n",
       "    <tr>\n",
       "      <th>4</th>\n",
       "      <td>0.0</td>\n",
       "      <td>0.0</td>\n",
       "      <td>0.0</td>\n",
       "      <td>0.0</td>\n",
       "      <td>0.0</td>\n",
       "      <td>0.0</td>\n",
       "      <td>0.0</td>\n",
       "      <td>17.0</td>\n",
       "      <td>0.0</td>\n",
       "      <td>0.0</td>\n",
       "      <td>...</td>\n",
       "      <td>WST</td>\n",
       "      <td>Westerly, RI</td>\n",
       "      <td>79</td>\n",
       "      <td>1</td>\n",
       "      <td>2024</td>\n",
       "      <td>12</td>\n",
       "      <td>&lt;NA&gt;</td>\n",
       "      <td>&lt;NA&gt;</td>\n",
       "      <td>NaN</td>\n",
       "      <td>BID-WST</td>\n",
       "    </tr>\n",
       "  </tbody>\n",
       "</table>\n",
       "<p>5 rows × 27 columns</p>\n",
       "</div>"
      ],
      "text/plain": [
       "   departures_scheduled  departures_performed  payload  seats  passengers  \\\n",
       "0                   0.0                   0.0      0.0    0.0         0.0   \n",
       "1                   0.0                   0.0      0.0    0.0         0.0   \n",
       "2                   0.0                   0.0      0.0    0.0         0.0   \n",
       "3                   0.0                   0.0      0.0    0.0         0.0   \n",
       "4                   0.0                   0.0      0.0    0.0         0.0   \n",
       "\n",
       "   freight  mail  distance  ramp_to_ramp  air_time  ... dest dest_city_name  \\\n",
       "0      0.0   0.0      15.0           0.0       0.0  ...  MDW    Chicago, IL   \n",
       "1      0.0   0.0      17.0           0.0       0.0  ...  WST   Westerly, RI   \n",
       "2      0.0   0.0      17.0           0.0       0.0  ...  WST   Westerly, RI   \n",
       "3      0.0   0.0      17.0           0.0       0.0  ...  WST   Westerly, RI   \n",
       "4      0.0   0.0      17.0           0.0       0.0  ...  WST   Westerly, RI   \n",
       "\n",
       "   aircraft_type  aircraft_config  year month  avg_passengers_per_flight  \\\n",
       "0            622                1  2024    10                       <NA>   \n",
       "1             79                1  2024     1                       <NA>   \n",
       "2             79                1  2024     7                       <NA>   \n",
       "3             79                1  2024     8                       <NA>   \n",
       "4             79                1  2024    12                       <NA>   \n",
       "\n",
       "  avg_seats_per_flight avg_passengers_binned    route  \n",
       "0                 <NA>                   NaN  ORD-MDW  \n",
       "1                 <NA>                   NaN  BID-WST  \n",
       "2                 <NA>                   NaN  BID-WST  \n",
       "3                 <NA>                   NaN  BID-WST  \n",
       "4                 <NA>                   NaN  BID-WST  \n",
       "\n",
       "[5 rows x 27 columns]"
      ]
     },
     "execution_count": 37,
     "metadata": {},
     "output_type": "execute_result"
    }
   ],
   "source": [
    "data.head()"
   ]
  },
  {
   "cell_type": "code",
   "execution_count": 38,
   "id": "bbd02823",
   "metadata": {},
   "outputs": [
    {
     "data": {
      "application/vnd.microsoft.datawrangler.viewer.v0+json": {
       "columns": [
        {
         "name": "route",
         "rawType": "object",
         "type": "string"
        },
        {
         "name": "count",
         "rawType": "int64",
         "type": "integer"
        }
       ],
       "ref": "1de8378c-22f2-47ee-b39c-4d6d620fc382",
       "rows": [
        [
         "LAX-LAS",
         "391"
        ],
        [
         "LAS-LAX",
         "390"
        ],
        [
         "LAX-SFO",
         "385"
        ],
        [
         "SFO-LAX",
         "348"
        ],
        [
         "ANC-ORD",
         "345"
        ],
        [
         "IAH-DFW",
         "315"
        ],
        [
         "DFW-IAH",
         "304"
        ],
        [
         "DEN-SLC",
         "302"
        ],
        [
         "SLC-DEN",
         "296"
        ],
        [
         "MSP-ORD",
         "295"
        ]
       ],
       "shape": {
        "columns": 1,
        "rows": 10
       }
      },
      "text/plain": [
       "route\n",
       "LAX-LAS    391\n",
       "LAS-LAX    390\n",
       "LAX-SFO    385\n",
       "SFO-LAX    348\n",
       "ANC-ORD    345\n",
       "IAH-DFW    315\n",
       "DFW-IAH    304\n",
       "DEN-SLC    302\n",
       "SLC-DEN    296\n",
       "MSP-ORD    295\n",
       "Name: count, dtype: int64"
      ]
     },
     "execution_count": 38,
     "metadata": {},
     "output_type": "execute_result"
    }
   ],
   "source": [
    "data[\"route\"].value_counts()[:10]"
   ]
  },
  {
   "cell_type": "code",
   "execution_count": 39,
   "id": "8b393185",
   "metadata": {},
   "outputs": [
    {
     "name": "stdout",
     "output_type": "stream",
     "text": [
      "4148\n"
     ]
    }
   ],
   "source": [
    "same_route_count = (data[\"origin\"] == data[\"dest\"]).sum()\n",
    "print(same_route_count)"
   ]
  },
  {
   "cell_type": "code",
   "execution_count": 40,
   "id": "d2cb9930",
   "metadata": {},
   "outputs": [
    {
     "data": {
      "application/vnd.microsoft.datawrangler.viewer.v0+json": {
       "columns": [
        {
         "name": "index",
         "rawType": "int64",
         "type": "integer"
        },
        {
         "name": "departures_scheduled",
         "rawType": "float64",
         "type": "float"
        },
        {
         "name": "departures_performed",
         "rawType": "float64",
         "type": "float"
        },
        {
         "name": "payload",
         "rawType": "float64",
         "type": "float"
        },
        {
         "name": "seats",
         "rawType": "float64",
         "type": "float"
        },
        {
         "name": "passengers",
         "rawType": "float64",
         "type": "float"
        },
        {
         "name": "freight",
         "rawType": "float64",
         "type": "float"
        },
        {
         "name": "mail",
         "rawType": "float64",
         "type": "float"
        },
        {
         "name": "distance",
         "rawType": "float64",
         "type": "float"
        },
        {
         "name": "ramp_to_ramp",
         "rawType": "float64",
         "type": "float"
        },
        {
         "name": "air_time",
         "rawType": "float64",
         "type": "float"
        },
        {
         "name": "unique_carrier",
         "rawType": "object",
         "type": "string"
        },
        {
         "name": "unique_carrier_name",
         "rawType": "object",
         "type": "string"
        },
        {
         "name": "carrier_group",
         "rawType": "int64",
         "type": "integer"
        },
        {
         "name": "origin_airport_id",
         "rawType": "int64",
         "type": "integer"
        },
        {
         "name": "origin",
         "rawType": "object",
         "type": "string"
        },
        {
         "name": "origin_city_name",
         "rawType": "object",
         "type": "string"
        },
        {
         "name": "dest_airport_id",
         "rawType": "int64",
         "type": "integer"
        },
        {
         "name": "dest",
         "rawType": "object",
         "type": "string"
        },
        {
         "name": "dest_city_name",
         "rawType": "object",
         "type": "string"
        },
        {
         "name": "aircraft_type",
         "rawType": "int64",
         "type": "integer"
        },
        {
         "name": "aircraft_config",
         "rawType": "int64",
         "type": "integer"
        },
        {
         "name": "year",
         "rawType": "int64",
         "type": "integer"
        },
        {
         "name": "month",
         "rawType": "int64",
         "type": "integer"
        },
        {
         "name": "avg_passengers_per_flight",
         "rawType": "Int64",
         "type": "integer"
        },
        {
         "name": "avg_seats_per_flight",
         "rawType": "Int64",
         "type": "integer"
        },
        {
         "name": "avg_passengers_binned",
         "rawType": "category",
         "type": "unknown"
        },
        {
         "name": "route",
         "rawType": "object",
         "type": "string"
        }
       ],
       "ref": "c467cad9-974a-46b1-96b4-b6f255b40487",
       "rows": [
        [
         "164",
         "0.0",
         "1.0",
         "0.0",
         "0.0",
         "0.0",
         "0.0",
         "0.0",
         "0.0",
         "40.0",
         "38.0",
         "8V",
         "Wright Air Service",
         "1",
         "11630",
         "FAI",
         "Fairbanks, AK",
         "11630",
         "FAI",
         "Fairbanks, AK",
         "416",
         "2",
         "2024",
         "7",
         "0",
         "0",
         "0",
         "FAI-FAI"
        ],
        [
         "165",
         "0.0",
         "1.0",
         "0.0",
         "0.0",
         "0.0",
         "0.0",
         "0.0",
         "0.0",
         "216.0",
         "174.0",
         "X9",
         "Omni Air International LLC",
         "2",
         "10194",
         "AFW",
         "Dallas/Fort Worth, TX",
         "10194",
         "AFW",
         "Dallas/Fort Worth, TX",
         "626",
         "1",
         "2024",
         "3",
         "0",
         "0",
         "0",
         "AFW-AFW"
        ],
        [
         "363",
         "0.0",
         "1.0",
         "600.0",
         "3.0",
         "0.0",
         "0.0",
         "0.0",
         "0.0",
         "4.0",
         "3.0",
         "8V",
         "Wright Air Service",
         "1",
         "11630",
         "FAI",
         "Fairbanks, AK",
         "11630",
         "FAI",
         "Fairbanks, AK",
         "34",
         "1",
         "2024",
         "8",
         "0",
         "3",
         "0",
         "FAI-FAI"
        ],
        [
         "364",
         "0.0",
         "1.0",
         "600.0",
         "3.0",
         "0.0",
         "0.0",
         "0.0",
         "0.0",
         "60.0",
         "58.0",
         "8V",
         "Wright Air Service",
         "1",
         "10783",
         "BTT",
         "Bettles, AK",
         "10783",
         "BTT",
         "Bettles, AK",
         "34",
         "1",
         "2024",
         "8",
         "0",
         "3",
         "0",
         "BTT-BTT"
        ],
        [
         "380",
         "0.0",
         "1.0",
         "600.0",
         "3.0",
         "2.0",
         "0.0",
         "0.0",
         "0.0",
         "72.0",
         "68.0",
         "8E",
         "Bering Air Inc.",
         "1",
         "13873",
         "OME",
         "Nome, AK",
         "13873",
         "OME",
         "Nome, AK",
         "360",
         "1",
         "2024",
         "2",
         "2",
         "3",
         "1–30",
         "OME-OME"
        ],
        [
         "388",
         "0.0",
         "1.0",
         "750.0",
         "3.0",
         "0.0",
         "0.0",
         "0.0",
         "0.0",
         "50.0",
         "48.0",
         "8V",
         "Wright Air Service",
         "1",
         "13381",
         "MLY",
         "Manley Hot Springs, AK",
         "13381",
         "MLY",
         "Manley Hot Springs, AK",
         "34",
         "1",
         "2024",
         "6",
         "0",
         "3",
         "0",
         "MLY-MLY"
        ],
        [
         "449",
         "0.0",
         "1.0",
         "750.0",
         "3.0",
         "1.0",
         "0.0",
         "0.0",
         "0.0",
         "30.0",
         "28.0",
         "8V",
         "Wright Air Service",
         "1",
         "11630",
         "FAI",
         "Fairbanks, AK",
         "11630",
         "FAI",
         "Fairbanks, AK",
         "34",
         "1",
         "2024",
         "3",
         "1",
         "3",
         "1–30",
         "FAI-FAI"
        ],
        [
         "450",
         "0.0",
         "1.0",
         "750.0",
         "3.0",
         "1.0",
         "0.0",
         "0.0",
         "0.0",
         "85.0",
         "83.0",
         "8V",
         "Wright Air Service",
         "1",
         "11630",
         "FAI",
         "Fairbanks, AK",
         "11630",
         "FAI",
         "Fairbanks, AK",
         "34",
         "1",
         "2024",
         "10",
         "1",
         "3",
         "1–30",
         "FAI-FAI"
        ],
        [
         "476",
         "0.0",
         "1.0",
         "750.0",
         "3.0",
         "2.0",
         "0.0",
         "0.0",
         "0.0",
         "40.0",
         "38.0",
         "8V",
         "Wright Air Service",
         "1",
         "11630",
         "FAI",
         "Fairbanks, AK",
         "11630",
         "FAI",
         "Fairbanks, AK",
         "34",
         "1",
         "2024",
         "4",
         "2",
         "3",
         "1–30",
         "FAI-FAI"
        ],
        [
         "543",
         "0.0",
         "1.0",
         "750.0",
         "4.0",
         "2.0",
         "0.0",
         "0.0",
         "0.0",
         "30.0",
         "24.0",
         "J5",
         "Kalinin Aviation LLC d/b/a Alaska Seaplanes",
         "1",
         "12523",
         "JNU",
         "Juneau, AK",
         "12523",
         "JNU",
         "Juneau, AK",
         "35",
         "4",
         "2024",
         "3",
         "2",
         "4",
         "1–30",
         "JNU-JNU"
        ]
       ],
       "shape": {
        "columns": 27,
        "rows": 10
       }
      },
      "text/html": [
       "<div>\n",
       "<style scoped>\n",
       "    .dataframe tbody tr th:only-of-type {\n",
       "        vertical-align: middle;\n",
       "    }\n",
       "\n",
       "    .dataframe tbody tr th {\n",
       "        vertical-align: top;\n",
       "    }\n",
       "\n",
       "    .dataframe thead th {\n",
       "        text-align: right;\n",
       "    }\n",
       "</style>\n",
       "<table border=\"1\" class=\"dataframe\">\n",
       "  <thead>\n",
       "    <tr style=\"text-align: right;\">\n",
       "      <th></th>\n",
       "      <th>departures_scheduled</th>\n",
       "      <th>departures_performed</th>\n",
       "      <th>payload</th>\n",
       "      <th>seats</th>\n",
       "      <th>passengers</th>\n",
       "      <th>freight</th>\n",
       "      <th>mail</th>\n",
       "      <th>distance</th>\n",
       "      <th>ramp_to_ramp</th>\n",
       "      <th>air_time</th>\n",
       "      <th>...</th>\n",
       "      <th>dest</th>\n",
       "      <th>dest_city_name</th>\n",
       "      <th>aircraft_type</th>\n",
       "      <th>aircraft_config</th>\n",
       "      <th>year</th>\n",
       "      <th>month</th>\n",
       "      <th>avg_passengers_per_flight</th>\n",
       "      <th>avg_seats_per_flight</th>\n",
       "      <th>avg_passengers_binned</th>\n",
       "      <th>route</th>\n",
       "    </tr>\n",
       "  </thead>\n",
       "  <tbody>\n",
       "    <tr>\n",
       "      <th>164</th>\n",
       "      <td>0.0</td>\n",
       "      <td>1.0</td>\n",
       "      <td>0.0</td>\n",
       "      <td>0.0</td>\n",
       "      <td>0.0</td>\n",
       "      <td>0.0</td>\n",
       "      <td>0.0</td>\n",
       "      <td>0.0</td>\n",
       "      <td>40.0</td>\n",
       "      <td>38.0</td>\n",
       "      <td>...</td>\n",
       "      <td>FAI</td>\n",
       "      <td>Fairbanks, AK</td>\n",
       "      <td>416</td>\n",
       "      <td>2</td>\n",
       "      <td>2024</td>\n",
       "      <td>7</td>\n",
       "      <td>0</td>\n",
       "      <td>0</td>\n",
       "      <td>0</td>\n",
       "      <td>FAI-FAI</td>\n",
       "    </tr>\n",
       "    <tr>\n",
       "      <th>165</th>\n",
       "      <td>0.0</td>\n",
       "      <td>1.0</td>\n",
       "      <td>0.0</td>\n",
       "      <td>0.0</td>\n",
       "      <td>0.0</td>\n",
       "      <td>0.0</td>\n",
       "      <td>0.0</td>\n",
       "      <td>0.0</td>\n",
       "      <td>216.0</td>\n",
       "      <td>174.0</td>\n",
       "      <td>...</td>\n",
       "      <td>AFW</td>\n",
       "      <td>Dallas/Fort Worth, TX</td>\n",
       "      <td>626</td>\n",
       "      <td>1</td>\n",
       "      <td>2024</td>\n",
       "      <td>3</td>\n",
       "      <td>0</td>\n",
       "      <td>0</td>\n",
       "      <td>0</td>\n",
       "      <td>AFW-AFW</td>\n",
       "    </tr>\n",
       "    <tr>\n",
       "      <th>363</th>\n",
       "      <td>0.0</td>\n",
       "      <td>1.0</td>\n",
       "      <td>600.0</td>\n",
       "      <td>3.0</td>\n",
       "      <td>0.0</td>\n",
       "      <td>0.0</td>\n",
       "      <td>0.0</td>\n",
       "      <td>0.0</td>\n",
       "      <td>4.0</td>\n",
       "      <td>3.0</td>\n",
       "      <td>...</td>\n",
       "      <td>FAI</td>\n",
       "      <td>Fairbanks, AK</td>\n",
       "      <td>34</td>\n",
       "      <td>1</td>\n",
       "      <td>2024</td>\n",
       "      <td>8</td>\n",
       "      <td>0</td>\n",
       "      <td>3</td>\n",
       "      <td>0</td>\n",
       "      <td>FAI-FAI</td>\n",
       "    </tr>\n",
       "    <tr>\n",
       "      <th>364</th>\n",
       "      <td>0.0</td>\n",
       "      <td>1.0</td>\n",
       "      <td>600.0</td>\n",
       "      <td>3.0</td>\n",
       "      <td>0.0</td>\n",
       "      <td>0.0</td>\n",
       "      <td>0.0</td>\n",
       "      <td>0.0</td>\n",
       "      <td>60.0</td>\n",
       "      <td>58.0</td>\n",
       "      <td>...</td>\n",
       "      <td>BTT</td>\n",
       "      <td>Bettles, AK</td>\n",
       "      <td>34</td>\n",
       "      <td>1</td>\n",
       "      <td>2024</td>\n",
       "      <td>8</td>\n",
       "      <td>0</td>\n",
       "      <td>3</td>\n",
       "      <td>0</td>\n",
       "      <td>BTT-BTT</td>\n",
       "    </tr>\n",
       "    <tr>\n",
       "      <th>380</th>\n",
       "      <td>0.0</td>\n",
       "      <td>1.0</td>\n",
       "      <td>600.0</td>\n",
       "      <td>3.0</td>\n",
       "      <td>2.0</td>\n",
       "      <td>0.0</td>\n",
       "      <td>0.0</td>\n",
       "      <td>0.0</td>\n",
       "      <td>72.0</td>\n",
       "      <td>68.0</td>\n",
       "      <td>...</td>\n",
       "      <td>OME</td>\n",
       "      <td>Nome, AK</td>\n",
       "      <td>360</td>\n",
       "      <td>1</td>\n",
       "      <td>2024</td>\n",
       "      <td>2</td>\n",
       "      <td>2</td>\n",
       "      <td>3</td>\n",
       "      <td>1–30</td>\n",
       "      <td>OME-OME</td>\n",
       "    </tr>\n",
       "    <tr>\n",
       "      <th>388</th>\n",
       "      <td>0.0</td>\n",
       "      <td>1.0</td>\n",
       "      <td>750.0</td>\n",
       "      <td>3.0</td>\n",
       "      <td>0.0</td>\n",
       "      <td>0.0</td>\n",
       "      <td>0.0</td>\n",
       "      <td>0.0</td>\n",
       "      <td>50.0</td>\n",
       "      <td>48.0</td>\n",
       "      <td>...</td>\n",
       "      <td>MLY</td>\n",
       "      <td>Manley Hot Springs, AK</td>\n",
       "      <td>34</td>\n",
       "      <td>1</td>\n",
       "      <td>2024</td>\n",
       "      <td>6</td>\n",
       "      <td>0</td>\n",
       "      <td>3</td>\n",
       "      <td>0</td>\n",
       "      <td>MLY-MLY</td>\n",
       "    </tr>\n",
       "    <tr>\n",
       "      <th>449</th>\n",
       "      <td>0.0</td>\n",
       "      <td>1.0</td>\n",
       "      <td>750.0</td>\n",
       "      <td>3.0</td>\n",
       "      <td>1.0</td>\n",
       "      <td>0.0</td>\n",
       "      <td>0.0</td>\n",
       "      <td>0.0</td>\n",
       "      <td>30.0</td>\n",
       "      <td>28.0</td>\n",
       "      <td>...</td>\n",
       "      <td>FAI</td>\n",
       "      <td>Fairbanks, AK</td>\n",
       "      <td>34</td>\n",
       "      <td>1</td>\n",
       "      <td>2024</td>\n",
       "      <td>3</td>\n",
       "      <td>1</td>\n",
       "      <td>3</td>\n",
       "      <td>1–30</td>\n",
       "      <td>FAI-FAI</td>\n",
       "    </tr>\n",
       "    <tr>\n",
       "      <th>450</th>\n",
       "      <td>0.0</td>\n",
       "      <td>1.0</td>\n",
       "      <td>750.0</td>\n",
       "      <td>3.0</td>\n",
       "      <td>1.0</td>\n",
       "      <td>0.0</td>\n",
       "      <td>0.0</td>\n",
       "      <td>0.0</td>\n",
       "      <td>85.0</td>\n",
       "      <td>83.0</td>\n",
       "      <td>...</td>\n",
       "      <td>FAI</td>\n",
       "      <td>Fairbanks, AK</td>\n",
       "      <td>34</td>\n",
       "      <td>1</td>\n",
       "      <td>2024</td>\n",
       "      <td>10</td>\n",
       "      <td>1</td>\n",
       "      <td>3</td>\n",
       "      <td>1–30</td>\n",
       "      <td>FAI-FAI</td>\n",
       "    </tr>\n",
       "    <tr>\n",
       "      <th>476</th>\n",
       "      <td>0.0</td>\n",
       "      <td>1.0</td>\n",
       "      <td>750.0</td>\n",
       "      <td>3.0</td>\n",
       "      <td>2.0</td>\n",
       "      <td>0.0</td>\n",
       "      <td>0.0</td>\n",
       "      <td>0.0</td>\n",
       "      <td>40.0</td>\n",
       "      <td>38.0</td>\n",
       "      <td>...</td>\n",
       "      <td>FAI</td>\n",
       "      <td>Fairbanks, AK</td>\n",
       "      <td>34</td>\n",
       "      <td>1</td>\n",
       "      <td>2024</td>\n",
       "      <td>4</td>\n",
       "      <td>2</td>\n",
       "      <td>3</td>\n",
       "      <td>1–30</td>\n",
       "      <td>FAI-FAI</td>\n",
       "    </tr>\n",
       "    <tr>\n",
       "      <th>543</th>\n",
       "      <td>0.0</td>\n",
       "      <td>1.0</td>\n",
       "      <td>750.0</td>\n",
       "      <td>4.0</td>\n",
       "      <td>2.0</td>\n",
       "      <td>0.0</td>\n",
       "      <td>0.0</td>\n",
       "      <td>0.0</td>\n",
       "      <td>30.0</td>\n",
       "      <td>24.0</td>\n",
       "      <td>...</td>\n",
       "      <td>JNU</td>\n",
       "      <td>Juneau, AK</td>\n",
       "      <td>35</td>\n",
       "      <td>4</td>\n",
       "      <td>2024</td>\n",
       "      <td>3</td>\n",
       "      <td>2</td>\n",
       "      <td>4</td>\n",
       "      <td>1–30</td>\n",
       "      <td>JNU-JNU</td>\n",
       "    </tr>\n",
       "  </tbody>\n",
       "</table>\n",
       "<p>10 rows × 27 columns</p>\n",
       "</div>"
      ],
      "text/plain": [
       "     departures_scheduled  departures_performed  payload  seats  passengers  \\\n",
       "164                   0.0                   1.0      0.0    0.0         0.0   \n",
       "165                   0.0                   1.0      0.0    0.0         0.0   \n",
       "363                   0.0                   1.0    600.0    3.0         0.0   \n",
       "364                   0.0                   1.0    600.0    3.0         0.0   \n",
       "380                   0.0                   1.0    600.0    3.0         2.0   \n",
       "388                   0.0                   1.0    750.0    3.0         0.0   \n",
       "449                   0.0                   1.0    750.0    3.0         1.0   \n",
       "450                   0.0                   1.0    750.0    3.0         1.0   \n",
       "476                   0.0                   1.0    750.0    3.0         2.0   \n",
       "543                   0.0                   1.0    750.0    4.0         2.0   \n",
       "\n",
       "     freight  mail  distance  ramp_to_ramp  air_time  ... dest  \\\n",
       "164      0.0   0.0       0.0          40.0      38.0  ...  FAI   \n",
       "165      0.0   0.0       0.0         216.0     174.0  ...  AFW   \n",
       "363      0.0   0.0       0.0           4.0       3.0  ...  FAI   \n",
       "364      0.0   0.0       0.0          60.0      58.0  ...  BTT   \n",
       "380      0.0   0.0       0.0          72.0      68.0  ...  OME   \n",
       "388      0.0   0.0       0.0          50.0      48.0  ...  MLY   \n",
       "449      0.0   0.0       0.0          30.0      28.0  ...  FAI   \n",
       "450      0.0   0.0       0.0          85.0      83.0  ...  FAI   \n",
       "476      0.0   0.0       0.0          40.0      38.0  ...  FAI   \n",
       "543      0.0   0.0       0.0          30.0      24.0  ...  JNU   \n",
       "\n",
       "             dest_city_name  aircraft_type  aircraft_config  year month  \\\n",
       "164           Fairbanks, AK            416                2  2024     7   \n",
       "165   Dallas/Fort Worth, TX            626                1  2024     3   \n",
       "363           Fairbanks, AK             34                1  2024     8   \n",
       "364             Bettles, AK             34                1  2024     8   \n",
       "380                Nome, AK            360                1  2024     2   \n",
       "388  Manley Hot Springs, AK             34                1  2024     6   \n",
       "449           Fairbanks, AK             34                1  2024     3   \n",
       "450           Fairbanks, AK             34                1  2024    10   \n",
       "476           Fairbanks, AK             34                1  2024     4   \n",
       "543              Juneau, AK             35                4  2024     3   \n",
       "\n",
       "     avg_passengers_per_flight avg_seats_per_flight avg_passengers_binned  \\\n",
       "164                          0                    0                     0   \n",
       "165                          0                    0                     0   \n",
       "363                          0                    3                     0   \n",
       "364                          0                    3                     0   \n",
       "380                          2                    3                  1–30   \n",
       "388                          0                    3                     0   \n",
       "449                          1                    3                  1–30   \n",
       "450                          1                    3                  1–30   \n",
       "476                          2                    3                  1–30   \n",
       "543                          2                    4                  1–30   \n",
       "\n",
       "       route  \n",
       "164  FAI-FAI  \n",
       "165  AFW-AFW  \n",
       "363  FAI-FAI  \n",
       "364  BTT-BTT  \n",
       "380  OME-OME  \n",
       "388  MLY-MLY  \n",
       "449  FAI-FAI  \n",
       "450  FAI-FAI  \n",
       "476  FAI-FAI  \n",
       "543  JNU-JNU  \n",
       "\n",
       "[10 rows x 27 columns]"
      ]
     },
     "execution_count": 40,
     "metadata": {},
     "output_type": "execute_result"
    }
   ],
   "source": [
    "data[data[\"origin\"] == data[\"dest\"]][:10]"
   ]
  },
  {
   "cell_type": "code",
   "execution_count": 41,
   "id": "35b0fb18",
   "metadata": {},
   "outputs": [
    {
     "name": "stdout",
     "output_type": "stream",
     "text": [
      "4148 rows (0.94 %) have origin = destination\n"
     ]
    }
   ],
   "source": [
    "percent_same = 100 * same_route_count / len(data)\n",
    "print(f\"{same_route_count} rows ({percent_same:.2f} %) have origin = destination\")"
   ]
  },
  {
   "cell_type": "code",
   "execution_count": 42,
   "id": "05ea0de3",
   "metadata": {},
   "outputs": [],
   "source": [
    "#Remove rows where ORIGIN equals DESTINATION\n",
    "#data = data[data[\"ORIGIN\"] != data[\"DESTINATION\"]]\n",
    "#oder: data_clean = data[data[\"ORIGIN\"] != data[\"DESTINATION\"]].copy()\n"
   ]
  },
  {
   "cell_type": "code",
   "execution_count": 43,
   "id": "31e91c97",
   "metadata": {},
   "outputs": [
    {
     "name": "stdout",
     "output_type": "stream",
     "text": [
      "Rows with departures_performed = 0: 860\n"
     ]
    }
   ],
   "source": [
    "count_departures_0 = (data[\"departures_performed\"] == 0).sum()\n",
    "print(\"Rows with departures_performed = 0:\", count_departures_0)"
   ]
  },
  {
   "cell_type": "code",
   "execution_count": 44,
   "id": "d97df194",
   "metadata": {},
   "outputs": [
    {
     "name": "stdout",
     "output_type": "stream",
     "text": [
      "Rows with passengers = 0: 73832\n"
     ]
    }
   ],
   "source": [
    "count_passengers_0 = (data[\"passengers\"] == 0).sum()\n",
    "print(\"Rows with passengers = 0:\", count_passengers_0)\n"
   ]
  },
  {
   "cell_type": "code",
   "execution_count": 45,
   "id": "1071dcab",
   "metadata": {},
   "outputs": [],
   "source": [
    "#Remove rows where DEPARTURES_PERFORMED or PASSENGERS equal 0\n",
    "#data = data[(data[\"DEPARTURES_PERFORMED\"] != 0) & (data[\"PASSENGERS\"] != 0)]\n",
    "#oder: data_clean = data[(data[\"DEPARTURES_PERFORMED\"] != 0) & (data[\"PASSENGERS\"] != 0)].copy()"
   ]
  },
  {
   "cell_type": "code",
   "execution_count": 46,
   "id": "37c543bc",
   "metadata": {},
   "outputs": [
    {
     "data": {
      "application/vnd.microsoft.datawrangler.viewer.v0+json": {
       "columns": [
        {
         "name": "aircraft_type",
         "rawType": "int64",
         "type": "integer"
        },
        {
         "name": "count",
         "rawType": "int64",
         "type": "integer"
        }
       ],
       "ref": "1aee1a60-83ec-4ef7-90b3-653039019af8",
       "rows": [
        [
         "614",
         "50779"
        ],
        [
         "694",
         "37766"
        ],
        [
         "673",
         "30198"
        ],
        [
         "838",
         "29329"
        ],
        [
         "612",
         "25002"
        ],
        [
         "698",
         "21360"
        ],
        [
         "699",
         "19300"
        ],
        [
         "888",
         "15138"
        ],
        [
         "721",
         "14666"
        ],
        [
         "416",
         "14095"
        ]
       ],
       "shape": {
        "columns": 1,
        "rows": 10
       }
      },
      "text/plain": [
       "aircraft_type\n",
       "614    50779\n",
       "694    37766\n",
       "673    30198\n",
       "838    29329\n",
       "612    25002\n",
       "698    21360\n",
       "699    19300\n",
       "888    15138\n",
       "721    14666\n",
       "416    14095\n",
       "Name: count, dtype: int64"
      ]
     },
     "execution_count": 46,
     "metadata": {},
     "output_type": "execute_result"
    }
   ],
   "source": [
    "# Count the number of occurrences of each aircraft type\n",
    "# For mapping to aircraft type name see file 'aircraft_type_mapping.csv'\n",
    "# e.g. 614 = B737-800, 694 = A320-100/200, 673 = ERJ-175...\n",
    "data[\"aircraft_type\"].value_counts()[:10]"
   ]
  },
  {
   "cell_type": "code",
   "execution_count": 47,
   "id": "96cd4e3d",
   "metadata": {},
   "outputs": [],
   "source": [
    "mapping = pd.read_csv(\"../data/aircraft_type_mapping.csv\")\n",
    "data[\"aircraft_type\"] = data[\"aircraft_type\"].astype(str).str.strip()\n",
    "mapping[\"Code\"] = mapping[\"Code\"].astype(str).str.strip()"
   ]
  },
  {
   "cell_type": "code",
   "execution_count": 48,
   "id": "0815616a",
   "metadata": {},
   "outputs": [],
   "source": [
    "# Merge\n",
    "data = data.merge(\n",
    "    mapping,\n",
    "    left_on=\"aircraft_type\",\n",
    "    right_on=\"Code\",\n",
    "    how=\"left\"\n",
    ")\n",
    "\n",
    "# New column 'aircraft_name' \n",
    "data[\"aircraft_name\"] = data[\"Description\"]\n",
    "\n",
    "# Delete unnecessary columns\n",
    "data = data.drop(columns=[\"Code\", \"Description\"])"
   ]
  },
  {
   "cell_type": "code",
   "execution_count": 49,
   "id": "4490d821",
   "metadata": {},
   "outputs": [
    {
     "data": {
      "application/vnd.microsoft.datawrangler.viewer.v0+json": {
       "columns": [
        {
         "name": "index",
         "rawType": "int64",
         "type": "integer"
        },
        {
         "name": "departures_scheduled",
         "rawType": "float64",
         "type": "float"
        },
        {
         "name": "departures_performed",
         "rawType": "float64",
         "type": "float"
        },
        {
         "name": "payload",
         "rawType": "float64",
         "type": "float"
        },
        {
         "name": "seats",
         "rawType": "float64",
         "type": "float"
        },
        {
         "name": "passengers",
         "rawType": "float64",
         "type": "float"
        },
        {
         "name": "freight",
         "rawType": "float64",
         "type": "float"
        },
        {
         "name": "mail",
         "rawType": "float64",
         "type": "float"
        },
        {
         "name": "distance",
         "rawType": "float64",
         "type": "float"
        },
        {
         "name": "ramp_to_ramp",
         "rawType": "float64",
         "type": "float"
        },
        {
         "name": "air_time",
         "rawType": "float64",
         "type": "float"
        },
        {
         "name": "unique_carrier",
         "rawType": "object",
         "type": "string"
        },
        {
         "name": "unique_carrier_name",
         "rawType": "object",
         "type": "string"
        },
        {
         "name": "carrier_group",
         "rawType": "int64",
         "type": "integer"
        },
        {
         "name": "origin_airport_id",
         "rawType": "int64",
         "type": "integer"
        },
        {
         "name": "origin",
         "rawType": "object",
         "type": "string"
        },
        {
         "name": "origin_city_name",
         "rawType": "object",
         "type": "string"
        },
        {
         "name": "dest_airport_id",
         "rawType": "int64",
         "type": "integer"
        },
        {
         "name": "dest",
         "rawType": "object",
         "type": "string"
        },
        {
         "name": "dest_city_name",
         "rawType": "object",
         "type": "string"
        },
        {
         "name": "aircraft_type",
         "rawType": "object",
         "type": "string"
        },
        {
         "name": "aircraft_config",
         "rawType": "int64",
         "type": "integer"
        },
        {
         "name": "year",
         "rawType": "int64",
         "type": "integer"
        },
        {
         "name": "month",
         "rawType": "int64",
         "type": "integer"
        },
        {
         "name": "avg_passengers_per_flight",
         "rawType": "Int64",
         "type": "integer"
        },
        {
         "name": "avg_seats_per_flight",
         "rawType": "Int64",
         "type": "integer"
        },
        {
         "name": "avg_passengers_binned",
         "rawType": "category",
         "type": "unknown"
        },
        {
         "name": "route",
         "rawType": "object",
         "type": "string"
        },
        {
         "name": "aircraft_name",
         "rawType": "object",
         "type": "string"
        }
       ],
       "ref": "209d9dc3-9b6f-4ba7-92a7-08a488e0fe5a",
       "rows": [
        [
         "0",
         "0.0",
         "0.0",
         "0.0",
         "0.0",
         "0.0",
         "0.0",
         "0.0",
         "15.0",
         "0.0",
         "0.0",
         "DL",
         "Delta Air Lines Inc.",
         "3",
         "13930",
         "ORD",
         "Chicago, IL",
         "13232",
         "MDW",
         "Chicago, IL",
         "622",
         "1",
         "2024",
         "10",
         null,
         null,
         null,
         "ORD-MDW",
         "Boeing 757-200"
        ],
        [
         "1",
         "0.0",
         "0.0",
         "0.0",
         "0.0",
         "0.0",
         "0.0",
         "0.0",
         "17.0",
         "0.0",
         "0.0",
         "NEW",
         "New England Airlines Inc.",
         "1",
         "10613",
         "BID",
         "Block Island, RI",
         "15855",
         "WST",
         "Westerly, RI",
         "79",
         "1",
         "2024",
         "1",
         null,
         null,
         null,
         "BID-WST",
         "Piper PA-32 (Cherokee 6)"
        ],
        [
         "2",
         "0.0",
         "0.0",
         "0.0",
         "0.0",
         "0.0",
         "0.0",
         "0.0",
         "17.0",
         "0.0",
         "0.0",
         "NEW",
         "New England Airlines Inc.",
         "1",
         "10613",
         "BID",
         "Block Island, RI",
         "15855",
         "WST",
         "Westerly, RI",
         "79",
         "1",
         "2024",
         "7",
         null,
         null,
         null,
         "BID-WST",
         "Piper PA-32 (Cherokee 6)"
        ],
        [
         "3",
         "0.0",
         "0.0",
         "0.0",
         "0.0",
         "0.0",
         "0.0",
         "0.0",
         "17.0",
         "0.0",
         "0.0",
         "NEW",
         "New England Airlines Inc.",
         "1",
         "10613",
         "BID",
         "Block Island, RI",
         "15855",
         "WST",
         "Westerly, RI",
         "79",
         "1",
         "2024",
         "8",
         null,
         null,
         null,
         "BID-WST",
         "Piper PA-32 (Cherokee 6)"
        ],
        [
         "4",
         "0.0",
         "0.0",
         "0.0",
         "0.0",
         "0.0",
         "0.0",
         "0.0",
         "17.0",
         "0.0",
         "0.0",
         "NEW",
         "New England Airlines Inc.",
         "1",
         "10613",
         "BID",
         "Block Island, RI",
         "15855",
         "WST",
         "Westerly, RI",
         "79",
         "1",
         "2024",
         "12",
         null,
         null,
         null,
         "BID-WST",
         "Piper PA-32 (Cherokee 6)"
        ]
       ],
       "shape": {
        "columns": 28,
        "rows": 5
       }
      },
      "text/html": [
       "<div>\n",
       "<style scoped>\n",
       "    .dataframe tbody tr th:only-of-type {\n",
       "        vertical-align: middle;\n",
       "    }\n",
       "\n",
       "    .dataframe tbody tr th {\n",
       "        vertical-align: top;\n",
       "    }\n",
       "\n",
       "    .dataframe thead th {\n",
       "        text-align: right;\n",
       "    }\n",
       "</style>\n",
       "<table border=\"1\" class=\"dataframe\">\n",
       "  <thead>\n",
       "    <tr style=\"text-align: right;\">\n",
       "      <th></th>\n",
       "      <th>departures_scheduled</th>\n",
       "      <th>departures_performed</th>\n",
       "      <th>payload</th>\n",
       "      <th>seats</th>\n",
       "      <th>passengers</th>\n",
       "      <th>freight</th>\n",
       "      <th>mail</th>\n",
       "      <th>distance</th>\n",
       "      <th>ramp_to_ramp</th>\n",
       "      <th>air_time</th>\n",
       "      <th>...</th>\n",
       "      <th>dest_city_name</th>\n",
       "      <th>aircraft_type</th>\n",
       "      <th>aircraft_config</th>\n",
       "      <th>year</th>\n",
       "      <th>month</th>\n",
       "      <th>avg_passengers_per_flight</th>\n",
       "      <th>avg_seats_per_flight</th>\n",
       "      <th>avg_passengers_binned</th>\n",
       "      <th>route</th>\n",
       "      <th>aircraft_name</th>\n",
       "    </tr>\n",
       "  </thead>\n",
       "  <tbody>\n",
       "    <tr>\n",
       "      <th>0</th>\n",
       "      <td>0.0</td>\n",
       "      <td>0.0</td>\n",
       "      <td>0.0</td>\n",
       "      <td>0.0</td>\n",
       "      <td>0.0</td>\n",
       "      <td>0.0</td>\n",
       "      <td>0.0</td>\n",
       "      <td>15.0</td>\n",
       "      <td>0.0</td>\n",
       "      <td>0.0</td>\n",
       "      <td>...</td>\n",
       "      <td>Chicago, IL</td>\n",
       "      <td>622</td>\n",
       "      <td>1</td>\n",
       "      <td>2024</td>\n",
       "      <td>10</td>\n",
       "      <td>&lt;NA&gt;</td>\n",
       "      <td>&lt;NA&gt;</td>\n",
       "      <td>NaN</td>\n",
       "      <td>ORD-MDW</td>\n",
       "      <td>Boeing 757-200</td>\n",
       "    </tr>\n",
       "    <tr>\n",
       "      <th>1</th>\n",
       "      <td>0.0</td>\n",
       "      <td>0.0</td>\n",
       "      <td>0.0</td>\n",
       "      <td>0.0</td>\n",
       "      <td>0.0</td>\n",
       "      <td>0.0</td>\n",
       "      <td>0.0</td>\n",
       "      <td>17.0</td>\n",
       "      <td>0.0</td>\n",
       "      <td>0.0</td>\n",
       "      <td>...</td>\n",
       "      <td>Westerly, RI</td>\n",
       "      <td>79</td>\n",
       "      <td>1</td>\n",
       "      <td>2024</td>\n",
       "      <td>1</td>\n",
       "      <td>&lt;NA&gt;</td>\n",
       "      <td>&lt;NA&gt;</td>\n",
       "      <td>NaN</td>\n",
       "      <td>BID-WST</td>\n",
       "      <td>Piper PA-32 (Cherokee 6)</td>\n",
       "    </tr>\n",
       "    <tr>\n",
       "      <th>2</th>\n",
       "      <td>0.0</td>\n",
       "      <td>0.0</td>\n",
       "      <td>0.0</td>\n",
       "      <td>0.0</td>\n",
       "      <td>0.0</td>\n",
       "      <td>0.0</td>\n",
       "      <td>0.0</td>\n",
       "      <td>17.0</td>\n",
       "      <td>0.0</td>\n",
       "      <td>0.0</td>\n",
       "      <td>...</td>\n",
       "      <td>Westerly, RI</td>\n",
       "      <td>79</td>\n",
       "      <td>1</td>\n",
       "      <td>2024</td>\n",
       "      <td>7</td>\n",
       "      <td>&lt;NA&gt;</td>\n",
       "      <td>&lt;NA&gt;</td>\n",
       "      <td>NaN</td>\n",
       "      <td>BID-WST</td>\n",
       "      <td>Piper PA-32 (Cherokee 6)</td>\n",
       "    </tr>\n",
       "    <tr>\n",
       "      <th>3</th>\n",
       "      <td>0.0</td>\n",
       "      <td>0.0</td>\n",
       "      <td>0.0</td>\n",
       "      <td>0.0</td>\n",
       "      <td>0.0</td>\n",
       "      <td>0.0</td>\n",
       "      <td>0.0</td>\n",
       "      <td>17.0</td>\n",
       "      <td>0.0</td>\n",
       "      <td>0.0</td>\n",
       "      <td>...</td>\n",
       "      <td>Westerly, RI</td>\n",
       "      <td>79</td>\n",
       "      <td>1</td>\n",
       "      <td>2024</td>\n",
       "      <td>8</td>\n",
       "      <td>&lt;NA&gt;</td>\n",
       "      <td>&lt;NA&gt;</td>\n",
       "      <td>NaN</td>\n",
       "      <td>BID-WST</td>\n",
       "      <td>Piper PA-32 (Cherokee 6)</td>\n",
       "    </tr>\n",
       "    <tr>\n",
       "      <th>4</th>\n",
       "      <td>0.0</td>\n",
       "      <td>0.0</td>\n",
       "      <td>0.0</td>\n",
       "      <td>0.0</td>\n",
       "      <td>0.0</td>\n",
       "      <td>0.0</td>\n",
       "      <td>0.0</td>\n",
       "      <td>17.0</td>\n",
       "      <td>0.0</td>\n",
       "      <td>0.0</td>\n",
       "      <td>...</td>\n",
       "      <td>Westerly, RI</td>\n",
       "      <td>79</td>\n",
       "      <td>1</td>\n",
       "      <td>2024</td>\n",
       "      <td>12</td>\n",
       "      <td>&lt;NA&gt;</td>\n",
       "      <td>&lt;NA&gt;</td>\n",
       "      <td>NaN</td>\n",
       "      <td>BID-WST</td>\n",
       "      <td>Piper PA-32 (Cherokee 6)</td>\n",
       "    </tr>\n",
       "  </tbody>\n",
       "</table>\n",
       "<p>5 rows × 28 columns</p>\n",
       "</div>"
      ],
      "text/plain": [
       "   departures_scheduled  departures_performed  payload  seats  passengers  \\\n",
       "0                   0.0                   0.0      0.0    0.0         0.0   \n",
       "1                   0.0                   0.0      0.0    0.0         0.0   \n",
       "2                   0.0                   0.0      0.0    0.0         0.0   \n",
       "3                   0.0                   0.0      0.0    0.0         0.0   \n",
       "4                   0.0                   0.0      0.0    0.0         0.0   \n",
       "\n",
       "   freight  mail  distance  ramp_to_ramp  air_time  ... dest_city_name  \\\n",
       "0      0.0   0.0      15.0           0.0       0.0  ...    Chicago, IL   \n",
       "1      0.0   0.0      17.0           0.0       0.0  ...   Westerly, RI   \n",
       "2      0.0   0.0      17.0           0.0       0.0  ...   Westerly, RI   \n",
       "3      0.0   0.0      17.0           0.0       0.0  ...   Westerly, RI   \n",
       "4      0.0   0.0      17.0           0.0       0.0  ...   Westerly, RI   \n",
       "\n",
       "  aircraft_type  aircraft_config  year month avg_passengers_per_flight  \\\n",
       "0           622                1  2024    10                      <NA>   \n",
       "1            79                1  2024     1                      <NA>   \n",
       "2            79                1  2024     7                      <NA>   \n",
       "3            79                1  2024     8                      <NA>   \n",
       "4            79                1  2024    12                      <NA>   \n",
       "\n",
       "   avg_seats_per_flight avg_passengers_binned    route  \\\n",
       "0                  <NA>                   NaN  ORD-MDW   \n",
       "1                  <NA>                   NaN  BID-WST   \n",
       "2                  <NA>                   NaN  BID-WST   \n",
       "3                  <NA>                   NaN  BID-WST   \n",
       "4                  <NA>                   NaN  BID-WST   \n",
       "\n",
       "              aircraft_name  \n",
       "0            Boeing 757-200  \n",
       "1  Piper PA-32 (Cherokee 6)  \n",
       "2  Piper PA-32 (Cherokee 6)  \n",
       "3  Piper PA-32 (Cherokee 6)  \n",
       "4  Piper PA-32 (Cherokee 6)  \n",
       "\n",
       "[5 rows x 28 columns]"
      ]
     },
     "execution_count": 49,
     "metadata": {},
     "output_type": "execute_result"
    }
   ],
   "source": [
    "data.head()"
   ]
  },
  {
   "cell_type": "code",
   "execution_count": 50,
   "id": "63f0a3ea",
   "metadata": {},
   "outputs": [],
   "source": [
    "# Sum departures_performed for each aircraft_name and get the top 15\n",
    "aircraft_departures = (\n",
    "    data.groupby(\"aircraft_name\")[\"departures_performed\"].sum()\n",
    "    .sort_values(ascending=False)\n",
    "    .iloc[:15]\n",
    ")\n"
   ]
  },
  {
   "cell_type": "code",
   "execution_count": 51,
   "id": "0c7ee534",
   "metadata": {},
   "outputs": [
    {
     "data": {
      "image/png": "[encoded data removed]",
      "text/plain": [
       "<Figure size 1000x600 with 1 Axes>"
      ]
     },
     "metadata": {},
     "output_type": "display_data"
    }
   ],
   "source": [
    "ax = aircraft_departures.plot(kind=\"barh\", figsize=(10,6))\n",
    "ax.ticklabel_format(style=\"plain\", axis=\"x\")\n",
    "xticks = ax.get_xticks()\n",
    "ax.set_xticks(xticks)\n",
    "ax.set_xticklabels([f\"{int(x):,}\".replace(\",\", \".\") for x in xticks])\n",
    "plt.xlabel(\"Performed Departures\")\n",
    "plt.ylabel(\"Aircraft Type\")\n",
    "plt.title(\"Top 15 Aircraft Types by Performed Departures\")\n",
    "plt.gca().invert_yaxis()\n",
    "plt.show()\n",
    "\n"
   ]
  },
  {
   "cell_type": "code",
   "execution_count": 52,
   "id": "c00ccddf",
   "metadata": {},
   "outputs": [],
   "source": [
    "aircraft_passengers = (\n",
    "    data.groupby(\"aircraft_name\")[\"passengers\"].sum()\n",
    "    .sort_values(ascending=False)\n",
    "    .iloc[:15]\n",
    ")"
   ]
  },
  {
   "cell_type": "code",
   "execution_count": 53,
   "id": "cfaa685a",
   "metadata": {},
   "outputs": [
    {
     "data": {
      "image/png": "[encoded data removed]",
      "text/plain": [
       "<Figure size 1000x600 with 1 Axes>"
      ]
     },
     "metadata": {},
     "output_type": "display_data"
    }
   ],
   "source": [
    "ax = aircraft_passengers.plot(kind=\"barh\", figsize=(10,6))\n",
    "ax.ticklabel_format(style=\"plain\", axis=\"x\")\n",
    "xticks = ax.get_xticks()\n",
    "ax.set_xticks(xticks)\n",
    "ax.set_xticklabels([f\"{int(x):,}\".replace(\",\", \".\") for x in xticks])\n",
    "\n",
    "plt.xlabel(\"Passengers\")\n",
    "plt.ylabel(\"Aircraft Type\")\n",
    "plt.title(\"Top 15 Aircraft Types by Passengers\")\n",
    "plt.gca().invert_yaxis()\n",
    "plt.show()"
   ]
  },
  {
   "cell_type": "code",
   "execution_count": 54,
   "id": "6fec3095",
   "metadata": {},
   "outputs": [],
   "source": [
    "route_passengers = (\n",
    "    data.groupby(\"route\")[\"passengers\"].sum()\n",
    "    .sort_values(ascending=False)\n",
    "    .iloc[:15]   \n",
    ")"
   ]
  },
  {
   "cell_type": "code",
   "execution_count": 55,
   "id": "4a953f8a",
   "metadata": {},
   "outputs": [
    {
     "data": {
      "image/png": "[encoded data removed]",
      "text/plain": [
       "<Figure size 1000x600 with 1 Axes>"
      ]
     },
     "metadata": {},
     "output_type": "display_data"
    }
   ],
   "source": [
    "ax = route_passengers.plot(kind=\"barh\", figsize=(10,6))\n",
    "ax.ticklabel_format(style=\"plain\", axis=\"x\")\n",
    "xticks = ax.get_xticks()\n",
    "ax.set_xticks(xticks)\n",
    "ax.set_xticklabels([f\"{int(x):,}\".replace(\",\", \".\") for x in xticks])\n",
    "plt.xlabel(\"Passengers\")\n",
    "plt.ylabel(\"Route\")\n",
    "plt.title(\"Top 15 Routes by Passengers\")\n",
    "plt.gca().invert_yaxis()\n",
    "plt.show()"
   ]
  },
  {
   "cell_type": "code",
   "execution_count": 56,
   "id": "7c85fb19",
   "metadata": {},
   "outputs": [],
   "source": [
    "route_avg_pax = (\n",
    "    data.groupby(\"route\")[\"avg_passengers_per_flight\"]\n",
    "    .mean()\n",
    "    .sort_values(ascending=False)\n",
    "    .iloc[:15]                    \n",
    ")"
   ]
  },
  {
   "cell_type": "code",
   "execution_count": 57,
   "id": "9e20e9f7",
   "metadata": {},
   "outputs": [
    {
     "data": {
      "image/png": "[encoded data removed]",
      "text/plain": [
       "<Figure size 1000x600 with 1 Axes>"
      ]
     },
     "metadata": {},
     "output_type": "display_data"
    }
   ],
   "source": [
    "ax = route_avg_pax.plot(kind=\"barh\", figsize=(10,6))\n",
    "ax.ticklabel_format(style=\"plain\", axis=\"x\") \n",
    "xticks = ax.get_xticks()\n",
    "ax.set_xticks(xticks)\n",
    "ax.set_xticklabels([f\"{x:,.0f}\".replace(\",\", \".\") for x in xticks])\n",
    "plt.xlabel(\"Ø Passengers per Flight\")\n",
    "plt.ylabel(\"Route\")\n",
    "plt.title(\"Top 15 Routes by Average Passengers per Flight\")\n",
    "plt.gca().invert_yaxis()\n",
    "plt.show()"
   ]
  },
  {
   "cell_type": "code",
   "execution_count": null,
   "id": "bc448201",
   "metadata": {},
   "outputs": [
    {
     "data": {
      "text/plain": [
       "<Figure size 1200x600 with 0 Axes>"
      ]
     },
     "metadata": {},
     "output_type": "display_data"
    },
    {
     "data": {
      "image/png": "[encoded data removed]",
      "text/plain": [
       "<Figure size 640x480 with 1 Axes>"
      ]
     },
     "metadata": {},
     "output_type": "display_data"
    }
   ],
   "source": [
    "# Route count\n",
    "top15_routes = data[\"route\"].value_counts().head(15).index\n",
    "subset = data[data[\"route\"].isin(top15_routes)]\n",
    "\n",
    "plt.figure(figsize=(12,6))\n",
    "subset.boxplot(column=\"avg_passengers_per_flight\", by=\"route\", rot=45)\n",
    "plt.ylabel(\"Avg passengers per flight\")\n",
    "plt.title(\"Distribution of average passengers per flight per route\")\n",
    "plt.suptitle(\"\")\n",
    "plt.show()"
   ]
  },
  {
   "cell_type": "code",
   "execution_count": 63,
   "id": "60f4c259",
   "metadata": {},
   "outputs": [
    {
     "data": {
      "text/plain": [
       "<Figure size 1200x600 with 0 Axes>"
      ]
     },
     "metadata": {},
     "output_type": "display_data"
    },
    {
     "data": {
      "image/png": "[encoded data removed]",
      "text/plain": [
       "<Figure size 640x480 with 1 Axes>"
      ]
     },
     "metadata": {},
     "output_type": "display_data"
    }
   ],
   "source": [
    "# Avg. passenger count\n",
    "route_avg = (\n",
    "    data.groupby(\"route\")[\"avg_passengers_per_flight\"]\n",
    "    .mean()\n",
    "    .sort_values(ascending=False)\n",
    ")\n",
    "top15_routes = route_avg.head(15).index\n",
    "subset = data[data[\"route\"].isin(top15_routes)].copy()\n",
    "subset[\"route\"] = pd.Categorical(subset[\"route\"], categories=list(top15_routes), ordered=True)\n",
    "plt.figure(figsize=(12,6))\n",
    "subset.boxplot(column=\"avg_passengers_per_flight\", by=\"route\", rot=45, grid=False)\n",
    "plt.ylabel(\"Avg passengers per flight\")\n",
    "plt.title(\"Distribution of average passengers per flight (Top 15 routes by avg)\")\n",
    "plt.suptitle(\"\")\n",
    "plt.show()\n",
    "\n"
   ]
  },
  {
   "cell_type": "code",
   "execution_count": 65,
   "id": "123e8ba0",
   "metadata": {},
   "outputs": [],
   "source": [
    "# Add pax_load_factor\n",
    "data[\"pax_load_factor\"] = (\n",
    "    (data[\"passengers\"] / data[\"seats\"].replace(0, np.nan))\n",
    "    .round(2)\n",
    ")"
   ]
  },
  {
   "cell_type": "code",
   "execution_count": 68,
   "id": "e2b44d36",
   "metadata": {},
   "outputs": [
    {
     "data": {
      "application/vnd.microsoft.datawrangler.viewer.v0+json": {
       "columns": [
        {
         "name": "index",
         "rawType": "int64",
         "type": "integer"
        },
        {
         "name": "departures_scheduled",
         "rawType": "float64",
         "type": "float"
        },
        {
         "name": "departures_performed",
         "rawType": "float64",
         "type": "float"
        },
        {
         "name": "payload",
         "rawType": "float64",
         "type": "float"
        },
        {
         "name": "seats",
         "rawType": "float64",
         "type": "float"
        },
        {
         "name": "passengers",
         "rawType": "float64",
         "type": "float"
        },
        {
         "name": "freight",
         "rawType": "float64",
         "type": "float"
        },
        {
         "name": "mail",
         "rawType": "float64",
         "type": "float"
        },
        {
         "name": "distance",
         "rawType": "float64",
         "type": "float"
        },
        {
         "name": "ramp_to_ramp",
         "rawType": "float64",
         "type": "float"
        },
        {
         "name": "air_time",
         "rawType": "float64",
         "type": "float"
        },
        {
         "name": "unique_carrier",
         "rawType": "object",
         "type": "string"
        },
        {
         "name": "unique_carrier_name",
         "rawType": "object",
         "type": "string"
        },
        {
         "name": "carrier_group",
         "rawType": "int64",
         "type": "integer"
        },
        {
         "name": "origin_airport_id",
         "rawType": "int64",
         "type": "integer"
        },
        {
         "name": "origin",
         "rawType": "object",
         "type": "string"
        },
        {
         "name": "origin_city_name",
         "rawType": "object",
         "type": "string"
        },
        {
         "name": "dest_airport_id",
         "rawType": "int64",
         "type": "integer"
        },
        {
         "name": "dest",
         "rawType": "object",
         "type": "string"
        },
        {
         "name": "dest_city_name",
         "rawType": "object",
         "type": "string"
        },
        {
         "name": "aircraft_type",
         "rawType": "object",
         "type": "string"
        },
        {
         "name": "aircraft_config",
         "rawType": "int64",
         "type": "integer"
        },
        {
         "name": "year",
         "rawType": "int64",
         "type": "integer"
        },
        {
         "name": "month",
         "rawType": "int64",
         "type": "integer"
        },
        {
         "name": "avg_passengers_per_flight",
         "rawType": "Int64",
         "type": "integer"
        },
        {
         "name": "avg_seats_per_flight",
         "rawType": "Int64",
         "type": "integer"
        },
        {
         "name": "avg_passengers_binned",
         "rawType": "category",
         "type": "unknown"
        },
        {
         "name": "route",
         "rawType": "object",
         "type": "string"
        },
        {
         "name": "aircraft_name",
         "rawType": "object",
         "type": "string"
        },
        {
         "name": "pax_load_factor",
         "rawType": "float64",
         "type": "float"
        }
       ],
       "ref": "c7295398-80c4-43ea-9e02-9327e537dc8d",
       "rows": [
        [
         "440741",
         "777.0",
         "777.0",
         "932400.0",
         "4135.0",
         "2545.0",
         "11093.0",
         "0.0",
         "11.0",
         "10302.0",
         "7971.0",
         "S2",
         "Star Marianas Air Inc.",
         "1",
         "14955",
         "SPN",
         "Saipan, TT",
         "15215",
         "TIQ",
         "Tinian, TT",
         "79",
         "1",
         "2024",
         "6",
         "3",
         "5",
         "1–30",
         "SPN-TIQ",
         "Piper PA-32 (Cherokee 6)",
         "0.62"
        ],
        [
         "440742",
         "801.0",
         "801.0",
         "961200.0",
         "4254.0",
         "2599.0",
         "16924.0",
         "0.0",
         "11.0",
         "10938.0",
         "8535.0",
         "S2",
         "Star Marianas Air Inc.",
         "1",
         "14955",
         "SPN",
         "Saipan, TT",
         "15215",
         "TIQ",
         "Tinian, TT",
         "79",
         "1",
         "2024",
         "5",
         "3",
         "5",
         "1–30",
         "SPN-TIQ",
         "Piper PA-32 (Cherokee 6)",
         "0.61"
        ],
        [
         "440743",
         "889.0",
         "886.0",
         "2360400.0",
         "7992.0",
         "5182.0",
         "10195.0",
         "0.0",
         "59.0",
         "33406.0",
         "24906.0",
         "GV",
         "Grant Aviation",
         "1",
         "10299",
         "ANC",
         "Anchorage, AK",
         "11555",
         "ENA",
         "Kenai, AK",
         "416",
         "1",
         "2024",
         "6",
         "6",
         "9",
         "1–30",
         "ANC-ENA",
         "Cessna 208 Caravan",
         "0.65"
        ],
        [
         "440744",
         "891.0",
         "889.0",
         "2367000.0",
         "8002.0",
         "4689.0",
         "5250.0",
         "0.0",
         "59.0",
         "33895.0",
         "26497.0",
         "GV",
         "Grant Aviation",
         "1",
         "11555",
         "ENA",
         "Kenai, AK",
         "10299",
         "ANC",
         "Anchorage, AK",
         "416",
         "1",
         "2024",
         "6",
         "5",
         "9",
         "1–30",
         "ENA-ANC",
         "Cessna 208 Caravan",
         "0.59"
        ],
        [
         "440745",
         "987.0",
         "986.0",
         "2900400.0",
         "8874.0",
         "7626.0",
         "6509.0",
         "0.0",
         "59.0",
         "38376.0",
         "29634.0",
         "GV",
         "Grant Aviation",
         "1",
         "11555",
         "ENA",
         "Kenai, AK",
         "10299",
         "ANC",
         "Anchorage, AK",
         "416",
         "1",
         "2024",
         "8",
         "8",
         "9",
         "1–30",
         "ENA-ANC",
         "Cessna 208 Caravan",
         "0.86"
        ],
        [
         "440746",
         "989.0",
         "987.0",
         "2902800.0",
         "8892.0",
         "5602.0",
         "8038.0",
         "0.0",
         "59.0",
         "38105.0",
         "28285.0",
         "GV",
         "Grant Aviation",
         "1",
         "10299",
         "ANC",
         "Anchorage, AK",
         "11555",
         "ENA",
         "Kenai, AK",
         "416",
         "1",
         "2024",
         "8",
         "6",
         "9",
         "1–30",
         "ANC-ENA",
         "Cessna 208 Caravan",
         "0.63"
        ],
        [
         "440747",
         "995.0",
         "994.0",
         "2737200.0",
         "8946.0",
         "7247.0",
         "10718.0",
         "0.0",
         "59.0",
         "37921.0",
         "27463.0",
         "GV",
         "Grant Aviation",
         "1",
         "10299",
         "ANC",
         "Anchorage, AK",
         "11555",
         "ENA",
         "Kenai, AK",
         "416",
         "1",
         "2024",
         "7",
         "7",
         "9",
         "1–30",
         "ANC-ENA",
         "Cessna 208 Caravan",
         "0.81"
        ],
        [
         "440748",
         "999.0",
         "998.0",
         "2748200.0",
         "8991.0",
         "6631.0",
         "5663.0",
         "0.0",
         "59.0",
         "39218.0",
         "30137.0",
         "GV",
         "Grant Aviation",
         "1",
         "11555",
         "ENA",
         "Kenai, AK",
         "10299",
         "ANC",
         "Anchorage, AK",
         "416",
         "1",
         "2024",
         "7",
         "7",
         "9",
         "1–30",
         "ENA-ANC",
         "Cessna 208 Caravan",
         "0.74"
        ],
        [
         "440749",
         "1522.0",
         "1522.0",
         "1826400.0",
         "8026.0",
         "5084.0",
         "10340.0",
         "0.0",
         "11.0",
         "17768.0",
         "13202.0",
         "S2",
         "Star Marianas Air Inc.",
         "1",
         "15215",
         "TIQ",
         "Tinian, TT",
         "14955",
         "SPN",
         "Saipan, TT",
         "79",
         "1",
         "2024",
         "7",
         "3",
         "5",
         "1–30",
         "TIQ-SPN",
         "Piper PA-32 (Cherokee 6)",
         "0.63"
        ],
        [
         "440750",
         "1574.0",
         "1574.0",
         "1888800.0",
         "8284.0",
         "5104.0",
         "29100.0",
         "0.0",
         "11.0",
         "20390.0",
         "15668.0",
         "S2",
         "Star Marianas Air Inc.",
         "1",
         "14955",
         "SPN",
         "Saipan, TT",
         "15215",
         "TIQ",
         "Tinian, TT",
         "79",
         "1",
         "2024",
         "7",
         "3",
         "5",
         "1–30",
         "SPN-TIQ",
         "Piper PA-32 (Cherokee 6)",
         "0.62"
        ]
       ],
       "shape": {
        "columns": 29,
        "rows": 10
       }
      },
      "text/html": [
       "<div>\n",
       "<style scoped>\n",
       "    .dataframe tbody tr th:only-of-type {\n",
       "        vertical-align: middle;\n",
       "    }\n",
       "\n",
       "    .dataframe tbody tr th {\n",
       "        vertical-align: top;\n",
       "    }\n",
       "\n",
       "    .dataframe thead th {\n",
       "        text-align: right;\n",
       "    }\n",
       "</style>\n",
       "<table border=\"1\" class=\"dataframe\">\n",
       "  <thead>\n",
       "    <tr style=\"text-align: right;\">\n",
       "      <th></th>\n",
       "      <th>departures_scheduled</th>\n",
       "      <th>departures_performed</th>\n",
       "      <th>payload</th>\n",
       "      <th>seats</th>\n",
       "      <th>passengers</th>\n",
       "      <th>freight</th>\n",
       "      <th>mail</th>\n",
       "      <th>distance</th>\n",
       "      <th>ramp_to_ramp</th>\n",
       "      <th>air_time</th>\n",
       "      <th>...</th>\n",
       "      <th>aircraft_type</th>\n",
       "      <th>aircraft_config</th>\n",
       "      <th>year</th>\n",
       "      <th>month</th>\n",
       "      <th>avg_passengers_per_flight</th>\n",
       "      <th>avg_seats_per_flight</th>\n",
       "      <th>avg_passengers_binned</th>\n",
       "      <th>route</th>\n",
       "      <th>aircraft_name</th>\n",
       "      <th>pax_load_factor</th>\n",
       "    </tr>\n",
       "  </thead>\n",
       "  <tbody>\n",
       "    <tr>\n",
       "      <th>440741</th>\n",
       "      <td>777.0</td>\n",
       "      <td>777.0</td>\n",
       "      <td>932400.0</td>\n",
       "      <td>4135.0</td>\n",
       "      <td>2545.0</td>\n",
       "      <td>11093.0</td>\n",
       "      <td>0.0</td>\n",
       "      <td>11.0</td>\n",
       "      <td>10302.0</td>\n",
       "      <td>7971.0</td>\n",
       "      <td>...</td>\n",
       "      <td>79</td>\n",
       "      <td>1</td>\n",
       "      <td>2024</td>\n",
       "      <td>6</td>\n",
       "      <td>3</td>\n",
       "      <td>5</td>\n",
       "      <td>1–30</td>\n",
       "      <td>SPN-TIQ</td>\n",
       "      <td>Piper PA-32 (Cherokee 6)</td>\n",
       "      <td>0.62</td>\n",
       "    </tr>\n",
       "    <tr>\n",
       "      <th>440742</th>\n",
       "      <td>801.0</td>\n",
       "      <td>801.0</td>\n",
       "      <td>961200.0</td>\n",
       "      <td>4254.0</td>\n",
       "      <td>2599.0</td>\n",
       "      <td>16924.0</td>\n",
       "      <td>0.0</td>\n",
       "      <td>11.0</td>\n",
       "      <td>10938.0</td>\n",
       "      <td>8535.0</td>\n",
       "      <td>...</td>\n",
       "      <td>79</td>\n",
       "      <td>1</td>\n",
       "      <td>2024</td>\n",
       "      <td>5</td>\n",
       "      <td>3</td>\n",
       "      <td>5</td>\n",
       "      <td>1–30</td>\n",
       "      <td>SPN-TIQ</td>\n",
       "      <td>Piper PA-32 (Cherokee 6)</td>\n",
       "      <td>0.61</td>\n",
       "    </tr>\n",
       "    <tr>\n",
       "      <th>440743</th>\n",
       "      <td>889.0</td>\n",
       "      <td>886.0</td>\n",
       "      <td>2360400.0</td>\n",
       "      <td>7992.0</td>\n",
       "      <td>5182.0</td>\n",
       "      <td>10195.0</td>\n",
       "      <td>0.0</td>\n",
       "      <td>59.0</td>\n",
       "      <td>33406.0</td>\n",
       "      <td>24906.0</td>\n",
       "      <td>...</td>\n",
       "      <td>416</td>\n",
       "      <td>1</td>\n",
       "      <td>2024</td>\n",
       "      <td>6</td>\n",
       "      <td>6</td>\n",
       "      <td>9</td>\n",
       "      <td>1–30</td>\n",
       "      <td>ANC-ENA</td>\n",
       "      <td>Cessna 208 Caravan</td>\n",
       "      <td>0.65</td>\n",
       "    </tr>\n",
       "    <tr>\n",
       "      <th>440744</th>\n",
       "      <td>891.0</td>\n",
       "      <td>889.0</td>\n",
       "      <td>2367000.0</td>\n",
       "      <td>8002.0</td>\n",
       "      <td>4689.0</td>\n",
       "      <td>5250.0</td>\n",
       "      <td>0.0</td>\n",
       "      <td>59.0</td>\n",
       "      <td>33895.0</td>\n",
       "      <td>26497.0</td>\n",
       "      <td>...</td>\n",
       "      <td>416</td>\n",
       "      <td>1</td>\n",
       "      <td>2024</td>\n",
       "      <td>6</td>\n",
       "      <td>5</td>\n",
       "      <td>9</td>\n",
       "      <td>1–30</td>\n",
       "      <td>ENA-ANC</td>\n",
       "      <td>Cessna 208 Caravan</td>\n",
       "      <td>0.59</td>\n",
       "    </tr>\n",
       "    <tr>\n",
       "      <th>440745</th>\n",
       "      <td>987.0</td>\n",
       "      <td>986.0</td>\n",
       "      <td>2900400.0</td>\n",
       "      <td>8874.0</td>\n",
       "      <td>7626.0</td>\n",
       "      <td>6509.0</td>\n",
       "      <td>0.0</td>\n",
       "      <td>59.0</td>\n",
       "      <td>38376.0</td>\n",
       "      <td>29634.0</td>\n",
       "      <td>...</td>\n",
       "      <td>416</td>\n",
       "      <td>1</td>\n",
       "      <td>2024</td>\n",
       "      <td>8</td>\n",
       "      <td>8</td>\n",
       "      <td>9</td>\n",
       "      <td>1–30</td>\n",
       "      <td>ENA-ANC</td>\n",
       "      <td>Cessna 208 Caravan</td>\n",
       "      <td>0.86</td>\n",
       "    </tr>\n",
       "    <tr>\n",
       "      <th>440746</th>\n",
       "      <td>989.0</td>\n",
       "      <td>987.0</td>\n",
       "      <td>2902800.0</td>\n",
       "      <td>8892.0</td>\n",
       "      <td>5602.0</td>\n",
       "      <td>8038.0</td>\n",
       "      <td>0.0</td>\n",
       "      <td>59.0</td>\n",
       "      <td>38105.0</td>\n",
       "      <td>28285.0</td>\n",
       "      <td>...</td>\n",
       "      <td>416</td>\n",
       "      <td>1</td>\n",
       "      <td>2024</td>\n",
       "      <td>8</td>\n",
       "      <td>6</td>\n",
       "      <td>9</td>\n",
       "      <td>1–30</td>\n",
       "      <td>ANC-ENA</td>\n",
       "      <td>Cessna 208 Caravan</td>\n",
       "      <td>0.63</td>\n",
       "    </tr>\n",
       "    <tr>\n",
       "      <th>440747</th>\n",
       "      <td>995.0</td>\n",
       "      <td>994.0</td>\n",
       "      <td>2737200.0</td>\n",
       "      <td>8946.0</td>\n",
       "      <td>7247.0</td>\n",
       "      <td>10718.0</td>\n",
       "      <td>0.0</td>\n",
       "      <td>59.0</td>\n",
       "      <td>37921.0</td>\n",
       "      <td>27463.0</td>\n",
       "      <td>...</td>\n",
       "      <td>416</td>\n",
       "      <td>1</td>\n",
       "      <td>2024</td>\n",
       "      <td>7</td>\n",
       "      <td>7</td>\n",
       "      <td>9</td>\n",
       "      <td>1–30</td>\n",
       "      <td>ANC-ENA</td>\n",
       "      <td>Cessna 208 Caravan</td>\n",
       "      <td>0.81</td>\n",
       "    </tr>\n",
       "    <tr>\n",
       "      <th>440748</th>\n",
       "      <td>999.0</td>\n",
       "      <td>998.0</td>\n",
       "      <td>2748200.0</td>\n",
       "      <td>8991.0</td>\n",
       "      <td>6631.0</td>\n",
       "      <td>5663.0</td>\n",
       "      <td>0.0</td>\n",
       "      <td>59.0</td>\n",
       "      <td>39218.0</td>\n",
       "      <td>30137.0</td>\n",
       "      <td>...</td>\n",
       "      <td>416</td>\n",
       "      <td>1</td>\n",
       "      <td>2024</td>\n",
       "      <td>7</td>\n",
       "      <td>7</td>\n",
       "      <td>9</td>\n",
       "      <td>1–30</td>\n",
       "      <td>ENA-ANC</td>\n",
       "      <td>Cessna 208 Caravan</td>\n",
       "      <td>0.74</td>\n",
       "    </tr>\n",
       "    <tr>\n",
       "      <th>440749</th>\n",
       "      <td>1522.0</td>\n",
       "      <td>1522.0</td>\n",
       "      <td>1826400.0</td>\n",
       "      <td>8026.0</td>\n",
       "      <td>5084.0</td>\n",
       "      <td>10340.0</td>\n",
       "      <td>0.0</td>\n",
       "      <td>11.0</td>\n",
       "      <td>17768.0</td>\n",
       "      <td>13202.0</td>\n",
       "      <td>...</td>\n",
       "      <td>79</td>\n",
       "      <td>1</td>\n",
       "      <td>2024</td>\n",
       "      <td>7</td>\n",
       "      <td>3</td>\n",
       "      <td>5</td>\n",
       "      <td>1–30</td>\n",
       "      <td>TIQ-SPN</td>\n",
       "      <td>Piper PA-32 (Cherokee 6)</td>\n",
       "      <td>0.63</td>\n",
       "    </tr>\n",
       "    <tr>\n",
       "      <th>440750</th>\n",
       "      <td>1574.0</td>\n",
       "      <td>1574.0</td>\n",
       "      <td>1888800.0</td>\n",
       "      <td>8284.0</td>\n",
       "      <td>5104.0</td>\n",
       "      <td>29100.0</td>\n",
       "      <td>0.0</td>\n",
       "      <td>11.0</td>\n",
       "      <td>20390.0</td>\n",
       "      <td>15668.0</td>\n",
       "      <td>...</td>\n",
       "      <td>79</td>\n",
       "      <td>1</td>\n",
       "      <td>2024</td>\n",
       "      <td>7</td>\n",
       "      <td>3</td>\n",
       "      <td>5</td>\n",
       "      <td>1–30</td>\n",
       "      <td>SPN-TIQ</td>\n",
       "      <td>Piper PA-32 (Cherokee 6)</td>\n",
       "      <td>0.62</td>\n",
       "    </tr>\n",
       "  </tbody>\n",
       "</table>\n",
       "<p>10 rows × 29 columns</p>\n",
       "</div>"
      ],
      "text/plain": [
       "        departures_scheduled  departures_performed    payload   seats  \\\n",
       "440741                 777.0                 777.0   932400.0  4135.0   \n",
       "440742                 801.0                 801.0   961200.0  4254.0   \n",
       "440743                 889.0                 886.0  2360400.0  7992.0   \n",
       "440744                 891.0                 889.0  2367000.0  8002.0   \n",
       "440745                 987.0                 986.0  2900400.0  8874.0   \n",
       "440746                 989.0                 987.0  2902800.0  8892.0   \n",
       "440747                 995.0                 994.0  2737200.0  8946.0   \n",
       "440748                 999.0                 998.0  2748200.0  8991.0   \n",
       "440749                1522.0                1522.0  1826400.0  8026.0   \n",
       "440750                1574.0                1574.0  1888800.0  8284.0   \n",
       "\n",
       "        passengers  freight  mail  distance  ramp_to_ramp  air_time  ...  \\\n",
       "440741      2545.0  11093.0   0.0      11.0       10302.0    7971.0  ...   \n",
       "440742      2599.0  16924.0   0.0      11.0       10938.0    8535.0  ...   \n",
       "440743      5182.0  10195.0   0.0      59.0       33406.0   24906.0  ...   \n",
       "440744      4689.0   5250.0   0.0      59.0       33895.0   26497.0  ...   \n",
       "440745      7626.0   6509.0   0.0      59.0       38376.0   29634.0  ...   \n",
       "440746      5602.0   8038.0   0.0      59.0       38105.0   28285.0  ...   \n",
       "440747      7247.0  10718.0   0.0      59.0       37921.0   27463.0  ...   \n",
       "440748      6631.0   5663.0   0.0      59.0       39218.0   30137.0  ...   \n",
       "440749      5084.0  10340.0   0.0      11.0       17768.0   13202.0  ...   \n",
       "440750      5104.0  29100.0   0.0      11.0       20390.0   15668.0  ...   \n",
       "\n",
       "       aircraft_type aircraft_config  year  month avg_passengers_per_flight  \\\n",
       "440741            79               1  2024      6                         3   \n",
       "440742            79               1  2024      5                         3   \n",
       "440743           416               1  2024      6                         6   \n",
       "440744           416               1  2024      6                         5   \n",
       "440745           416               1  2024      8                         8   \n",
       "440746           416               1  2024      8                         6   \n",
       "440747           416               1  2024      7                         7   \n",
       "440748           416               1  2024      7                         7   \n",
       "440749            79               1  2024      7                         3   \n",
       "440750            79               1  2024      7                         3   \n",
       "\n",
       "       avg_seats_per_flight  avg_passengers_binned    route  \\\n",
       "440741                    5                   1–30  SPN-TIQ   \n",
       "440742                    5                   1–30  SPN-TIQ   \n",
       "440743                    9                   1–30  ANC-ENA   \n",
       "440744                    9                   1–30  ENA-ANC   \n",
       "440745                    9                   1–30  ENA-ANC   \n",
       "440746                    9                   1–30  ANC-ENA   \n",
       "440747                    9                   1–30  ANC-ENA   \n",
       "440748                    9                   1–30  ENA-ANC   \n",
       "440749                    5                   1–30  TIQ-SPN   \n",
       "440750                    5                   1–30  SPN-TIQ   \n",
       "\n",
       "                   aircraft_name pax_load_factor  \n",
       "440741  Piper PA-32 (Cherokee 6)            0.62  \n",
       "440742  Piper PA-32 (Cherokee 6)            0.61  \n",
       "440743        Cessna 208 Caravan            0.65  \n",
       "440744        Cessna 208 Caravan            0.59  \n",
       "440745        Cessna 208 Caravan            0.86  \n",
       "440746        Cessna 208 Caravan            0.63  \n",
       "440747        Cessna 208 Caravan            0.81  \n",
       "440748        Cessna 208 Caravan            0.74  \n",
       "440749  Piper PA-32 (Cherokee 6)            0.63  \n",
       "440750  Piper PA-32 (Cherokee 6)            0.62  \n",
       "\n",
       "[10 rows x 29 columns]"
      ]
     },
     "execution_count": 68,
     "metadata": {},
     "output_type": "execute_result"
    }
   ],
   "source": [
    "data.tail(10)"
   ]
  },
  {
   "cell_type": "code",
   "execution_count": 73,
   "id": "efb1b415",
   "metadata": {},
   "outputs": [
    {
     "data": {
      "image/png": "[encoded data removed]",
      "text/plain": [
       "<Figure size 1000x600 with 1 Axes>"
      ]
     },
     "metadata": {},
     "output_type": "display_data"
    }
   ],
   "source": [
    "route_load_factor = (\n",
    "    data.groupby(\"route\")[[\"passengers\", \"seats\"]]\n",
    "    .sum()\n",
    "    .assign(pax_load_factor=lambda d: d[\"passengers\"] / d[\"seats\"])\n",
    "    .sort_values(\"pax_load_factor\", ascending=False)\n",
    "    .head(15)\n",
    ")\n",
    "ax = route_load_factor[\"pax_load_factor\"].plot(kind=\"barh\", figsize=(10,6))\n",
    "plt.ylabel(\"Route\")\n",
    "plt.xlabel(\"Average Load Factor\")\n",
    "plt.title(\"Top 15 Routes by Average Load Factor\")\n",
    "plt.gca().invert_yaxis()\n",
    "xticks = ax.get_xticks()\n",
    "ax.set_xticks(xticks)\n",
    "ax.set_xticklabels([f\"{x:.0%}\" for x in xticks])\n",
    "\n",
    "plt.show()"
   ]
  },
  {
   "cell_type": "code",
   "execution_count": null,
   "id": "e570a85a",
   "metadata": {},
   "outputs": [
    {
     "data": {
      "text/plain": [
       "<Figure size 1200x600 with 0 Axes>"
      ]
     },
     "metadata": {},
     "output_type": "display_data"
    },
    {
     "data": {
      "image/png": "[encoded data removed]",
      "text/plain": [
       "<Figure size 640x480 with 1 Axes>"
      ]
     },
     "metadata": {},
     "output_type": "display_data"
    }
   ],
   "source": [
    "# Pax Load Factor\n",
    "top15_routes_load_factor = route_load_factor.head(15).index\n",
    "subset = data[data[\"route\"].isin(top15_routes_load_factor)].copy()\n",
    "subset[\"route\"] = pd.Categorical(subset[\"route\"], categories=list(top15_routes_load_factor), ordered=True)\n",
    "\n",
    "plt.figure(figsize=(12,6))\n",
    "subset.boxplot(column=\"pax_load_factor\", by=\"route\", rot=45, grid=False)\n",
    "plt.ylabel(\"Pax Load Factor\")\n",
    "plt.title(\"Distribution of Pax Load Factor (Top 15 Routes by Weighted Avg)\")\n",
    "plt.suptitle(\"\")\n",
    "plt.show()\n",
    "\n"
   ]
  },
  {
   "cell_type": "code",
   "execution_count": 74,
   "id": "323b60ac",
   "metadata": {},
   "outputs": [
    {
     "name": "stdout",
     "output_type": "stream",
     "text": [
      "         route  passengers  seats  pax_load_factor\n",
      "1137   LCI-BGR         6.0    5.0             1.20\n",
      "1138   LCI-BGR         6.0    5.0             1.20\n",
      "4243   VNY-PGA         8.0    7.0             1.14\n",
      "4868   STX-STX         9.0    8.0             1.12\n",
      "4869   SJC-VNY         9.0    8.0             1.12\n",
      "7982   PAE-PSC         7.0    6.0             1.17\n",
      "7983   BFI-SUO         7.0    6.0             1.17\n",
      "7984   ACV-BFI         7.0    6.0             1.17\n",
      "7985   BFI-ACV         7.0    6.0             1.17\n",
      "7986   PAE-SQL         7.0    6.0             1.17\n",
      "8372   ARC-VEE        10.0    9.0             1.11\n",
      "15770  HPN-TEB         9.0    8.0             1.12\n",
      "15771  MVY-ACK         9.0    8.0             1.12\n",
      "15772  OXC-HPN         9.0    8.0             1.12\n",
      "15773  BED-ACK         9.0    8.0             1.12\n",
      "15774  ACK-BED         9.0    8.0             1.12\n",
      "15775  BDR-ACK         9.0    8.0             1.12\n",
      "15776  ACK-BDR         9.0    8.0             1.12\n",
      "15777  MVY-LGA         9.0    8.0             1.12\n",
      "15778  MVY-LGA         9.0    8.0             1.12\n"
     ]
    }
   ],
   "source": [
    "# Cases with Load Factor > 1 \n",
    "overs = data[data[\"pax_load_factor\"] > 1]\n",
    "print(overs[[\"route\", \"passengers\", \"seats\", \"pax_load_factor\"]].head(20))"
   ]
  },
  {
   "cell_type": "code",
   "execution_count": 75,
   "id": "e6a5fc91",
   "metadata": {},
   "outputs": [
    {
     "name": "stdout",
     "output_type": "stream",
     "text": [
      "Count: 62\n",
      "Share: 0.01%\n"
     ]
    }
   ],
   "source": [
    "count_over = (data[\"pax_load_factor\"] > 1.0).sum()\n",
    "percent_over = 100 * count_over / len(data)\n",
    "\n",
    "print(f\"Count: {count_over}\")\n",
    "print(f\"Share: {percent_over:.2f}%\")"
   ]
  },
  {
   "cell_type": "code",
   "execution_count": null,
   "id": "4677595a",
   "metadata": {},
   "outputs": [],
   "source": [
    "# Remove rows where pax_load_factor > 1.0?"
   ]
  },
  {
   "cell_type": "code",
   "execution_count": null,
   "id": "ca6ff09c",
   "metadata": {},
   "outputs": [],
   "source": []
  },
  {
   "cell_type": "markdown",
   "id": "0e7f0335",
   "metadata": {},
   "source": []
  },
  {
   "cell_type": "code",
   "execution_count": 58,
   "id": "d10ea030",
   "metadata": {},
   "outputs": [
    {
     "data": {
      "image/png": "[encoded data removed]",
      "text/plain": [
       "<Figure size 800x600 with 2 Axes>"
      ]
     },
     "metadata": {},
     "output_type": "display_data"
    }
   ],
   "source": [
    "pearson = data.select_dtypes('number').corr(method='pearson')\n",
    "plt.figure(figsize=(8,6))\n",
    "plt.imshow(pearson, cmap=\"coolwarm\", vmin=-1, vmax=1)\n",
    "plt.colorbar(label=\"Pearson correlation\")\n",
    "plt.xticks(range(len(pearson.columns)), pearson.columns, rotation=90)\n",
    "plt.yticks(range(len(pearson.index)), pearson.index)\n",
    "plt.title(\"Correlation matrix (Pearson)\")\n",
    "plt.show()\n",
    "\n"
   ]
  },
  {
   "cell_type": "code",
   "execution_count": 59,
   "id": "fe6e679e",
   "metadata": {},
   "outputs": [
    {
     "name": "stdout",
     "output_type": "stream",
     "text": [
      "                     var1                       var2      corr  abs_corr\n",
      "136          ramp_to_ramp                   air_time  0.992969  0.992969\n",
      "67             passengers                      seats  0.991495  0.991495\n",
      "16   departures_performed       departures_scheduled  0.980213  0.980213\n",
      "271  avg_seats_per_flight  avg_passengers_per_flight  0.895339  0.895339\n",
      "132          ramp_to_ramp                 passengers  0.848725  0.848725\n",
      "2    departures_scheduled                      seats  0.836495  0.836495\n",
      "131          ramp_to_ramp                      seats  0.834387  0.834387\n",
      "18   departures_performed                      seats  0.828825  0.828825\n",
      "64             passengers       departures_scheduled  0.822970  0.822970\n",
      "65             passengers       departures_performed  0.814817  0.814817\n"
     ]
    }
   ],
   "source": [
    "# Top 10 Correlations\n",
    "mask = ~np.eye(len(pearson), dtype=bool)\n",
    "pearson_long = (\n",
    "    pearson.where(mask)\n",
    "           .stack()\n",
    "           .reset_index()\n",
    ")\n",
    "pearson_long.columns = [\"var1\", \"var2\", \"corr\"]\n",
    "top10 = (\n",
    "    pearson_long\n",
    "    .assign(abs_corr=lambda d: d[\"corr\"].abs())\n",
    "    .sort_values(\"abs_corr\", ascending=False)\n",
    "    .drop_duplicates(subset=[\"abs_corr\"]) \n",
    "    .head(10)\n",
    ")\n",
    "\n",
    "print(top10)"
   ]
  }
 ],
 "metadata": {
  "kernelspec": {
   "display_name": ".venv",
   "language": "python",
   "name": "python3"
  },
  "language_info": {
   "codemirror_mode": {
    "name": "ipython",
    "version": 3
   },
   "file_extension": ".py",
   "mimetype": "text/x-python",
   "name": "python",
   "nbconvert_exporter": "python",
   "pygments_lexer": "ipython3",
   "version": "3.13.5"
  }
 },
 "nbformat": 4,
 "nbformat_minor": 5
}
